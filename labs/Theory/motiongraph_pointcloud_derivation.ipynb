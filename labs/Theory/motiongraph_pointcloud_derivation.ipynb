{
 "cells": [
  {
   "cell_type": "code",
   "execution_count": 1,
   "id": "bb101f03-21a9-4e9a-b182-7820f66c46da",
   "metadata": {
    "tags": []
   },
   "outputs": [],
   "source": [
    "import sympy as sm\n",
    "from IPython.display import Latex"
   ]
  },
  {
   "cell_type": "markdown",
   "id": "e503db63-7070-4009-970b-22aed328513f",
   "metadata": {},
   "source": [
    "# Motion Graph\n",
    "\n",
    "$$\\min_{\\theta,x_0,z_0} = \\sum_i w_i ||p_i - T_{\\theta,x_0,z_0}p_i'|| ^2$$\n",
    "\n",
    "closed-form solution :\n",
    "\n",
    "$$\n",
    "\\begin{align}\n",
    "\\theta &= \\arctan \\frac{\\sum_i w_i (x_i z'_i - x'_i z_i) - \\frac{1}{\\sum_i w_i} (\\overline{x} \\overline{z}' - \\overline{x}' \\overline{z})}{\\sum_i w_i (x_i x'_i + z_i z'_i) - \\frac{1}{\\sum_i w_i} (\\overline{x} \\overline{x}' + \\overline{z} \\overline{z}')}  \\\\\n",
    "x_0 &= \\frac{1}{\\sum_i w_i} \\left( \\overline{x} - \\overline{x}' \\cos(\\theta) - \\overline{z}' \\sin(\\theta) \\right) \\\\\n",
    "z_0 &= \\frac{1}{\\sum_i w_i} \\left( \\overline{z} + \\overline{x}' \\sin(\\theta) - \\overline{z}' \\cos(\\theta) \\right)\n",
    "\\end{align} \n",
    "$$"
   ]
  },
  {
   "cell_type": "code",
   "execution_count": 2,
   "id": "13f01b9d-b0cb-4ecb-900c-4fabb1711443",
   "metadata": {
    "tags": []
   },
   "outputs": [],
   "source": [
    "#define symbols\n",
    "\n",
    "x= sm.IndexedBase(\"x\")\n",
    "xp = sm.IndexedBase(\"x'\")\n",
    "\n",
    "z= sm.IndexedBase(\"z\")\n",
    "zp = sm.IndexedBase(\"z'\")\n",
    "\n",
    "w= sm.IndexedBase(\"w\")\n",
    "f, i, n, theta, x_0, z_0= sm.symbols(r'\\min_{\\theta\\,x_0\\,z_0} i n theta x_0 z_0')\n",
    "\n",
    "wi, wixi, wizi, wixip, wizip = sm.symbols(r\"\\bar{w} \\bar{x} \\bar{z} \\bar{x}' \\bar{z}'\")"
   ]
  },
  {
   "cell_type": "markdown",
   "id": "3bee88f0-ba91-4aaa-a162-151fb01cbdfd",
   "metadata": {},
   "source": [
    "## Write the min function with x and z"
   ]
  },
  {
   "cell_type": "code",
   "execution_count": 3,
   "id": "1345d3c0-6847-426e-b974-e59b0e98310c",
   "metadata": {
    "tags": []
   },
   "outputs": [
    {
     "data": {
      "text/latex": [
       "$\\displaystyle \\min_{\\theta,x_0,z_0} = \\sum_{i=0}^{n} \\left(\\left(- x_{0} - \\sin{\\left(\\theta \\right)} {z'}_{i} - \\cos{\\left(\\theta \\right)} {x'}_{i} + {x}_{i}\\right)^{2} + \\left(- z_{0} + \\sin{\\left(\\theta \\right)} {x'}_{i} - \\cos{\\left(\\theta \\right)} {z'}_{i} + {z}_{i}\\right)^{2}\\right) {w}_{i}$"
      ],
      "text/plain": [
       "Eq(\\min_{\\theta,x_0,z_0}, Sum(((-x_0 - sin(theta)*z'[i] - cos(theta)*x'[i] + x[i])**2 + (-z_0 + sin(theta)*x'[i] - cos(theta)*z'[i] + z[i])**2)*w[i], (i, 0, n)))"
      ]
     },
     "metadata": {},
     "output_type": "display_data"
    }
   ],
   "source": [
    "S = sm.Sum(\n",
    "    w[i] * (\n",
    "        (x[i] - (xp[i] * sm.cos(theta) + zp[i] * sm.sin(theta) + x_0))**2 + \\\n",
    "        (z[i] - (zp[i] * sm.cos(theta) - xp[i] * sm.sin(theta) + z_0))**2\n",
    "    ), \n",
    "    (i, 0, n))\n",
    "\n",
    "display(sm.Eq(f, S))"
   ]
  },
  {
   "cell_type": "markdown",
   "id": "5a2890ec-bb37-4e50-89b1-5e4c972aba60",
   "metadata": {},
   "source": [
    "## Take the partial derivative"
   ]
  },
  {
   "cell_type": "code",
   "execution_count": 4,
   "id": "395d8fd2-00fc-4a5e-ba6d-1fb1faa3468b",
   "metadata": {
    "tags": []
   },
   "outputs": [
    {
     "data": {
      "text/latex": [
       "$\\partial_{\\theta}^{F} = \\sum_{i=0}^{n} \\left(\\left(2 \\sin{\\left(\\theta \\right)} {x'}_{i} - 2 \\cos{\\left(\\theta \\right)} {z'}_{i}\\right) \\left(- x_{0} - \\sin{\\left(\\theta \\right)} {z'}_{i} - \\cos{\\left(\\theta \\right)} {x'}_{i} + {x}_{i}\\right) + \\left(2 \\sin{\\left(\\theta \\right)} {z'}_{i} + 2 \\cos{\\left(\\theta \\right)} {x'}_{i}\\right) \\left(- z_{0} + \\sin{\\left(\\theta \\right)} {x'}_{i} - \\cos{\\left(\\theta \\right)} {z'}_{i} + {z}_{i}\\right)\\right) {w}_{i}$"
      ],
      "text/plain": [
       "<IPython.core.display.Latex object>"
      ]
     },
     "metadata": {},
     "output_type": "display_data"
    },
    {
     "data": {
      "text/latex": [
       "$\\partial_{x_0}^{F} = \\sum_{i=0}^{n} \\left(2 x_{0} + 2 \\sin{\\left(\\theta \\right)} {z'}_{i} + 2 \\cos{\\left(\\theta \\right)} {x'}_{i} - 2 {x}_{i}\\right) {w}_{i}$"
      ],
      "text/plain": [
       "<IPython.core.display.Latex object>"
      ]
     },
     "metadata": {},
     "output_type": "display_data"
    },
    {
     "data": {
      "text/latex": [
       "$\\partial_{z_0}^{F} = \\sum_{i=0}^{n} \\left(2 z_{0} - 2 \\sin{\\left(\\theta \\right)} {x'}_{i} + 2 \\cos{\\left(\\theta \\right)} {z'}_{i} - 2 {z}_{i}\\right) {w}_{i}$"
      ],
      "text/plain": [
       "<IPython.core.display.Latex object>"
      ]
     },
     "metadata": {},
     "output_type": "display_data"
    }
   ],
   "source": [
    "tdif = sm.diff(S, theta)\n",
    "xdif = sm.diff(S, x_0)\n",
    "zdif = sm.diff(S, z_0)\n",
    "display(Latex(r\"$\\partial_{\\theta}^{F} = \"+sm.latex(tdif)+\"$\"))\n",
    "display(Latex(r\"$\\partial_{x_0}^{F} = \"+sm.latex(xdif)+\"$\"))\n",
    "display(Latex(r\"$\\partial_{z_0}^{F} = \"+sm.latex(zdif)+\"$\"))"
   ]
  },
  {
   "cell_type": "markdown",
   "id": "4b280123-fedb-4417-9397-3ec31d797734",
   "metadata": {},
   "source": [
    "## Set the partial derivative equal 0"
   ]
  },
  {
   "cell_type": "code",
   "execution_count": 5,
   "id": "addc3349-4254-4f02-8af5-71af649124d1",
   "metadata": {
    "tags": []
   },
   "outputs": [
    {
     "data": {
      "text/latex": [
       "$\\displaystyle \\sum_{i=0}^{n} - 2 x_{0} \\sin{\\left(\\theta \\right)} {w}_{i} {x'}_{i} + \\sum_{i=0}^{n} 2 x_{0} \\cos{\\left(\\theta \\right)} {w}_{i} {z'}_{i} + \\sum_{i=0}^{n} - 2 z_{0} \\sin{\\left(\\theta \\right)} {w}_{i} {z'}_{i} + \\sum_{i=0}^{n} - 2 z_{0} \\cos{\\left(\\theta \\right)} {w}_{i} {x'}_{i} + \\sum_{i=0}^{n} 2 \\sin{\\left(\\theta \\right)} {w}_{i} {x'}_{i} {x}_{i} + \\sum_{i=0}^{n} 2 \\sin{\\left(\\theta \\right)} {w}_{i} {z'}_{i} {z}_{i} + \\sum_{i=0}^{n} 2 \\cos{\\left(\\theta \\right)} {w}_{i} {x'}_{i} {z}_{i} + \\sum_{i=0}^{n} - 2 \\cos{\\left(\\theta \\right)} {w}_{i} {x}_{i} {z'}_{i} = 0$"
      ],
      "text/plain": [
       "Eq(Sum(-2*x_0*sin(theta)*w[i]*x'[i], (i, 0, n)) + Sum(2*x_0*cos(theta)*w[i]*z'[i], (i, 0, n)) + Sum(-2*z_0*sin(theta)*w[i]*z'[i], (i, 0, n)) + Sum(-2*z_0*cos(theta)*w[i]*x'[i], (i, 0, n)) + Sum(2*sin(theta)*w[i]*x'[i]*x[i], (i, 0, n)) + Sum(2*sin(theta)*w[i]*z'[i]*z[i], (i, 0, n)) + Sum(2*cos(theta)*w[i]*x'[i]*z[i], (i, 0, n)) + Sum(-2*cos(theta)*w[i]*x[i]*z'[i], (i, 0, n)), 0)"
      ]
     },
     "metadata": {},
     "output_type": "display_data"
    },
    {
     "data": {
      "text/latex": [
       "$\\displaystyle \\sum_{i=0}^{n} 2 x_{0} {w}_{i} + \\sum_{i=0}^{n} - 2 {w}_{i} {x}_{i} + \\sum_{i=0}^{n} 2 \\sin{\\left(\\theta \\right)} {w}_{i} {z'}_{i} + \\sum_{i=0}^{n} 2 \\cos{\\left(\\theta \\right)} {w}_{i} {x'}_{i} = 0$"
      ],
      "text/plain": [
       "Eq(Sum(2*x_0*w[i], (i, 0, n)) + Sum(-2*w[i]*x[i], (i, 0, n)) + Sum(2*sin(theta)*w[i]*z'[i], (i, 0, n)) + Sum(2*cos(theta)*w[i]*x'[i], (i, 0, n)), 0)"
      ]
     },
     "metadata": {},
     "output_type": "display_data"
    },
    {
     "data": {
      "text/latex": [
       "$\\displaystyle \\sum_{i=0}^{n} 2 z_{0} {w}_{i} + \\sum_{i=0}^{n} - 2 {w}_{i} {z}_{i} + \\sum_{i=0}^{n} - 2 \\sin{\\left(\\theta \\right)} {w}_{i} {x'}_{i} + \\sum_{i=0}^{n} 2 \\cos{\\left(\\theta \\right)} {w}_{i} {z'}_{i} = 0$"
      ],
      "text/plain": [
       "Eq(Sum(2*z_0*w[i], (i, 0, n)) + Sum(-2*w[i]*z[i], (i, 0, n)) + Sum(-2*sin(theta)*w[i]*x'[i], (i, 0, n)) + Sum(2*cos(theta)*w[i]*z'[i], (i, 0, n)), 0)"
      ]
     },
     "metadata": {},
     "output_type": "display_data"
    }
   ],
   "source": [
    "eq1 = sm.Eq(tdif.expand() , 0)\n",
    "display(eq1)\n",
    "eq2 = sm.Eq(xdif.expand() , 0)\n",
    "display(eq2)\n",
    "eq3 = sm.Eq(zdif.expand() , 0)\n",
    "display(eq3)"
   ]
  },
  {
   "cell_type": "markdown",
   "id": "0b5298f9-1bc4-46a5-9f78-a0fadbe296b6",
   "metadata": {
    "tags": []
   },
   "source": [
    "### factor terms"
   ]
  },
  {
   "cell_type": "code",
   "execution_count": 6,
   "id": "41e5b3e9-0b62-4ca4-bb76-43280e390dea",
   "metadata": {
    "tags": []
   },
   "outputs": [
    {
     "data": {
      "text/latex": [
       "$\\displaystyle 2 \\left(- x_{0} \\sin{\\left(\\theta \\right)} \\sum_{i=0}^{n} {w}_{i} {x'}_{i} + x_{0} \\cos{\\left(\\theta \\right)} \\sum_{i=0}^{n} {w}_{i} {z'}_{i} - z_{0} \\sin{\\left(\\theta \\right)} \\sum_{i=0}^{n} {w}_{i} {z'}_{i} - z_{0} \\cos{\\left(\\theta \\right)} \\sum_{i=0}^{n} {w}_{i} {x'}_{i} + \\sin{\\left(\\theta \\right)} \\sum_{i=0}^{n} {w}_{i} {x'}_{i} {x}_{i} + \\sin{\\left(\\theta \\right)} \\sum_{i=0}^{n} {w}_{i} {z'}_{i} {z}_{i} + \\cos{\\left(\\theta \\right)} \\sum_{i=0}^{n} {w}_{i} {x'}_{i} {z}_{i} - \\cos{\\left(\\theta \\right)} \\sum_{i=0}^{n} {w}_{i} {x}_{i} {z'}_{i}\\right) = 0$"
      ],
      "text/plain": [
       "Eq(2*(-x_0*sin(theta)*Sum(w[i]*x'[i], (i, 0, n)) + x_0*cos(theta)*Sum(w[i]*z'[i], (i, 0, n)) - z_0*sin(theta)*Sum(w[i]*z'[i], (i, 0, n)) - z_0*cos(theta)*Sum(w[i]*x'[i], (i, 0, n)) + sin(theta)*Sum(w[i]*x'[i]*x[i], (i, 0, n)) + sin(theta)*Sum(w[i]*z'[i]*z[i], (i, 0, n)) + cos(theta)*Sum(w[i]*x'[i]*z[i], (i, 0, n)) - cos(theta)*Sum(w[i]*x[i]*z'[i], (i, 0, n))), 0)"
      ]
     },
     "metadata": {},
     "output_type": "display_data"
    },
    {
     "data": {
      "text/latex": [
       "$\\displaystyle 2 \\left(x_{0} \\sum_{i=0}^{n} {w}_{i} + \\sin{\\left(\\theta \\right)} \\sum_{i=0}^{n} {w}_{i} {z'}_{i} + \\cos{\\left(\\theta \\right)} \\sum_{i=0}^{n} {w}_{i} {x'}_{i} - \\sum_{i=0}^{n} {w}_{i} {x}_{i}\\right) = 0$"
      ],
      "text/plain": [
       "Eq(2*(x_0*Sum(w[i], (i, 0, n)) + sin(theta)*Sum(w[i]*z'[i], (i, 0, n)) + cos(theta)*Sum(w[i]*x'[i], (i, 0, n)) - Sum(w[i]*x[i], (i, 0, n))), 0)"
      ]
     },
     "metadata": {},
     "output_type": "display_data"
    },
    {
     "data": {
      "text/latex": [
       "$\\displaystyle 2 \\left(z_{0} \\sum_{i=0}^{n} {w}_{i} - \\sin{\\left(\\theta \\right)} \\sum_{i=0}^{n} {w}_{i} {x'}_{i} + \\cos{\\left(\\theta \\right)} \\sum_{i=0}^{n} {w}_{i} {z'}_{i} - \\sum_{i=0}^{n} {w}_{i} {z}_{i}\\right) = 0$"
      ],
      "text/plain": [
       "Eq(2*(z_0*Sum(w[i], (i, 0, n)) - sin(theta)*Sum(w[i]*x'[i], (i, 0, n)) + cos(theta)*Sum(w[i]*z'[i], (i, 0, n)) - Sum(w[i]*z[i], (i, 0, n))), 0)"
      ]
     },
     "metadata": {},
     "output_type": "display_data"
    }
   ],
   "source": [
    "display(sm.Eq(sm.factor_terms(tdif.expand()),0))\n",
    "display(sm.Eq(sm.factor_terms(xdif.expand()),0))\n",
    "display(sm.Eq(sm.factor_terms(zdif.expand()),0))"
   ]
  },
  {
   "cell_type": "code",
   "execution_count": 7,
   "id": "27fdabbc-ce1c-42ef-b447-4de0cbb6f821",
   "metadata": {
    "tags": []
   },
   "outputs": [
    {
     "data": {
      "text/latex": [
       "$\\displaystyle - x_{0} \\sin{\\left(\\theta \\right)} \\sum_{i=0}^{n} {w}_{i} {x'}_{i} + x_{0} \\cos{\\left(\\theta \\right)} \\sum_{i=0}^{n} {w}_{i} {z'}_{i} - z_{0} \\sin{\\left(\\theta \\right)} \\sum_{i=0}^{n} {w}_{i} {z'}_{i} - z_{0} \\cos{\\left(\\theta \\right)} \\sum_{i=0}^{n} {w}_{i} {x'}_{i} + \\sin{\\left(\\theta \\right)} \\sum_{i=0}^{n} {w}_{i} {x'}_{i} {x}_{i} + \\sin{\\left(\\theta \\right)} \\sum_{i=0}^{n} {w}_{i} {z'}_{i} {z}_{i} + \\cos{\\left(\\theta \\right)} \\sum_{i=0}^{n} {w}_{i} {x'}_{i} {z}_{i} - \\cos{\\left(\\theta \\right)} \\sum_{i=0}^{n} {w}_{i} {x}_{i} {z'}_{i} = 0$"
      ],
      "text/plain": [
       "Eq(-x_0*sin(theta)*Sum(w[i]*x'[i], (i, 0, n)) + x_0*cos(theta)*Sum(w[i]*z'[i], (i, 0, n)) - z_0*sin(theta)*Sum(w[i]*z'[i], (i, 0, n)) - z_0*cos(theta)*Sum(w[i]*x'[i], (i, 0, n)) + sin(theta)*Sum(w[i]*x'[i]*x[i], (i, 0, n)) + sin(theta)*Sum(w[i]*z'[i]*z[i], (i, 0, n)) + cos(theta)*Sum(w[i]*x'[i]*z[i], (i, 0, n)) - cos(theta)*Sum(w[i]*x[i]*z'[i], (i, 0, n)), 0)"
      ]
     },
     "metadata": {},
     "output_type": "display_data"
    },
    {
     "data": {
      "text/latex": [
       "$\\displaystyle x_{0} \\sum_{i=0}^{n} {w}_{i} + \\sin{\\left(\\theta \\right)} \\sum_{i=0}^{n} {w}_{i} {z'}_{i} + \\cos{\\left(\\theta \\right)} \\sum_{i=0}^{n} {w}_{i} {x'}_{i} - \\sum_{i=0}^{n} {w}_{i} {x}_{i} = 0$"
      ],
      "text/plain": [
       "Eq(x_0*Sum(w[i], (i, 0, n)) + sin(theta)*Sum(w[i]*z'[i], (i, 0, n)) + cos(theta)*Sum(w[i]*x'[i], (i, 0, n)) - Sum(w[i]*x[i], (i, 0, n)), 0)"
      ]
     },
     "metadata": {},
     "output_type": "display_data"
    },
    {
     "data": {
      "text/latex": [
       "$\\displaystyle z_{0} \\sum_{i=0}^{n} {w}_{i} - \\sin{\\left(\\theta \\right)} \\sum_{i=0}^{n} {w}_{i} {x'}_{i} + \\cos{\\left(\\theta \\right)} \\sum_{i=0}^{n} {w}_{i} {z'}_{i} - \\sum_{i=0}^{n} {w}_{i} {z}_{i} = 0$"
      ],
      "text/plain": [
       "Eq(z_0*Sum(w[i], (i, 0, n)) - sin(theta)*Sum(w[i]*x'[i], (i, 0, n)) + cos(theta)*Sum(w[i]*z'[i], (i, 0, n)) - Sum(w[i]*z[i], (i, 0, n)), 0)"
      ]
     },
     "metadata": {},
     "output_type": "display_data"
    }
   ],
   "source": [
    "display(sm.Eq(sm.factor_terms(tdif.expand()/2),0))\n",
    "display(sm.Eq(sm.factor_terms(xdif.expand()/2),0))\n",
    "display(sm.Eq(sm.factor_terms(zdif.expand()/2),0))"
   ]
  },
  {
   "cell_type": "markdown",
   "id": "90902bff-e6ff-4108-b0f5-416f96805e81",
   "metadata": {},
   "source": [
    "## Substitute"
   ]
  },
  {
   "cell_type": "code",
   "execution_count": 8,
   "id": "77ca56b8-b608-406a-b0bb-3d748a5863f5",
   "metadata": {
    "tags": []
   },
   "outputs": [
    {
     "data": {
      "text/latex": [
       "$\\displaystyle \\bar{x} = \\sum_{i=0}^{n} {w}_{i} {x}_{i}$"
      ],
      "text/plain": [
       "Eq(\\bar{x}, Sum(w[i]*x[i], (i, 0, n)))"
      ]
     },
     "metadata": {},
     "output_type": "display_data"
    },
    {
     "data": {
      "text/latex": [
       "$\\displaystyle \\bar{z} = \\sum_{i=0}^{n} {w}_{i} {z}_{i}$"
      ],
      "text/plain": [
       "Eq(\\bar{z}, Sum(w[i]*z[i], (i, 0, n)))"
      ]
     },
     "metadata": {},
     "output_type": "display_data"
    },
    {
     "data": {
      "text/latex": [
       "$\\displaystyle \\bar{x}' = \\sum_{i=0}^{n} {w}_{i} {x'}_{i}$"
      ],
      "text/plain": [
       "Eq(\\bar{x}', Sum(w[i]*x'[i], (i, 0, n)))"
      ]
     },
     "metadata": {},
     "output_type": "display_data"
    },
    {
     "data": {
      "text/latex": [
       "$\\displaystyle \\bar{z}' = \\sum_{i=0}^{n} {w}_{i} {z'}_{i}$"
      ],
      "text/plain": [
       "Eq(\\bar{z}', Sum(w[i]*z'[i], (i, 0, n)))"
      ]
     },
     "metadata": {},
     "output_type": "display_data"
    }
   ],
   "source": [
    "wixi_sum = sm.Sum(w[i]*x[i], (i, 0, n))\n",
    "wizi_sum = sm.Sum(w[i]*z[i], (i, 0, n))\n",
    "wixip_sum = sm.Sum(w[i]*xp[i], (i, 0, n))\n",
    "wizip_sum = sm.Sum(w[i]*zp[i], (i, 0, n))\n",
    "\n",
    "substitutions = {wixi_sum:wixi, wizi_sum:wizi, wixip_sum:wixip, wizip_sum:wizip }\n",
    "\n",
    "display(sm.Eq(wixi, wixi_sum ))\n",
    "display(sm.Eq(wizi, wizi_sum ))\n",
    "display(sm.Eq(wixip, wixip_sum ))\n",
    "display(sm.Eq(wizip, wizip_sum ))"
   ]
  },
  {
   "cell_type": "code",
   "execution_count": 9,
   "id": "0a25c6bd-8897-40ba-936b-1ec601ecb0ae",
   "metadata": {
    "tags": []
   },
   "outputs": [
    {
     "data": {
      "text/latex": [
       "$\\displaystyle - \\bar{x}' x_{0} \\sin{\\left(\\theta \\right)} - \\bar{x}' z_{0} \\cos{\\left(\\theta \\right)} + \\bar{z}' x_{0} \\cos{\\left(\\theta \\right)} - \\bar{z}' z_{0} \\sin{\\left(\\theta \\right)} + \\sin{\\left(\\theta \\right)} \\sum_{i=0}^{n} {w}_{i} {x'}_{i} {x}_{i} + \\sin{\\left(\\theta \\right)} \\sum_{i=0}^{n} {w}_{i} {z'}_{i} {z}_{i} + \\cos{\\left(\\theta \\right)} \\sum_{i=0}^{n} {w}_{i} {x'}_{i} {z}_{i} - \\cos{\\left(\\theta \\right)} \\sum_{i=0}^{n} {w}_{i} {x}_{i} {z'}_{i} = 0$"
      ],
      "text/plain": [
       "Eq(-\\bar{x}'*x_0*sin(theta) - \\bar{x}'*z_0*cos(theta) + \\bar{z}'*x_0*cos(theta) - \\bar{z}'*z_0*sin(theta) + sin(theta)*Sum(w[i]*x'[i]*x[i], (i, 0, n)) + sin(theta)*Sum(w[i]*z'[i]*z[i], (i, 0, n)) + cos(theta)*Sum(w[i]*x'[i]*z[i], (i, 0, n)) - cos(theta)*Sum(w[i]*x[i]*z'[i], (i, 0, n)), 0)"
      ]
     },
     "metadata": {},
     "output_type": "display_data"
    },
    {
     "data": {
      "text/latex": [
       "$\\displaystyle - \\bar{x} + \\bar{x}' \\cos{\\left(\\theta \\right)} + \\bar{z}' \\sin{\\left(\\theta \\right)} + x_{0} \\sum_{i=0}^{n} {w}_{i} = 0$"
      ],
      "text/plain": [
       "Eq(-\\bar{x} + \\bar{x}'*cos(theta) + \\bar{z}'*sin(theta) + x_0*Sum(w[i], (i, 0, n)), 0)"
      ]
     },
     "metadata": {},
     "output_type": "display_data"
    },
    {
     "data": {
      "text/latex": [
       "$\\displaystyle - \\bar{x}' \\sin{\\left(\\theta \\right)} - \\bar{z} + \\bar{z}' \\cos{\\left(\\theta \\right)} + z_{0} \\sum_{i=0}^{n} {w}_{i} = 0$"
      ],
      "text/plain": [
       "Eq(-\\bar{x}'*sin(theta) - \\bar{z} + \\bar{z}'*cos(theta) + z_0*Sum(w[i], (i, 0, n)), 0)"
      ]
     },
     "metadata": {},
     "output_type": "display_data"
    }
   ],
   "source": [
    "eq1 = sm.factor_terms(tdif.expand()/2).subs(substitutions)\n",
    "display(sm.Eq(eq1, 0))\n",
    "\n",
    "eq2 = sm.factor_terms(xdif.expand()/2).subs(substitutions)\n",
    "display(sm.Eq(eq2, 0))\n",
    "\n",
    "eq3 = sm.factor_terms(zdif.expand()/2).subs(substitutions)\n",
    "display(sm.Eq(eq3, 0))"
   ]
  },
  {
   "cell_type": "markdown",
   "id": "a32110e5-83d9-454b-ab64-a3dc2d1768a3",
   "metadata": {},
   "source": [
    "## Solve for positions"
   ]
  },
  {
   "cell_type": "code",
   "execution_count": 10,
   "id": "25e55e14-6708-49ed-bb49-1b33a36123de",
   "metadata": {
    "tags": []
   },
   "outputs": [
    {
     "data": {
      "text/latex": [
       "$\\displaystyle x_{0} = \\frac{\\bar{x} - \\bar{x}' \\cos{\\left(\\theta \\right)} - \\bar{z}' \\sin{\\left(\\theta \\right)}}{\\sum_{i=0}^{n} {w}_{i}}$"
      ],
      "text/plain": [
       "Eq(x_0, (\\bar{x} - \\bar{x}'*cos(theta) - \\bar{z}'*sin(theta))/Sum(w[i], (i, 0, n)))"
      ]
     },
     "metadata": {},
     "output_type": "display_data"
    },
    {
     "data": {
      "text/latex": [
       "$\\displaystyle z_{0} = \\frac{\\bar{x}' \\sin{\\left(\\theta \\right)} + \\bar{z} - \\bar{z}' \\cos{\\left(\\theta \\right)}}{\\sum_{i=0}^{n} {w}_{i}}$"
      ],
      "text/plain": [
       "Eq(z_0, (\\bar{x}'*sin(theta) + \\bar{z} - \\bar{z}'*cos(theta))/Sum(w[i], (i, 0, n)))"
      ]
     },
     "metadata": {},
     "output_type": "display_data"
    }
   ],
   "source": [
    "x0_sol = sm.solve(eq2, x_0)[0]\n",
    "z0_sol = sm.solve(eq3, z_0)[0]\n",
    "\n",
    "display(sm.Eq(x_0, x0_sol))\n",
    "display(sm.Eq(z_0, z0_sol))"
   ]
  },
  {
   "cell_type": "markdown",
   "id": "7d437193-0b04-4db8-948f-f496ba1d990b",
   "metadata": {},
   "source": [
    "## Substitute in theta"
   ]
  },
  {
   "cell_type": "code",
   "execution_count": 11,
   "id": "964a8f06-835c-4bfe-93b0-6e7ab7d6f13f",
   "metadata": {
    "tags": []
   },
   "outputs": [
    {
     "data": {
      "text/latex": [
       "$\\displaystyle - \\frac{\\bar{x} \\bar{x}' \\sin{\\left(\\theta \\right)}}{\\sum_{i=0}^{n} {w}_{i}} + \\frac{\\bar{x} \\bar{z}' \\cos{\\left(\\theta \\right)}}{\\sum_{i=0}^{n} {w}_{i}} - \\frac{\\bar{x}' \\bar{z} \\cos{\\left(\\theta \\right)}}{\\sum_{i=0}^{n} {w}_{i}} - \\frac{\\bar{z} \\bar{z}' \\sin{\\left(\\theta \\right)}}{\\sum_{i=0}^{n} {w}_{i}} + \\sin{\\left(\\theta \\right)} \\sum_{i=0}^{n} {w}_{i} {x'}_{i} {x}_{i} + \\sin{\\left(\\theta \\right)} \\sum_{i=0}^{n} {w}_{i} {z'}_{i} {z}_{i} + \\cos{\\left(\\theta \\right)} \\sum_{i=0}^{n} {w}_{i} {x'}_{i} {z}_{i} - \\cos{\\left(\\theta \\right)} \\sum_{i=0}^{n} {w}_{i} {x}_{i} {z'}_{i}$"
      ],
      "text/plain": [
       "-\\bar{x}*\\bar{x}'*sin(theta)/Sum(w[i], (i, 0, n)) + \\bar{x}*\\bar{z}'*cos(theta)/Sum(w[i], (i, 0, n)) - \\bar{x}'*\\bar{z}*cos(theta)/Sum(w[i], (i, 0, n)) - \\bar{z}*\\bar{z}'*sin(theta)/Sum(w[i], (i, 0, n)) + sin(theta)*Sum(w[i]*x'[i]*x[i], (i, 0, n)) + sin(theta)*Sum(w[i]*z'[i]*z[i], (i, 0, n)) + cos(theta)*Sum(w[i]*x'[i]*z[i], (i, 0, n)) - cos(theta)*Sum(w[i]*x[i]*z'[i], (i, 0, n))"
      ]
     },
     "execution_count": 11,
     "metadata": {},
     "output_type": "execute_result"
    }
   ],
   "source": [
    "eq4 = eq1.subs({x_0: x0_sol, z_0: z0_sol}).expand()\n",
    "eq4"
   ]
  },
  {
   "cell_type": "code",
   "execution_count": 12,
   "id": "ca4a25cd-81b0-4049-8250-28d7d0603757",
   "metadata": {
    "tags": []
   },
   "outputs": [
    {
     "data": {
      "text/latex": [
       "$\\displaystyle \\left(- \\frac{\\bar{x} \\bar{x}'}{\\sum_{i=0}^{n} {w}_{i}} - \\frac{\\bar{z} \\bar{z}'}{\\sum_{i=0}^{n} {w}_{i}} + \\sum_{i=0}^{n} {w}_{i} {x'}_{i} {x}_{i} + \\sum_{i=0}^{n} {w}_{i} {z'}_{i} {z}_{i}\\right) \\sin{\\left(\\theta \\right)} + \\left(\\frac{\\bar{x} \\bar{z}'}{\\sum_{i=0}^{n} {w}_{i}} - \\frac{\\bar{x}' \\bar{z}}{\\sum_{i=0}^{n} {w}_{i}} + \\sum_{i=0}^{n} {w}_{i} {x'}_{i} {z}_{i} - \\sum_{i=0}^{n} {w}_{i} {x}_{i} {z'}_{i}\\right) \\cos{\\left(\\theta \\right)}$"
      ],
      "text/plain": [
       "(-\\bar{x}*\\bar{x}'/Sum(w[i], (i, 0, n)) - \\bar{z}*\\bar{z}'/Sum(w[i], (i, 0, n)) + Sum(w[i]*x'[i]*x[i], (i, 0, n)) + Sum(w[i]*z'[i]*z[i], (i, 0, n)))*sin(theta) + (\\bar{x}*\\bar{z}'/Sum(w[i], (i, 0, n)) - \\bar{x}'*\\bar{z}/Sum(w[i], (i, 0, n)) + Sum(w[i]*x'[i]*z[i], (i, 0, n)) - Sum(w[i]*x[i]*z'[i], (i, 0, n)))*cos(theta)"
      ]
     },
     "execution_count": 12,
     "metadata": {},
     "output_type": "execute_result"
    }
   ],
   "source": [
    "eq4_col = eq4.collect((sm.cos(theta), sm.sin(theta)))\n",
    "eq4_col"
   ]
  },
  {
   "cell_type": "code",
   "execution_count": 13,
   "id": "d2c46322-ef27-4264-bbc3-c99bf60aee55",
   "metadata": {
    "tags": []
   },
   "outputs": [
    {
     "data": {
      "text/latex": [
       "$\\displaystyle \\theta = \\operatorname{atan}{\\left(\\frac{- \\frac{\\bar{x} \\bar{z}'}{\\sum_{i=0}^{n} {w}_{i}} + \\frac{\\bar{x}' \\bar{z}}{\\sum_{i=0}^{n} {w}_{i}} - \\sum_{i=0}^{n} {w}_{i} {x'}_{i} {z}_{i} + \\sum_{i=0}^{n} {w}_{i} {x}_{i} {z'}_{i}}{- \\frac{\\bar{x} \\bar{x}'}{\\sum_{i=0}^{n} {w}_{i}} - \\frac{\\bar{z} \\bar{z}'}{\\sum_{i=0}^{n} {w}_{i}} + \\sum_{i=0}^{n} {w}_{i} {x'}_{i} {x}_{i} + \\sum_{i=0}^{n} {w}_{i} {z'}_{i} {z}_{i}} \\right)}$"
      ],
      "text/plain": [
       "Eq(theta, atan((-\\bar{x}*\\bar{z}'/Sum(w[i], (i, 0, n)) + \\bar{x}'*\\bar{z}/Sum(w[i], (i, 0, n)) - Sum(w[i]*x'[i]*z[i], (i, 0, n)) + Sum(w[i]*x[i]*z'[i], (i, 0, n)))/(-\\bar{x}*\\bar{x}'/Sum(w[i], (i, 0, n)) - \\bar{z}*\\bar{z}'/Sum(w[i], (i, 0, n)) + Sum(w[i]*x'[i]*x[i], (i, 0, n)) + Sum(w[i]*z'[i]*z[i], (i, 0, n)))))"
      ]
     },
     "execution_count": 13,
     "metadata": {},
     "output_type": "execute_result"
    }
   ],
   "source": [
    "# a*sin(theta) + b*cos(theta) = 0\n",
    "# a*sin(theta) = -b*cos(theta)\n",
    "# sin(theta)/cos(theta) = -b/a\n",
    "# tan(theta) = -b/a\n",
    "# theta = atan(-b/a)\n",
    "\n",
    "theta_sol = sm.atan(-eq4_col.args[0].args[0]/eq4_col.args[1].args[0])\n",
    "sm.Eq(theta,theta_sol)"
   ]
  }
 ],
 "metadata": {
  "kernelspec": {
   "display_name": "Python 3 (ipykernel)",
   "language": "python",
   "name": "python3"
  },
  "language_info": {
   "codemirror_mode": {
    "name": "ipython",
    "version": 3
   },
   "file_extension": ".py",
   "mimetype": "text/x-python",
   "name": "python",
   "nbconvert_exporter": "python",
   "pygments_lexer": "ipython3",
   "version": "3.10.10"
  }
 },
 "nbformat": 4,
 "nbformat_minor": 5
}
