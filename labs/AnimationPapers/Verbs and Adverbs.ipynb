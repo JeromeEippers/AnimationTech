{
 "cells": [
  {
   "cell_type": "markdown",
   "id": "93e914cc-2f5f-4557-ab07-918464f4b7e7",
   "metadata": {},
   "source": [
    "# Verbs and Adverbs - Multidimensional Motion Interpolation\n",
    "\n",
    "by Charles Rose, Bobby Bodenheimer, Michael F. Cohen  \n",
    "Microsoft Research, 1999\n",
    "\n",
    "Notebook by Jerome Eippers, 2024"
   ]
  },
  {
   "cell_type": "code",
   "execution_count": 1,
   "id": "ef8d5cdc-e266-4fb1-b192-7f431ba108c3",
   "metadata": {
    "tags": []
   },
   "outputs": [],
   "source": [
    "%matplotlib widget\n",
    "import ipyanimlab as lab\n",
    "import numpy as np\n",
    "from ipywidgets import widgets, interact\n",
    "from matplotlib import pyplot as plt\n",
    "\n",
    "viewer = lab.Viewer(move_speed=5, width=1280, height=720)"
   ]
  },
  {
   "cell_type": "code",
   "execution_count": 2,
   "id": "b9a8cb6d-9cd8-42c0-8813-efe5630cbb7f",
   "metadata": {
    "tags": []
   },
   "outputs": [],
   "source": [
    "character = viewer.import_usd_asset('AnimLabSimpleMale.usd')"
   ]
  },
  {
   "cell_type": "code",
   "execution_count": 3,
   "id": "2a5892a6-309c-4d8d-b3f1-56ea6a30cf95",
   "metadata": {},
   "outputs": [
    {
     "name": "stdout",
     "output_type": "stream",
     "text": [
      "[0.5003827  0.49945024 0.50054944 0.49961668]\n",
      "[ 9.9973589e-01  0.0000000e+00 -1.6612194e-04 -2.2977266e-02]\n",
      "[ 9.9861598e-01  0.0000000e+00  1.0706510e-06 -5.2593425e-02]\n",
      "[ 9.9872583e-01  0.0000000e+00 -2.2580546e-06  5.0464451e-02]\n",
      "[ 9.93440807e-01  0.00000000e+00 -7.12728706e-06  1.14347346e-01]\n",
      "[ 9.9939764e-01  7.7254699e-06  6.9182365e-06 -3.4703318e-02]\n",
      "[ 0.00458153  0.6492501  -0.02231333  0.7602338 ]\n",
      "[ 0.9708736   0.02804367  0.23717654 -0.01911344]\n",
      "[ 9.8052341e-01  2.7924773e-07  3.8752745e-07 -1.9640252e-01]\n",
      "[ 1.0000000e+00  5.2041704e-18  1.9515639e-16 -1.3877788e-17]\n",
      "[ 0.00458592 -0.6492486   0.02230816  0.7602352 ]\n",
      "[ 0.9708735  -0.02804463 -0.23717697 -0.01911175]\n",
      "[ 9.8052293e-01  2.6228187e-07 -5.2536613e-08 -1.9640456e-01]\n",
      "[ 1.0000000e+00 -8.2399365e-17 -4.0072112e-16 -1.3877788e-17]\n",
      "[-0.01544567 -0.02148361  0.99881214  0.04091749]\n",
      "[-9.9926788e-01 -9.5026684e-07  3.3747913e-06  3.8258757e-02]\n",
      "[-0.8199874   0.02756879 -0.04662044 -0.5698133 ]\n",
      "[-0.97190386  0.04834775 -0.01144467 -0.23007473]\n",
      "[ 0.01577652 -0.02147016  0.998807   -0.04092318]\n",
      "[ 9.9926776e-01 -9.5160630e-07  6.3376341e-08 -3.8260419e-02]\n",
      "[ 0.8199858   0.02756433 -0.04660993  0.5698166 ]\n",
      "[ 0.971904    0.04834436 -0.01145473  0.23007461]\n"
     ]
    }
   ],
   "source": [
    "skeleton_q, skeleton_p = lab.utils.m4x4_to_qp(character._mesh.initialpose[np.newaxis, ...])\n",
    "skeleton_q = skeleton_q[0]\n",
    "skeleton_p = skeleton_p[0]\n",
    "for i in range(1, len(character._mesh.bone_parents)):\n",
    "    parent = character._mesh.bone_parents[i]\n",
    "    if np.sum(skeleton_q[i] * skeleton_q[parent]) < 0 :\n",
    "        skeleton_q[i] = -skeleton_q[i]\n",
    "    print (skeleton_q[i])"
   ]
  },
  {
   "cell_type": "code",
   "execution_count": 4,
   "id": "5930c104-008c-4c15-ba4f-ba45fabb0dc7",
   "metadata": {
    "tags": []
   },
   "outputs": [],
   "source": [
    "target = viewer.create_asset(\n",
    "    vertices = np.asarray([[9.37, 0.58, -6.81, 0.0, 1.0, 0.0, 1.0, 1.0, 1.0, 1.0], [3.58, 0.58, -11.01, 0.0, 1.0, 0.0, 1.0, 1.0, 1.0, 1.0], [-3.58, 0.58, -11.01, 0.0, 1.0, 0.0, 1.0, 1.0, 1.0, 1.0], [-9.37, 0.58, -6.81, 0.0, 1.0, 0.0, 1.0, 1.0, 1.0, 1.0], [-11.58, 0.58, 0.0, 0.0, 1.0, 0.0, 1.0, 1.0, 1.0, 1.0], [-9.37, 0.58, 6.81, 0.0, 1.0, 0.0, 1.0, 1.0, 1.0, 1.0], [-3.58, 0.58, 11.01, 0.0, 1.0, 0.0, 1.0, 1.0, 1.0, 1.0], [3.58, 0.58, 11.01, 0.0, 1.0, 0.0, 1.0, 1.0, 1.0, 1.0], [9.37, 0.58, 6.81, 0.0, 1.0, 0.0, 1.0, 1.0, 1.0, 1.0], [11.58, 0.58, 0.0, 0.0, 1.0, 0.0, 1.0, 1.0, 1.0, 1.0], [0.0, 0.58, 0.0, 0.0, 1.0, 0.0, 1.0, 1.0, 1.0, 1.0]], dtype=np.float32),\n",
    "    indices = np.asarray([[1, 2, 10], [3, 4, 10], [5, 6, 10], [7, 8, 10], [9, 0, 10]], dtype=np.int16)\n",
    ")"
   ]
  },
  {
   "cell_type": "code",
   "execution_count": 5,
   "id": "91f78d62-38a1-4bc6-9bda-3cd377ce3824",
   "metadata": {
    "tags": []
   },
   "outputs": [],
   "source": [
    "ranges = {\n",
    "    'walk1_subject5' : [(164,197), (519,554), (1304,1334), (1364,1394), (1457,1489), (1550,1580), (1610,1642)],\n",
    "    'walk3_subject1' : [(4471,4532), (4654,4708), (4766,4825)], \n",
    "    'walk3_subject1_mirror' : [(4682,4739), (4795,4852)], \n",
    "}\n",
    "\n",
    "animations = []\n",
    "for anim in ranges.keys():\n",
    "    animmap = lab.AnimMapper(character, keep_translation=False, root_motion=True, mirror=('mirror' in anim), match_effectors=True, local_offsets={'Hips':[0, 2, 0]})\n",
    "    animation = lab.import_bvh(f'../../resources/lafan1/bvh/{anim.replace(\"_mirror\", \"\")}.bvh', anim_mapper=animmap)\n",
    "\n",
    "    for start, end in ranges[anim]:\n",
    "        new_anim = lab.Anim(animation.quats[start:end,:, :], animation.pos[start:end,:, :], animation.offsets, animation.parents, animation.bones)\n",
    "        new_anim.quats[:, 0, :], new_anim.pos[:, 0, :] = lab.utils.qp_mul(lab.utils.qp_inv((new_anim.quats[0:1, 0, :], new_anim.pos[0:1, 0, :])), (new_anim.quats[:, 0, :], new_anim.pos[:, 0, :]))\n",
    "        animations.append(new_anim)"
   ]
  },
  {
   "cell_type": "code",
   "execution_count": 6,
   "id": "91792b7a-e11a-401b-961b-65177c26f92f",
   "metadata": {
    "tags": []
   },
   "outputs": [
    {
     "data": {
      "application/vnd.jupyter.widget-view+json": {
       "model_id": "e892c2733c4a4c13843c26fbbec43dae",
       "version_major": 2,
       "version_minor": 0
      },
      "text/plain": [
       "interactive(children=(Timeline(value=0, children=(Play(value=0, description='play', interval=33, layout=Layout…"
      ]
     },
     "metadata": {},
     "output_type": "display_data"
    },
    {
     "data": {
      "application/vnd.jupyter.widget-view+json": {
       "model_id": "0b9a3a44c4b343128a2a756bb1f50cc7",
       "version_major": 2,
       "version_minor": 0
      },
      "text/plain": [
       "Viewer(camera_far=2800.0, camera_near=20.0, camera_pitch=-18.0, camera_pos=[-370, 280, 350], camera_yaw=-45.0,…"
      ]
     },
     "execution_count": 6,
     "metadata": {},
     "output_type": "execute_result"
    }
   ],
   "source": [
    "def render(frame):\n",
    "    \n",
    "    viewer.begin_display()\n",
    "    viewer.draw_ground()\n",
    "    \n",
    "    for anim in animations:\n",
    "        f = int(min( anim.pos.shape[0]-1, frame))\n",
    "        p = (anim.pos[f,...])\n",
    "        q = (anim.quats[f,...])\n",
    "        m = lab.utils.quat_to_mat(q, p)\n",
    "        viewer.draw(character, m)\n",
    "    \n",
    "    viewer.end_display()\n",
    "    viewer.execute_commands()\n",
    "    \n",
    "interact(\n",
    "    render, \n",
    "    frame=lab.Timeline(min=0, max=60)\n",
    ")\n",
    "viewer"
   ]
  },
  {
   "cell_type": "markdown",
   "id": "73246ca1-4694-49e1-86a1-400332a01ebc",
   "metadata": {},
   "source": [
    "## Canonical Form"
   ]
  },
  {
   "cell_type": "code",
   "execution_count": 7,
   "id": "cda8fede-1afd-4398-b584-09e0b158844f",
   "metadata": {
    "tags": []
   },
   "outputs": [],
   "source": [
    "'''\n",
    "timings = np.zeros([len(animations), 6], dtype=np.int32)\n",
    "for i in range(timings.shape[0]):\n",
    "    timings[i, -1] = animations[i].pos.shape[0]-1\n",
    "'''\n",
    "\n",
    "# pre set values\n",
    "timings = np.array(\n",
    "    [[ 0,  7, 11, 23, 27, 32],\n",
    "       [ 0,  9, 12, 26, 30, 34],\n",
    "       [ 0,  8, 10, 20, 24, 29],\n",
    "       [ 0,  7, 10, 20, 24, 29],\n",
    "       [ 0,  7, 11, 23, 26, 31],\n",
    "       [ 0,  7, 10, 22, 25, 29],\n",
    "       [ 0,  8, 11, 23, 26, 31],\n",
    "       [ 0, 21, 25, 50, 55, 60],\n",
    "       [ 0, 16, 20, 45, 49, 53],\n",
    "       [ 0, 18, 23, 48, 52, 58],\n",
    "       [ 0, 17, 21, 43, 49, 56],\n",
    "       [ 0, 18, 23, 45, 51, 56]])"
   ]
  },
  {
   "cell_type": "code",
   "execution_count": 8,
   "id": "834da96b-7c9a-4ca2-9c56-4e88498518ca",
   "metadata": {
    "tags": []
   },
   "outputs": [
    {
     "data": {
      "application/vnd.jupyter.widget-view+json": {
       "model_id": "fad7bcb8c4664f259ba8c636f6aae375",
       "version_major": 2,
       "version_minor": 0
      },
      "text/plain": [
       "interactive(children=(Timeline(value=0, children=(Play(value=0, description='play', interval=33, layout=Layout…"
      ]
     },
     "metadata": {},
     "output_type": "display_data"
    },
    {
     "data": {
      "application/vnd.jupyter.widget-view+json": {
       "model_id": "38b78f2fefec499c92ac029104dd8aaf",
       "version_major": 2,
       "version_minor": 0
      },
      "text/plain": [
       "HBox(children=(Button(description='Right Down', style=ButtonStyle()), Button(description='Left Up', style=Butt…"
      ]
     },
     "metadata": {},
     "output_type": "display_data"
    },
    {
     "data": {
      "application/vnd.jupyter.widget-view+json": {
       "model_id": "2a2425253c0b45b08bfe440c1f59c5df",
       "version_major": 2,
       "version_minor": 0
      },
      "text/plain": [
       "Label(value='[ 0  7 11 23 27 32]')"
      ]
     },
     "metadata": {},
     "output_type": "display_data"
    },
    {
     "data": {
      "application/vnd.jupyter.widget-view+json": {
       "model_id": "0b9a3a44c4b343128a2a756bb1f50cc7",
       "version_major": 2,
       "version_minor": 0
      },
      "text/plain": [
       "Viewer(camera_far=2800.0, camera_near=20.0, camera_pitch=-18.0, camera_pos=[-370, 280, 350], camera_yaw=-45.0,…"
      ]
     },
     "execution_count": 8,
     "metadata": {},
     "output_type": "execute_result"
    }
   ],
   "source": [
    "def render(frame, index, onspot=False):\n",
    "\n",
    "    anim = animations[index]\n",
    "    timing = timings[index]\n",
    "    \n",
    "    f = int(min( anim.pos.shape[0]-1, frame))\n",
    "    p = (anim.pos[f,...]).copy()\n",
    "    q = (anim.quats[f,...]).copy()\n",
    "\n",
    "    if onspot:\n",
    "        p[0] = 0\n",
    "        q[0] = np.array([1,0,0,0], dtype=np.float32)\n",
    "        \n",
    "    _, ogp = lab.utils.quat_fk(q, p, anim.parents)\n",
    "    ogp[:, 1] = 0\n",
    "        \n",
    "    contacts_matrices = np.eye(4, dtype=np.float32)[np.newaxis,...].repeat(2, axis=0)\n",
    "    contacts_matrices[:, 1, 3] = -10\n",
    "    \n",
    "    m = lab.utils.quat_to_mat(q, p)\n",
    "    \n",
    "    if frame < timing[2] or frame > timing[3]:\n",
    "        contacts_matrices[0, :3, 3] = ogp[character.bone_index('LeftFoot')]\n",
    "    if frame >= timing[1] and frame < timing[4]:\n",
    "        contacts_matrices[1, :3, 3] = ogp[character.bone_index('RightFoot')]\n",
    "    \n",
    "    \n",
    "    viewer.set_shadow_poi(p[0])\n",
    "    \n",
    "    viewer.begin_shadow()\n",
    "    viewer.draw(character, m)\n",
    "    viewer.end_shadow()\n",
    "    \n",
    "    viewer.begin_display()\n",
    "    viewer.draw_ground()\n",
    "    viewer.draw(character, m)\n",
    "    viewer.draw(target, contacts_matrices)\n",
    "    viewer.end_display()\n",
    "    viewer.execute_commands()\n",
    "\n",
    "    \n",
    "timeline = lab.Timeline(min=0, max=animations[0].pos.shape[0]-1)\n",
    "combo = widgets.Dropdown(description='Animation', options=range(len(animations)), value=0)\n",
    "output = widgets.Label(value=str(timings[0]))\n",
    "\n",
    "def combo_switch(change):\n",
    "    timeline.max = animations[change.new].pos.shape[0]-1\n",
    "    output.value =str(timings[change.new])\n",
    "combo.observe(combo_switch , names='value')\n",
    "\n",
    "bt_rd = widgets.Button(description='Right Down')\n",
    "bt_ru = widgets.Button(description='Right Up')\n",
    "bt_ld = widgets.Button(description='Left Down')\n",
    "bt_lu = widgets.Button(description='Left Up')\n",
    "\n",
    "buttons = widgets.HBox([bt_rd, bt_lu, bt_ld, bt_ru])\n",
    "def on_click(event):\n",
    "    step = ['Begin','Right Down','Left Up','Left Down','Right Up','End'].index(event.description)\n",
    "    timings[combo.value, step] = timeline.value\n",
    "    output.value =str(timings[combo.value])\n",
    "    \n",
    "bt_rd.on_click(on_click)\n",
    "bt_ru.on_click(on_click)\n",
    "bt_ld.on_click(on_click)\n",
    "bt_lu.on_click(on_click)\n",
    "\n",
    "interact(\n",
    "    render, \n",
    "    frame=timeline,\n",
    "    index=combo\n",
    ")\n",
    "display(buttons)\n",
    "display(output)\n",
    "viewer"
   ]
  },
  {
   "cell_type": "markdown",
   "id": "b2ec059a-0e86-47ba-abf6-013d3db6ba86",
   "metadata": {},
   "source": [
    "### Make the animation loop"
   ]
  },
  {
   "cell_type": "code",
   "execution_count": 9,
   "id": "ef2183b7-0e43-48f2-9e35-b3c784c77d87",
   "metadata": {
    "tags": []
   },
   "outputs": [],
   "source": [
    "def make_looping_animation(anim, timing):\n",
    "    \n",
    "    # copy to not alter\n",
    "    quats = anim.quats.copy()\n",
    "    pos = anim.pos.copy()\n",
    "    \n",
    "    # local offset (we take the first pose relative to the last pose)\n",
    "    # we take it all, but then we will not use the root so we will have the first pose relative to the last in the position of the last frame.\n",
    "    offq, offp = lab.utils.qp_mul(lab.utils.qp_inv((quats[-1,...], pos[-1,...])), (quats[0,...], pos[0,...])) \n",
    "    \n",
    "    # global positions ( to get feet )\n",
    "    gq, gp = lab.utils.quat_fk(quats, pos, anim.parents)\n",
    "    \n",
    "    # global last position\n",
    "    lastq, lastp = quats[0, :, :].copy(), pos[0, :, :].copy()\n",
    "    lastq[0, :], lastp[0, :] = quats[-1, 0, :], pos[-1, 0, :]\n",
    "    lgq, lgp = lab.utils.quat_fk(lastq, lastp, anim.parents)\n",
    "    offgq, offgp = lab.utils.qp_mul(lab.utils.qp_inv((gq[-1,...], gp[-1,...])), (lgq, lgp)) \n",
    "    \n",
    "    # lerp local offset\n",
    "    for f in range(quats.shape[0]):\n",
    "        t = np.array([float(f)/float(quats.shape[0]-1)])\n",
    "        identity = lab.utils.remove_quat_discontinuities(np.concatenate(\n",
    "            [\n",
    "                offq[np.newaxis,...], \n",
    "                np.array([1,0,0,0], dtype=np.float32)[np.newaxis,:].repeat(quats.shape[1], axis=0)[np.newaxis,...]\n",
    "            ]))[1]\n",
    "        oq = lab.utils.quat_normalize((1.0 -t ) * identity + t * offq)\n",
    "        op = t * offp\n",
    "        \n",
    "        quats[f, 1:, :], pos[f, 1:, :] = lab.utils.qp_mul((quats[f, 1:, :], pos[f, 1:, :]), (oq[1:], op[1:]))\n",
    "        \n",
    "    # global left foot (only moves when the foot is in the air, in the middle of the animation)\n",
    "    feet_ids = np.array([character.bone_index('LeftFoot'), character.bone_index('RightFoot')], dtype=np.int8)\n",
    "    footid = feet_ids[0]\n",
    "    for f in range(timing[2], timing[5]+1):\n",
    "        t = np.minimum(np.array([float(f-timing[2]+1)/float(timing[3]-timing[2])]), 1)  \n",
    "        identity = lab.utils.remove_quat_discontinuities(np.concatenate(\n",
    "            [\n",
    "                offgq[np.newaxis,footid,:], \n",
    "                np.array([1,0,0,0], dtype=np.float32)[np.newaxis,:]\n",
    "            ]))[1]\n",
    "        \n",
    "        oq = lab.utils.quat_normalize((1.0 - t ) * identity  + t * offgq[np.newaxis,footid,:])\n",
    "        op = t * offgp[footid,:]\n",
    "        \n",
    "        gq[f, footid, :], gp[f, footid, :] = lab.utils.qp_mul((gq[f, footid, :], gp[f, footid, :]), (oq, op))\n",
    "        \n",
    "    # global right foot (only moves when the foot is in the air, at the end of the animation)\n",
    "    footid = feet_ids[1]\n",
    "    for f in range(timing[4], timing[5]+1):\n",
    "        t = np.minimum(np.array([float(f-timing[4]+1)/float(timing[5]-timing[4])]), 1)    \n",
    "        identity = lab.utils.remove_quat_discontinuities(np.concatenate(\n",
    "            [\n",
    "                offgq[np.newaxis,footid,:], \n",
    "                np.array([1,0,0,0], dtype=np.float32)[np.newaxis,:]\n",
    "            ]))[1]\n",
    "        \n",
    "        oq = lab.utils.quat_normalize((1.0 - t ) * identity  + t * offgq[np.newaxis,footid,:])\n",
    "        op = t * offgp[footid,:]\n",
    "        \n",
    "        gq[f, footid, :], gp[f, footid, :] = lab.utils.qp_mul((gq[f, footid, :], gp[f, footid, :]), (oq, op))\n",
    "    \n",
    "    # create the animation and the feet ik\n",
    "    quats, pos = lab.utils.limb_ik(quats, pos, anim.parents, anim.bones, gq[:, feet_ids, :], gp[:, feet_ids, :])\n",
    "    quats = lab.utils.quat_normalize(quats)\n",
    "    quats = lab.utils.remove_quat_discontinuities(quats)\n",
    "    \n",
    "    return lab.Anim(quats, pos, anim.offsets, anim.parents, anim.bones)"
   ]
  },
  {
   "cell_type": "code",
   "execution_count": 10,
   "id": "e078d414-6747-429d-8844-fda5b512dc34",
   "metadata": {
    "tags": []
   },
   "outputs": [],
   "source": [
    "animations = [make_looping_animation(anim, timing) for anim, timing in zip(animations, timings)]"
   ]
  },
  {
   "cell_type": "code",
   "execution_count": 11,
   "id": "eea47327-dcf0-4bd9-be47-e4bb93c8af47",
   "metadata": {
    "tags": []
   },
   "outputs": [
    {
     "data": {
      "application/vnd.jupyter.widget-view+json": {
       "model_id": "49d678bb5b5f49eea1b12ed01b3f1b86",
       "version_major": 2,
       "version_minor": 0
      },
      "text/plain": [
       "interactive(children=(Timeline(value=0, children=(Play(value=0, description='play', interval=33, layout=Layout…"
      ]
     },
     "metadata": {},
     "output_type": "display_data"
    },
    {
     "data": {
      "application/vnd.jupyter.widget-view+json": {
       "model_id": "0b9a3a44c4b343128a2a756bb1f50cc7",
       "version_major": 2,
       "version_minor": 0
      },
      "text/plain": [
       "Viewer(camera_far=2800.0, camera_near=20.0, camera_pitch=-18.0, camera_pos=[-370, 280, 350], camera_yaw=-45.0,…"
      ]
     },
     "execution_count": 11,
     "metadata": {},
     "output_type": "execute_result"
    }
   ],
   "source": [
    "def render(frame, index, onspot=False):\n",
    "\n",
    "    anim = animations[index]\n",
    "    timing = timings[index]\n",
    "    \n",
    "    f = int(min( anim.pos.shape[0]-1, frame))\n",
    "    p = (anim.pos[f,...]).copy()\n",
    "    q = (anim.quats[f,...]).copy()\n",
    "\n",
    "    if onspot:\n",
    "        p[0] = 0\n",
    "        q[0] = np.array([1,0,0,0], dtype=np.float32)\n",
    "        \n",
    "    _, ogp = lab.utils.quat_fk(q, p, anim.parents)\n",
    "    ogp[:, 1] = 0\n",
    "        \n",
    "    contacts_matrices = np.eye(4, dtype=np.float32)[np.newaxis,...].repeat(2, axis=0)\n",
    "    contacts_matrices[:, 1, 3] = -10\n",
    "    \n",
    "    m = lab.utils.quat_to_mat(q, p)\n",
    "    \n",
    "    if frame < timing[2] or frame > timing[3]:\n",
    "        contacts_matrices[0, :3, 3] = ogp[character.bone_index('LeftFoot')]\n",
    "    if frame >= timing[1] and frame < timing[4]:\n",
    "        contacts_matrices[1, :3, 3] = ogp[character.bone_index('RightFoot')]\n",
    "    \n",
    "    \n",
    "    viewer.set_shadow_poi(p[0])\n",
    "    \n",
    "    viewer.begin_shadow()\n",
    "    viewer.draw(character, m)\n",
    "    viewer.end_shadow()\n",
    "    \n",
    "    viewer.begin_display()\n",
    "    viewer.draw_ground()\n",
    "    viewer.draw(character, m)\n",
    "    viewer.draw(target, contacts_matrices)\n",
    "    viewer.end_display()\n",
    "    viewer.execute_commands()\n",
    "\n",
    "    \n",
    "timeline = lab.Timeline(min=0, max=animations[0].pos.shape[0]-1)\n",
    "combo = widgets.Dropdown(description='Animation', options=range(len(animations)), value=0)\n",
    "\n",
    "def combo_switch(change):\n",
    "    timeline.max = animations[change.new].pos.shape[0]-1\n",
    "combo.observe(combo_switch , names='value')\n",
    "\n",
    "interact(\n",
    "    render, \n",
    "    frame=timeline,\n",
    "    index=combo\n",
    ")\n",
    "viewer"
   ]
  },
  {
   "cell_type": "markdown",
   "id": "31eeba64-41b0-4bca-991d-91b4004014e7",
   "metadata": {},
   "source": [
    "### Resample"
   ]
  },
  {
   "cell_type": "code",
   "execution_count": 12,
   "id": "e90471d3-2d14-453d-b7c1-3aa4cf3ba720",
   "metadata": {
    "tags": []
   },
   "outputs": [],
   "source": [
    "def warp_curve(timewarp_curve, curve):\n",
    "    floor_curve = np.floor(timewarp_curve).astype(np.int32)\n",
    "    floor_curve_1 = np.minimum(floor_curve+1, curve.shape[0]-1)\n",
    "    t = timewarp_curve - floor_curve\n",
    "    t = t[np.newaxis, :].repeat(np.prod(curve.shape[1:]), axis=-1).reshape(timewarp_curve.shape[0], *curve.shape[1:])\n",
    "    return ((1.0 - t ) * curve[floor_curve, ...]) + (t * curve[floor_curve_1, ...])"
   ]
  },
  {
   "cell_type": "code",
   "execution_count": 13,
   "id": "21e2efb9-d9c0-4127-8054-05557b2f92ba",
   "metadata": {
    "tags": []
   },
   "outputs": [],
   "source": [
    "#6 keytimes\n",
    "#80 intervales\n",
    "#total frame (6-1)*80 + 1\n",
    "\n",
    "resampled_animations = []\n",
    "for anim, timing in zip(animations, timings):\n",
    "    q = np.zeros([401, character.bone_count(), 4])\n",
    "    p = np.zeros([401, character.bone_count(), 3])\n",
    "    \n",
    "    for i in range(5):\n",
    "        q[i*80: i*80+81, ...] = warp_curve(np.linspace(timing[i], timing[i+1], 81), anim.quats)\n",
    "        p[i*80: i*80+81, ...] = warp_curve(np.linspace(timing[i], timing[i+1], 81), anim.pos)\n",
    "        \n",
    "    q = lab.utils.quat_normalize(q)\n",
    "    q = lab.utils.remove_quat_discontinuities(q)\n",
    "\n",
    "    # set all the quaternion in the same base as the skeleton\n",
    "    neg = np.sum(q * skeleton_q[np.newaxis,...], axis=-1) < 0\n",
    "    q[neg] = -q[neg]\n",
    "    \n",
    "    resampled_animations.append(lab.Anim(q, p, anim.offsets, anim.parents, anim.bones))"
   ]
  },
  {
   "cell_type": "code",
   "execution_count": 14,
   "id": "0cfd9aba-400d-4a69-94b4-70c1e64fa796",
   "metadata": {
    "tags": []
   },
   "outputs": [
    {
     "data": {
      "application/vnd.jupyter.widget-view+json": {
       "model_id": "453de55425044208989a2dc3093103fa",
       "version_major": 2,
       "version_minor": 0
      },
      "text/plain": [
       "interactive(children=(Timeline(value=0, children=(Play(value=0, description='play', interval=33, layout=Layout…"
      ]
     },
     "metadata": {},
     "output_type": "display_data"
    },
    {
     "data": {
      "application/vnd.jupyter.widget-view+json": {
       "model_id": "0b9a3a44c4b343128a2a756bb1f50cc7",
       "version_major": 2,
       "version_minor": 0
      },
      "text/plain": [
       "Viewer(camera_far=2800.0, camera_near=20.0, camera_pitch=-18.0, camera_pos=[-370, 280, 350], camera_yaw=-45.0,…"
      ]
     },
     "execution_count": 14,
     "metadata": {},
     "output_type": "execute_result"
    }
   ],
   "source": [
    "def render(frame, index, onspot=False):\n",
    "\n",
    "    anim = resampled_animations[index]\n",
    "    timing = timings[index]\n",
    "    \n",
    "    f = frame\n",
    "    p = (anim.pos[f,...]).copy()\n",
    "    q = (anim.quats[f,...]).copy()\n",
    "\n",
    "    if onspot:\n",
    "        p[0] = 0\n",
    "        q[0] = np.array([1,0,0,0], dtype=np.float32)\n",
    "    \n",
    "    m = lab.utils.quat_to_mat(q, p)\n",
    "    \n",
    "    viewer.set_shadow_poi(p[0])\n",
    "    \n",
    "    viewer.begin_shadow()\n",
    "    viewer.draw(character, m)\n",
    "    viewer.end_shadow()\n",
    "    \n",
    "    viewer.begin_display()\n",
    "    viewer.draw_ground()\n",
    "    viewer.draw(character, m)\n",
    "    viewer.end_display()\n",
    "    viewer.execute_commands()\n",
    "\n",
    "    \n",
    "timeline = lab.Timeline(min=0, max=400)\n",
    "combo = widgets.Dropdown(description='Animation', options=range(len(resampled_animations)), value=0)\n",
    "\n",
    "\n",
    "interact(\n",
    "    render, \n",
    "    frame=timeline,\n",
    "    index=combo\n",
    ")\n",
    "viewer"
   ]
  },
  {
   "cell_type": "markdown",
   "id": "44ee99c2-64d9-47da-a7b3-787d5956fd0c",
   "metadata": {},
   "source": [
    "### Uniform B Spline"
   ]
  },
  {
   "cell_type": "code",
   "execution_count": 15,
   "id": "a612df9f-a733-426e-b0b3-72614882de15",
   "metadata": {
    "tags": []
   },
   "outputs": [],
   "source": [
    "from scipy.optimize import minimize\n",
    "\n",
    "# how many points to use between each control points\n",
    "interval_count = 21\n",
    "point_count = 23\n",
    "\n",
    "# b spline basis\n",
    "BS = np.array([[-1,3,-3,1],[3,-6,0,4],[-3,3,3,1], [1,0,0,0]], dtype=np.double).T/6.0\n",
    "t = np.linspace(0, 1, interval_count)\n",
    "T = np.column_stack([t**3, t**2, t, np.ones_like(t)])\n",
    "\n",
    "# compute b spline\n",
    "def bspline(P):\n",
    "    Pts = P #np.concatenate([P[0:1], P[0:1], P, P[-1:], P[-1:]])\n",
    "    segment = int(Pts.shape[0]-3)\n",
    "    output = np.zeros([segment*(interval_count-1)+1])\n",
    "    index = 0\n",
    "    for s in range(segment):\n",
    "        output[index*(interval_count-1):index*(interval_count-1)+interval_count] =  np.dot(T, np.dot(BS, Pts[index:index+4])) \n",
    "        index += 1\n",
    "    return output\n",
    "\n",
    "# Define the error function to minimize\n",
    "def error_function(y_points, y_actual):\n",
    "\n",
    "    # Evaluate the cubic b spline\n",
    "    y_spline = bspline(y_points)\n",
    "\n",
    "    # Calculate the error\n",
    "    return np.sum((y_spline - y_actual)**2)\n",
    "\n",
    "# x_points position to initial guess\n",
    "x_points = np.concatenate([[0,0],np.linspace(0, 400, point_count-4, dtype=np.int32),[400,400]])\n",
    "\n",
    "def convert_curve(y_actual):\n",
    "    initial_guess = y_actual[x_points]\n",
    "\n",
    "    # Minimize the error function to find optimal y values\n",
    "    result = minimize(error_function, initial_guess, y_actual)\n",
    "\n",
    "    # Optimal points\n",
    "    return result.x"
   ]
  },
  {
   "cell_type": "code",
   "execution_count": 16,
   "id": "6137aae6-a2c8-46e6-8b01-26467b42e3b4",
   "metadata": {
    "tags": []
   },
   "outputs": [],
   "source": [
    "q = np.zeros([len(animations), point_count, character.bone_count(), 4])\n",
    "p = np.zeros([len(animations), point_count, character.bone_count(), 3])\n",
    "\n",
    "for i, anim in enumerate(resampled_animations):    \n",
    "    for b in range(character.bone_count()):\n",
    "        q[i, :, b, 0] = convert_curve(anim.quats[:, b, 0])\n",
    "        q[i, :, b, 1] = convert_curve(anim.quats[:, b, 1])\n",
    "        q[i, :, b, 2] = convert_curve(anim.quats[:, b, 2])\n",
    "        q[i, :, b, 3] = convert_curve(anim.quats[:, b, 3])\n",
    "        p[i, :, b, 0] = convert_curve(anim.pos[:, b, 0])\n",
    "        p[i, :, b, 1] = convert_curve(anim.pos[:, b, 1])\n",
    "        p[i, :, b, 2] = convert_curve(anim.pos[:, b, 2])\n",
    "        \n",
    "bpline_animations = lab.Anim(q, p, anim.offsets, anim.parents, anim.bones)"
   ]
  },
  {
   "cell_type": "code",
   "execution_count": 17,
   "id": "ea1c8841-8b1d-4917-b633-b72083c000eb",
   "metadata": {
    "tags": []
   },
   "outputs": [
    {
     "data": {
      "text/plain": [
       "Text(0, 0.5, 'Value')"
      ]
     },
     "execution_count": 17,
     "metadata": {},
     "output_type": "execute_result"
    },
    {
     "data": {
      "application/vnd.jupyter.widget-view+json": {
       "model_id": "d6e55fb5da254fb9b9ca9e3539bc6be4",
       "version_major": 2,
       "version_minor": 0
      },
      "image/png": "[encoded data removed]",
      "text/html": [
       "\n",
       "            <div style=\"display: inline-block;\">\n",
       "                <div class=\"jupyter-widgets widget-label\" style=\"text-align: center;\">\n",
       "                    Figure\n",
       "                </div>\n",
       "                <img src='data:image/png;base64,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' width=640.0/>\n",
       "            </div>\n",
       "        "
      ],
      "text/plain": [
       "Canvas(toolbar=Toolbar(toolitems=[('Home', 'Reset original view', 'home', 'home'), ('Back', 'Back to previous …"
      ]
     },
     "metadata": {},
     "output_type": "display_data"
    }
   ],
   "source": [
    "# compute a curve to show the mapping\n",
    "computed = bspline(bpline_animations.quats[5, :, 1, 1])\n",
    "\n",
    "# x points along keyframes\n",
    "x_actual = np.arange(401, dtype=np.int32)\n",
    "\n",
    "# Plotting the original function, fixed points, and the cubic spline curve\n",
    "fig1, (ax1) = plt.subplots(1, 1)\n",
    "ax1.plot(x_actual, computed, label='Cubic B Spline')\n",
    "ax1.plot(x_actual, resampled_animations[5].quats[:, 1, 1], label='Original', linestyle='dashed')\n",
    "ax1.scatter(x_points, bpline_animations.quats[5, :, 1, 1], label='Control Points', color='red')\n",
    "ax1.legend()\n",
    "ax1.set_title('Converting animation to B Spline')\n",
    "ax1.set_xlabel('Keyframe')\n",
    "ax1.set_ylabel('Value')"
   ]
  },
  {
   "cell_type": "code",
   "execution_count": 18,
   "id": "d00ff681-dc66-4c34-9f10-b3cc0ab1b655",
   "metadata": {
    "tags": []
   },
   "outputs": [
    {
     "data": {
      "application/vnd.jupyter.widget-view+json": {
       "model_id": "db4dd55d5dbc4e679d869cdd0e720665",
       "version_major": 2,
       "version_minor": 0
      },
      "text/plain": [
       "interactive(children=(Timeline(value=0, children=(Play(value=0, description='play', interval=33, layout=Layout…"
      ]
     },
     "metadata": {},
     "output_type": "display_data"
    },
    {
     "data": {
      "application/vnd.jupyter.widget-view+json": {
       "model_id": "0b9a3a44c4b343128a2a756bb1f50cc7",
       "version_major": 2,
       "version_minor": 0
      },
      "text/plain": [
       "Viewer(camera_far=2800.0, camera_near=20.0, camera_pitch=-18.0, camera_pos=[-370, 280, 350], camera_yaw=-45.0,…"
      ]
     },
     "execution_count": 18,
     "metadata": {},
     "output_type": "execute_result"
    }
   ],
   "source": [
    "def render(frame, index, onspot=False):\n",
    "  \n",
    "    # convert the entire animation :\n",
    "    f = frame\n",
    "    q = np.zeros([101, character.bone_count(), 4])\n",
    "    p = np.zeros([101, character.bone_count(), 3])\n",
    "    \n",
    "    #interval_count = (frame_count-4 + point_count)/(point_count-3)\n",
    "    interval_count = 6\n",
    "    \n",
    "    # b spline basis\n",
    "    BS = np.array([[-1,3,-3,1],[3,-6,0,4],[-3,3,3,1], [1,0,0,0]], dtype=np.double).T/6.0\n",
    "    t = np.linspace(0, 1, interval_count)\n",
    "    T = np.column_stack([t**3, t**2, t, np.ones_like(t)])\n",
    "\n",
    "    # compute b spline\n",
    "    def bspline(Pts):\n",
    "        segment = int(Pts.shape[0]-3)\n",
    "        output = np.zeros([segment*(interval_count-1)+1])\n",
    "        index = 0\n",
    "        for s in range(segment):\n",
    "            output[index*(interval_count-1):index*(interval_count-1)+interval_count] =  np.dot(T, np.dot(BS, Pts[index:index+4])) \n",
    "            index += 1\n",
    "        return output\n",
    "    \n",
    "    # convert frames\n",
    "    for b in range(character.bone_count()):\n",
    "        q[:, b, 0] = bspline(bpline_animations.quats[index, :, b, 0])\n",
    "        q[:, b, 1] = bspline(bpline_animations.quats[index, :, b, 1])\n",
    "        q[:, b, 2] = bspline(bpline_animations.quats[index, :, b, 2])\n",
    "        q[:, b, 3] = bspline(bpline_animations.quats[index, :, b, 3])\n",
    "        p[:, b, 0] = bspline(bpline_animations.pos[index, :, b, 0])\n",
    "        p[:, b, 1] = bspline(bpline_animations.pos[index, :, b, 1])\n",
    "        p[:, b, 2] = bspline(bpline_animations.pos[index, :, b, 2])\n",
    "\n",
    "    q = lab.utils.quat_normalize(q)\n",
    "\n",
    "    \n",
    "    generic_time = 0\n",
    "    while f > timings[index, 5]:\n",
    "        f -= timings[index, 5]\n",
    "    \n",
    "    for i in range(5):\n",
    "        if f <= timings[index, i+1]:\n",
    "            generic_time = float(i) + (float(f) - timings[index, i])/(timings[index, i+1] - timings[index, i])\n",
    "            break\n",
    "\n",
    "    generic_time *= 100/5 # use 100 because we read the bspline with 100 values, and 5 because the timings will return a value between 0 and 5 for the generic time\n",
    "        \n",
    "    # pick the wanted frame\n",
    "    q = q[int(generic_time)]\n",
    "    p = p[int(generic_time)]\n",
    "        \n",
    "    if onspot:\n",
    "        p[0] = 0\n",
    "        q[0] = np.array([1,0,0,0], dtype=np.float32)\n",
    "    \n",
    "    m = lab.utils.quat_to_mat(q, p)\n",
    "    \n",
    "    viewer.set_shadow_poi(p[0])\n",
    "    \n",
    "    viewer.begin_shadow()\n",
    "    viewer.draw(character, m)\n",
    "    viewer.end_shadow()\n",
    "    \n",
    "    viewer.begin_display()\n",
    "    viewer.draw_ground()\n",
    "    viewer.draw(character, m)\n",
    "    viewer.end_display()\n",
    "    viewer.execute_commands()\n",
    "\n",
    "    \n",
    "timeline = lab.Timeline(min=0, max=1000)\n",
    "combo = widgets.Dropdown(description='Animation', options=range(bpline_animations.pos.shape[0]), value=0)\n",
    "\n",
    "\n",
    "interact(\n",
    "    render, \n",
    "    frame=timeline,\n",
    "    index=combo\n",
    ")\n",
    "viewer"
   ]
  },
  {
   "cell_type": "markdown",
   "id": "642ec9e5-9430-44c2-bfe6-2a8a0f13acd5",
   "metadata": {},
   "source": [
    "## Verb Construction"
   ]
  },
  {
   "cell_type": "markdown",
   "id": "c56ef203-e474-46f3-ac5f-4c19bcec4c81",
   "metadata": {},
   "source": [
    "### RBF"
   ]
  },
  {
   "cell_type": "code",
   "execution_count": 19,
   "id": "84d3ab24-2483-4a31-a9e4-145a9d737738",
   "metadata": {
    "tags": []
   },
   "outputs": [],
   "source": [
    "class RBF:\n",
    "    \n",
    "    @staticmethod\n",
    "    def B3 (x):\n",
    "        x1 = x-1\n",
    "        bezier = (1.0/6.0) * (-(x1**3) + 3*(x1**2) - 3*x1 + 1)\n",
    "        bezier[x>2.0] = 0\n",
    "        bezier[x<1.0] = (1.0/6.0)*(3*(x**3)-6*(x**2)+4)[x<1.0]\n",
    "        return bezier\n",
    "        \n",
    "    \n",
    "    def __init__(self, adverbs):\n",
    "        \"\"\"\n",
    "        param adverbs : tensor of shape [i, j] with i the number of data point and j the number of adverb\n",
    "        \"\"\"\n",
    "        self._adverbs = adverbs\n",
    "        c = np.swapaxes(adverbs[np.newaxis, ...], 0, 2)\n",
    "        r = np.swapaxes(adverbs.T[np.newaxis, ...], 0, 1)\n",
    "        distances = np.sqrt(np.sum((c - r)**2, axis=0))\n",
    "        \n",
    "        self._alphas = np.zeros([adverbs.shape[0]])\n",
    "        for i in range(adverbs.shape[0]):\n",
    "            self._alphas[i] = np.min(distances[i, np.arange(adverbs.shape[0]) != i])\n",
    "            \n",
    "        self._D = RBF.B3(distances / self._alphas[np.newaxis, :])\n",
    "        self._linear_adverbs = np.column_stack([np.ones(adverbs.shape[0]), adverbs])\n",
    "        \n",
    "        \n",
    "    def fit(self, p):\n",
    "        \"\"\"\n",
    "        param p : tensor of shape [i] with i being the adverbs values for each of the data point\n",
    "        returns a tuple with a tensor for the linear coefficients and a tensor for the radial coefficients\n",
    "        \"\"\"\n",
    "        linear_coefficients = np.linalg.lstsq(self._linear_adverbs, p, rcond=None)[0]\n",
    "        residuals = p - np.dot(self._linear_adverbs, linear_coefficients)\n",
    "        radial_coefficients = np.linalg.solve(self._D, residuals)\n",
    "        \n",
    "        return linear_coefficients, radial_coefficients\n",
    "\n",
    "    \n",
    "    def __call__(self, linear_coefficients, radial_coefficients, p):\n",
    "        \"\"\"\n",
    "        param linear_coefficients : the linear coefficients returned by the fit\n",
    "        param radial_coefficients : the radial_coefficients returned by the fit\n",
    "        param p : tensor of shape [i, j] with i being the number of points to interpolate et j beeing the adverbs values\n",
    "        return : a tensor with all the interpolated values\n",
    "        \"\"\"\n",
    "        linear = np.dot(np.column_stack([np.ones(p.shape[0]), p]), linear_coefficients)\n",
    "        \n",
    "        c = np.swapaxes(p[np.newaxis, ...], 0, 2)\n",
    "        r = np.swapaxes(self._adverbs.T[np.newaxis, ...], 0, 1)\n",
    "        D = RBF.B3(np.sqrt(np.sum((c - r)**2, axis=0)) / self._alphas[np.newaxis, :])\n",
    "\n",
    "        return linear + np.dot(D, radial_coefficients)"
   ]
  },
  {
   "cell_type": "markdown",
   "id": "3dcc89cc-d489-418f-81de-6bb5cf717731",
   "metadata": {},
   "source": [
    "### Define adverbs"
   ]
  },
  {
   "cell_type": "code",
   "execution_count": 20,
   "id": "e81c018e-d8d5-40a4-8fb3-1a63dff4070f",
   "metadata": {
    "tags": []
   },
   "outputs": [
    {
     "data": {
      "text/plain": [
       "array([[ 0.11793686,  0.        ],\n",
       "       [ 0.76773497,  0.        ],\n",
       "       [ 1.60984876,  0.        ],\n",
       "       [ 3.0775927 ,  0.        ],\n",
       "       [-1.74392164,  0.        ],\n",
       "       [-1.30536708,  0.        ],\n",
       "       [-2.0454693 ,  0.        ],\n",
       "       [ 0.22568389,  1.        ],\n",
       "       [-0.78203833,  1.        ],\n",
       "       [-1.0453719 ,  1.        ],\n",
       "       [ 1.33415495,  1.        ],\n",
       "       [ 0.84432514,  1.        ]])"
      ]
     },
     "execution_count": 20,
     "metadata": {},
     "output_type": "execute_result"
    }
   ],
   "source": [
    "# 2 dimensions : first is the rotation, second is the style\n",
    "\n",
    "adverbs = np.zeros([len(animations), 2])\n",
    "for i, anim in enumerate(animations):\n",
    "    direction = lab.utils.quat_mul_vec(anim.quats[-2, 0, :], np.asarray([0.0, 0.0, 1.0])) #-2 because one animation is rotating just too far\n",
    "    adverbs[i, 0] = np.arctan2(direction[0], direction[2])\n",
    "adverbs[7:, 1] = 1\n",
    "adverbs"
   ]
  },
  {
   "cell_type": "markdown",
   "id": "acb4f064-370b-44fd-924d-d70a1851a304",
   "metadata": {},
   "source": [
    "### Build RBF"
   ]
  },
  {
   "cell_type": "code",
   "execution_count": 21,
   "id": "e09787c6-d82c-439c-ad70-a95213fc42ce",
   "metadata": {
    "tags": []
   },
   "outputs": [],
   "source": [
    "animations_rbf = RBF(adverbs)\n",
    "\n",
    "timings_linear_coefs = np.zeros([6,3])\n",
    "timings_radial_coefs = np.zeros([6,12])\n",
    "\n",
    "for i in range(6):\n",
    "    timings_linear_coefs[i,:], timings_radial_coefs[i, :] = animations_rbf.fit(timings[:, i])\n",
    "    \n",
    "animation_linear_coefs = np.zeros([point_count, character.bone_count(), 7, 3])\n",
    "animation_radial_coefs = np.zeros([point_count, character.bone_count(), 7,12])\n",
    "\n",
    "for i in range(point_count):\n",
    "    for b in range(character.bone_count()):\n",
    "        animation_linear_coefs[i, b, 0, :], animation_radial_coefs[i, b, 0, :] = animations_rbf.fit(bpline_animations.quats[:, i, b, 0])\n",
    "        animation_linear_coefs[i, b, 1, :], animation_radial_coefs[i, b, 1, :] = animations_rbf.fit(bpline_animations.quats[:, i, b, 1])\n",
    "        animation_linear_coefs[i, b, 2, :], animation_radial_coefs[i, b, 2, :] = animations_rbf.fit(bpline_animations.quats[:, i, b, 2])\n",
    "        animation_linear_coefs[i, b, 3, :], animation_radial_coefs[i, b, 3, :] = animations_rbf.fit(bpline_animations.quats[:, i, b, 3])\n",
    "        animation_linear_coefs[i, b, 4, :], animation_radial_coefs[i, b, 4, :] = animations_rbf.fit(bpline_animations.pos[:, i, b, 0])\n",
    "        animation_linear_coefs[i, b, 5, :], animation_radial_coefs[i, b, 5, :] = animations_rbf.fit(bpline_animations.pos[:, i, b, 1])\n",
    "        animation_linear_coefs[i, b, 6, :], animation_radial_coefs[i, b, 6, :] = animations_rbf.fit(bpline_animations.pos[:, i, b, 2])"
   ]
  },
  {
   "cell_type": "markdown",
   "id": "b108bdca-d51e-40d6-bbce-e6a8cc93592d",
   "metadata": {},
   "source": [
    "### Interpolate Adverbs"
   ]
  },
  {
   "cell_type": "code",
   "execution_count": 22,
   "id": "0f5b5ac4-2ec6-440a-8f70-c38356572f9f",
   "metadata": {
    "tags": []
   },
   "outputs": [
    {
     "data": {
      "application/vnd.jupyter.widget-view+json": {
       "model_id": "f1dc609db33f4688b90710d91b656929",
       "version_major": 2,
       "version_minor": 0
      },
      "text/plain": [
       "interactive(children=(FloatSlider(value=0.0, description='value', layout=Layout(width='800px'), max=1.0, step=…"
      ]
     },
     "metadata": {},
     "output_type": "display_data"
    },
    {
     "data": {
      "text/plain": [
       "<function __main__.test_value(value)>"
      ]
     },
     "execution_count": 22,
     "metadata": {},
     "output_type": "execute_result"
    },
    {
     "data": {
      "application/vnd.jupyter.widget-view+json": {
       "model_id": "45bc616040d349ba967f703a893437d1",
       "version_major": 2,
       "version_minor": 0
      },
      "image/png": "[encoded data removed]",
      "text/html": [
       "\n",
       "            <div style=\"display: inline-block;\">\n",
       "                <div class=\"jupyter-widgets widget-label\" style=\"text-align: center;\">\n",
       "                    Figure\n",
       "                </div>\n",
       "                <img src='data:image/png;base64,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' width=640.0/>\n",
       "            </div>\n",
       "        "
      ],
      "text/plain": [
       "Canvas(toolbar=Toolbar(toolitems=[('Home', 'Reset original view', 'home', 'home'), ('Back', 'Back to previous …"
      ]
     },
     "metadata": {},
     "output_type": "display_data"
    }
   ],
   "source": [
    "# showing picking the right points\n",
    "fig2, (ax2) = plt.subplots(1, 1)\n",
    "ax2.set_title('Converting animation to B Spline')\n",
    "ax2.set_xlabel('Keyframe')\n",
    "ax2.set_ylabel('Value')\n",
    "    \n",
    "def test_value(value):\n",
    "    \n",
    "    BS = np.array([[-1,3,-3,1],[3,-6,0,4],[-3,3,3,1], [1,0,0,0]], dtype=np.double).T/6.0\n",
    "    t = np.linspace(0, 1, 101)\n",
    "    T = np.column_stack([t**3, t**2, t, np.ones_like(t)])\n",
    "    \n",
    "    \n",
    "    index = int(value*20)\n",
    "    index = np.minimum(index, 19)\n",
    "    ratio = (value*20)-index\n",
    "    pts = bpline_animations.quats[5, :, 1, 1][index:index+4]\n",
    "    \n",
    "    #display(index, ratio)\n",
    "\n",
    "    y = np.dot(T, np.dot(BS, pts))\n",
    "    \n",
    "\n",
    "    # x points along keyframes\n",
    "    x_actual = np.arange(401, dtype=np.int32)\n",
    "    ax2.cla()\n",
    "    \n",
    "    ax2.plot((index+t)*400/20, y, label='Cubic B Spline')\n",
    "\n",
    "    ax2.plot(x_actual, resampled_animations[5].quats[:, 1, 1], label='Original', linestyle='dashed')\n",
    "    ax2.scatter(x_points[index:index+4], pts, label='Control Points', color='red')\n",
    "    ax2.scatter((index+ratio)*400/20, y[int(ratio*100)], label='value', color='blue')\n",
    "    \n",
    "\n",
    "interact(\n",
    "    test_value, \n",
    "    value=widgets.FloatSlider(min=0, max=1, step=0.001, value=0, layout = widgets.Layout(width='800px'))\n",
    ")"
   ]
  },
  {
   "cell_type": "code",
   "execution_count": 31,
   "id": "08af3357-3299-4838-bd74-dc458bb56ecc",
   "metadata": {
    "tags": []
   },
   "outputs": [
    {
     "data": {
      "application/vnd.jupyter.widget-view+json": {
       "model_id": "770c7fa7dde345e3b81b948c45a07fd3",
       "version_major": 2,
       "version_minor": 0
      },
      "text/plain": [
       "interactive(children=(Timeline(value=0, children=(Play(value=0, description='play', interval=33, layout=Layout…"
      ]
     },
     "metadata": {},
     "output_type": "display_data"
    },
    {
     "data": {
      "application/vnd.jupyter.widget-view+json": {
       "model_id": "0b9a3a44c4b343128a2a756bb1f50cc7",
       "version_major": 2,
       "version_minor": 0
      },
      "text/plain": [
       "Viewer(camera_far=2800.0, camera_near=20.0, camera_pitch=-20.99999999999998, camera_pos=[-420.3744845568191, 4…"
      ]
     },
     "execution_count": 31,
     "metadata": {},
     "output_type": "execute_result"
    }
   ],
   "source": [
    "from dataclasses import dataclass, field\n",
    "\n",
    "@dataclass(repr=True)\n",
    "class Buffer:\n",
    "    lastframe:float = 0\n",
    "    currentframe:float = 0\n",
    "    last_quat:np.array = np.array([1,0,0,0])\n",
    "    last_pos:np.array = np.zeros(3)\n",
    "    current_quat:np.array = np.array([1,0,0,0])\n",
    "    current_pos:np.array = np.zeros(3)\n",
    "    generic_time:float = 0\n",
    "    lf_q:np.array = np.array([1,0,0,0])\n",
    "    lf_p:np.array = np.zeros(3)\n",
    "    rf_q:np.array = np.array([1,0,0,0])\n",
    "    rf_p:np.array = np.zeros(3)\n",
    "\n",
    "buffer = Buffer()\n",
    "    \n",
    "def render(frame, angle, mood, lock_feet=False):\n",
    "    \n",
    "    if frame == 0:\n",
    "        buffer.currentframe = 0\n",
    "        buffer.current_quat = np.array([1,0,0,0])\n",
    "        buffer.current_pos = np.zeros(3)\n",
    "        buffer.last_quat = np.array([1,0,0,0])\n",
    "        buffer.last_pos = np.zeros(3)\n",
    "        buffer.lastframe = 0\n",
    "    elif frame > buffer.lastframe:\n",
    "        buffer.currentframe += 1\n",
    "    elif frame < buffer.lastframe:\n",
    "        buffer.currentframe -= 1\n",
    "        \n",
    "    buffer.lastframe = buffer.currentframe\n",
    "    \n",
    "    # adverbs\n",
    "    control = np.asarray([angle , mood])[np.newaxis,:]\n",
    "    \n",
    "    # compute time table\n",
    "    computed_times = np.zeros([6], dtype=np.float32)\n",
    "    for i in range(6):\n",
    "        computed_times[i] = animations_rbf(timings_linear_coefs[i], timings_radial_coefs[i], control)[0]\n",
    "            \n",
    "    # get the generic time\n",
    "    while (buffer.currentframe < 0):\n",
    "        buffer.currentframe += int(computed_times[5])\n",
    "        buffer.last_quat = np.array([1,0,0,0])\n",
    "        buffer.last_pos = np.zeros(3)\n",
    "    while (buffer.currentframe > computed_times[5]):\n",
    "        buffer.currentframe -= int(computed_times[5])\n",
    "        buffer.last_quat = np.array([1,0,0,0])\n",
    "        buffer.last_pos = np.zeros(3)\n",
    "        \n",
    "        \n",
    "    frame = buffer.currentframe\n",
    "        \n",
    "    buffer.generic_time = 0\n",
    "    for i in range(5):\n",
    "        if frame <= computed_times[i+1]:\n",
    "            buffer.generic_time = float(i) + (float(frame) - computed_times[i])/(computed_times[i+1] - computed_times[i])\n",
    "            break\n",
    "    buffer.generic_time /= 5.0\n",
    "    \n",
    "    # find control points\n",
    "    index = int(buffer.generic_time*20)\n",
    "    index = np.minimum(index, 19)\n",
    "    ratio = (buffer.generic_time*20)-index\n",
    "    \n",
    "    # interplate points\n",
    "    points = np.zeros([4, character.bone_count(), 7])\n",
    "    for i in range(4):\n",
    "        for b in range(character.bone_count()):\n",
    "            for j in range(7):\n",
    "                points[i, b, j] = animations_rbf(animation_linear_coefs[i+index, b, j], animation_radial_coefs[i+index, b, j], control)[0]\n",
    "\n",
    "    \n",
    "    # compute spline value\n",
    "    BS = np.array([[-1,3,-3,1],[3,-6,0,4],[-3,3,3,1], [1,0,0,0]], dtype=np.double).T/6.0\n",
    "    t = np.linspace(0, 1, 33)\n",
    "    T = np.column_stack([t**3, t**2, t, np.ones_like(t)])\n",
    "    \n",
    "    q = np.zeros([33, character.bone_count(), 4])\n",
    "    p = np.zeros([33, character.bone_count(), 3])\n",
    "    \n",
    "    for b in range(character.bone_count()):\n",
    "        q[:, b, 0] = np.dot(T, np.dot(BS, points[:, b, 0]))\n",
    "        q[:, b, 1] = np.dot(T, np.dot(BS, points[:, b, 1]))\n",
    "        q[:, b, 2] = np.dot(T, np.dot(BS, points[:, b, 2]))\n",
    "        q[:, b, 3] = np.dot(T, np.dot(BS, points[:, b, 3]))\n",
    "        p[:, b, 0] = np.dot(T, np.dot(BS, points[:, b, 4]))\n",
    "        p[:, b, 1] = np.dot(T, np.dot(BS, points[:, b, 5]))\n",
    "        p[:, b, 2] = np.dot(T, np.dot(BS, points[:, b, 6]))\n",
    "\n",
    "    q = lab.utils.quat_normalize(q)\n",
    "\n",
    "    frame_index = int(ratio*32)\n",
    "\n",
    "    q = q[frame_index]\n",
    "    p = p[frame_index]\n",
    "    \n",
    "    off_quat, off_pos = lab.utils.qp_mul(lab.utils.qp_inv((buffer.last_quat, buffer.last_pos)), (q[0], p[0]))\n",
    "    buffer.current_quat, buffer.current_pos = lab.utils.qp_mul((buffer.current_quat, buffer.current_pos), (off_quat, off_pos))\n",
    "    buffer.current_quat = lab.utils.quat_normalize(buffer.current_quat)\n",
    "\n",
    "    buffer.last_quat, buffer.last_pos = q[0].copy(), p[0].copy()\n",
    "    \n",
    "    q[0] = buffer.current_quat.copy()\n",
    "    p[0] = buffer.current_pos.copy()\n",
    "    \n",
    "    # global positions ( to get feet )\n",
    "    gq, gp = lab.utils.quat_fk(q, p, bpline_animations.parents)\n",
    "    \n",
    "    if buffer.generic_time > 1.9/6. and buffer.generic_time < 5.1/6. :\n",
    "        buffer.lf_q = gq[character.bone_index('LeftFoot')]\n",
    "        buffer.lf_p = gp[character.bone_index('LeftFoot')]\n",
    "        \n",
    "    if buffer.generic_time < 2.5/6. or buffer.generic_time > 4/6. :\n",
    "        buffer.rf_q = gq[character.bone_index('RightFoot')]\n",
    "        buffer.rf_p = gp[character.bone_index('RightFoot')]\n",
    "    \n",
    "    temp_q, temp_p = lab.utils.limb_ik(\n",
    "        q[np.newaxis,...], p[np.newaxis,...], \n",
    "        bpline_animations.parents, bpline_animations.bones,\n",
    "        np.concatenate([buffer.lf_q[np.newaxis,...], buffer.rf_q[np.newaxis,...]])[np.newaxis,...], \n",
    "        np.concatenate([buffer.lf_p[np.newaxis,...], buffer.rf_p[np.newaxis,...]])[np.newaxis,...]\n",
    "    )\n",
    "    if lock_feet:\n",
    "        q = temp_q[0]\n",
    "        p = temp_p[0]\n",
    "    \n",
    "    m = lab.utils.quat_to_mat(q, p)\n",
    "    \n",
    "    viewer.set_shadow_poi(p[0])\n",
    "    \n",
    "    viewer.begin_shadow()\n",
    "    viewer.draw(character, m)\n",
    "    viewer.end_shadow()\n",
    "    \n",
    "    viewer.begin_display()\n",
    "    viewer.draw_ground()\n",
    "    viewer.draw(character, m)\n",
    "    viewer.end_display()\n",
    "\n",
    "    viewer.disable(depth_test=True)\n",
    "   \n",
    "    viewer.draw_axis(character.world_skeleton_xforms(m), 5)\n",
    "    viewer.draw_lines(character.world_skeleton_lines(m))\n",
    "\n",
    "    viewer.execute_commands()\n",
    "    \n",
    "interact(\n",
    "    render, \n",
    "    frame=lab.Timeline(min=0, max=5000),\n",
    "    angle=widgets.FloatSlider(min=-3, max=3, step=0.01, value=0),\n",
    "    mood=widgets.FloatSlider(min=0, max=1, step=0.01, value=0)\n",
    ")\n",
    "viewer"
   ]
  }
 ],
 "metadata": {
  "kernelspec": {
   "display_name": "Python 3 (ipykernel)",
   "language": "python",
   "name": "python3"
  },
  "language_info": {
   "codemirror_mode": {
    "name": "ipython",
    "version": 3
   },
   "file_extension": ".py",
   "mimetype": "text/x-python",
   "name": "python",
   "nbconvert_exporter": "python",
   "pygments_lexer": "ipython3",
   "version": "3.10.10"
  }
 },
 "nbformat": 4,
 "nbformat_minor": 5
}
