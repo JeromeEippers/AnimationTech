{
 "cells": [
  {
   "cell_type": "markdown",
   "id": "12854617-4bb1-4b9c-9365-4fb58fca2141",
   "metadata": {},
   "source": [
    "# Halo 4 facial animations.\n",
    "\n",
    "Using principal component analysis to compress vertex animation.\n",
    "\n",
    "Notebook by Jerome Eippers, 2024"
   ]
  },
  {
   "cell_type": "code",
   "execution_count": null,
   "id": "b582c66f-1850-49e7-a26a-5be6ed328329",
   "metadata": {
    "tags": []
   },
   "outputs": [],
   "source": [
    "%matplotlib widget\n",
    "import ipyanimlab as lab\n",
    "import numpy as np\n",
    "from sklearn import decomposition\n",
    "from ipywidgets import widgets, interact\n",
    "from matplotlib import pyplot as plt\n",
    "\n",
    "viewer = lab.Viewer(move_speed=5, width=1280, height=720)\n",
    "viewer.set_time_of_day(38)"
   ]
  },
  {
   "cell_type": "code",
   "execution_count": null,
   "id": "814afc72-2495-4147-97bd-a75d7b8359b1",
   "metadata": {},
   "outputs": [],
   "source": [
    "material = lab.Material('white',albedo=np.array([1,1,1], dtype=np.float32), roughness=0.5, metallic=0.0, reflectance=.1, emissive=0.0)"
   ]
  },
  {
   "cell_type": "markdown",
   "id": "6469e978-1265-4ed5-8232-8a01aa3bd4de",
   "metadata": {},
   "source": [
    "## Load data\n",
    "Let's load animation data as pure stream of vertex positions.  "
   ]
  },
  {
   "cell_type": "code",
   "execution_count": null,
   "id": "e390ba3d-93f7-4864-bb9d-5394b1911dd8",
   "metadata": {
    "tags": []
   },
   "outputs": [],
   "source": [
    "import pickle\n",
    "with open('animated_face.dat', 'rb') as f:\n",
    "    indices, normals, frames = pickle.load(f)\n",
    "    \n",
    "indices = np.array(indices, dtype=np.uint16)\n",
    "normals = np.array(normals, dtype=np.float32)\n",
    "frames = np.array(frames, dtype=np.float32)\n",
    "\n",
    "## ---------------------- DATA -------------------------\n",
    "## indices = [triangle count, 3] the list of vertex indices for each triangle\n",
    "## normals = [number of vertex, 3] the list of xyz component for each vertex normals\n",
    "## frames = [frame count, number of vertex, 3] the xyz position for each vertex for each frame of animation.\n",
    "\n",
    "display(('indices', indices.shape))\n",
    "display(('normals', normals.shape))\n",
    "display(('frames', frames.shape))"
   ]
  },
  {
   "cell_type": "markdown",
   "id": "dbd383b4-35fc-4ef5-965f-db5e2f90b03f",
   "metadata": {},
   "source": [
    "## Build streaming shader\n",
    "We need to create a dynamic vertex buffer to stream the facial animation, and a new shader to read it."
   ]
  },
  {
   "cell_type": "code",
   "execution_count": null,
   "id": "9dc6863b-1108-4327-b3da-bfab2933cb7a",
   "metadata": {
    "tags": []
   },
   "outputs": [],
   "source": [
    "vbo = viewer.create_buffer_ext(src_data=frames[0, ...].astype(np.float32).flatten(), usage='DYNAMIC_DRAW')\n",
    "vbo_normals = viewer.create_buffer_ext(src_data=normals.astype(np.float32).flatten())"
   ]
  },
  {
   "cell_type": "code",
   "execution_count": null,
   "id": "b92af0d3-e463-4f06-b6a2-b7d422f74f95",
   "metadata": {
    "tags": []
   },
   "outputs": [],
   "source": [
    "vao = viewer.create_vertex_array_ext(\n",
    "            None,\n",
    "            [(vbo, '3f32', 0),\n",
    "            (vbo_normals, '3f32', 1)],\n",
    "            indices\n",
    "        )"
   ]
  },
  {
   "cell_type": "code",
   "execution_count": null,
   "id": "efca14bb-5fb6-4008-95a3-addddd88e259",
   "metadata": {
    "tags": []
   },
   "outputs": [],
   "source": [
    "vs = \"\"\"#version 300 es\n",
    "//the ViewBlock that is automatically filled by ipywebgl\n",
    "layout(std140) uniform ViewBlock\n",
    "{\n",
    "    mat4 u_cameraMatrix;          //the camera matrix in world space\n",
    "    mat4 u_viewMatrix;            //the inverse of the camera matrix\n",
    "    mat4 u_projectionMatrix;      //the projection matrix\n",
    "    mat4 u_viewProjectionMatrix;  //the projection * view matrix\n",
    "};\n",
    "\n",
    "in vec3 in_vert;\n",
    "in vec3 in_normals;\n",
    "\n",
    "out vec4 v_viewposition;\n",
    "out vec4 v_viewnormal;\n",
    "out vec4 v_vertcolor;\n",
    "\n",
    "void main() {\n",
    "    vec4 pos = vec4(in_vert, 1.0);\n",
    "    vec4 normal = vec4(in_normals, 0.0);\n",
    "    \n",
    "    v_viewposition = pos * u_viewMatrix;\n",
    "    v_viewnormal = normal * u_viewMatrix;\n",
    "    gl_Position = v_viewposition * u_projectionMatrix;\n",
    "\n",
    "    v_vertcolor = vec4(1,1,1,1);\n",
    "  }\n",
    "\"\"\"\n",
    "\n",
    "fs = \"\"\"#version 300 es\n",
    "precision highp float;\n",
    "\n",
    "uniform vec3 u_color;\n",
    "uniform vec4 u_material;\n",
    "in vec4 v_viewposition;\n",
    "in vec4 v_viewnormal;\n",
    "in vec4 v_vertcolor;\n",
    "\n",
    "\n",
    "layout(location=0) out vec4 color;\n",
    "layout(location=1) out vec4 material;\n",
    "layout(location=2) out vec4 viewPosition;\n",
    "layout(location=3) out vec4 viewNormal;\n",
    "\n",
    "void main() {\n",
    "    color = vec4(u_color * v_vertcolor.rgb, v_vertcolor.a);\n",
    "    material = u_material;\n",
    "    viewPosition = vec4(v_viewposition.xyz, 1.0);\n",
    "    viewNormal = vec4(normalize(v_viewnormal.xyz), 0.0);\n",
    "}\n",
    "\"\"\"\n",
    "prog = viewer.create_program_ext(\n",
    "            vs,\n",
    "            fs,\n",
    "            {\n",
    "                'in_vert' : 0,\n",
    "                'in_normals' : 1,\n",
    "            }\n",
    "        )"
   ]
  },
  {
   "cell_type": "markdown",
   "id": "454661d2-8cba-40f0-b98d-572641ab8d6c",
   "metadata": {},
   "source": [
    "## Render vertex stream"
   ]
  },
  {
   "cell_type": "code",
   "execution_count": null,
   "id": "58fe1add-f7a0-4340-aba0-75ae2fc39f76",
   "metadata": {
    "tags": []
   },
   "outputs": [],
   "source": [
    "def render(frame):\n",
    "    viewer.bind_buffer(buffer=vbo)\n",
    "    viewer.buffer_data(src_data=frames[frame, ...].astype(np.float32).flatten(), usage='DYNAMIC_DRAW')\n",
    "    \n",
    "    viewer.begin_shadow()\n",
    "    viewer.end_shadow()\n",
    "\n",
    "    viewer.begin_display()\n",
    "    viewer.draw_ground()\n",
    "\n",
    "    viewer.use_program(prog)\n",
    "    viewer.bind_vertex_array(vao)\n",
    "    viewer.uniform('u_color', material.albedo)\n",
    "    viewer.uniform('u_material', material.material_uniform)\n",
    "    viewer.draw_elements('TRIANGLES', indices.shape[0]*3, 'UNSIGNED_SHORT', 0)\n",
    "\n",
    "    viewer.end_display()\n",
    "    viewer.execute_commands()\n",
    "    \n",
    "interact(\n",
    "    render, \n",
    "    frame=lab.Timeline(min=0, max=frames.shape[0]-1)\n",
    ")\n",
    "viewer"
   ]
  },
  {
   "cell_type": "markdown",
   "id": "e7ee93ff-0058-4f7a-98cc-f7e248712989",
   "metadata": {
    "tags": []
   },
   "source": [
    "## The issue\n",
    "\n",
    "The size of the data to stream is huge. We will need to find a way to compress this data."
   ]
  },
  {
   "cell_type": "code",
   "execution_count": null,
   "id": "984b6ace-4c35-47c3-8923-fd66eb8c7ed7",
   "metadata": {
    "tags": []
   },
   "outputs": [],
   "source": [
    "display(f'animation memory size : {frames.size * 4 / 1024 / 1024} Mb')"
   ]
  },
  {
   "cell_type": "markdown",
   "id": "b6533ecd-78df-4634-afdc-f2ec6af13081",
   "metadata": {
    "tags": []
   },
   "source": [
    "## PCA\n",
    "\n",
    "Let's use a PCA to reduce the number of dimensions. In this case we will reduce the 220 frames of animations into just 7 'frames'"
   ]
  },
  {
   "cell_type": "code",
   "execution_count": null,
   "id": "ab5f607a-5fbd-4cce-a5e2-4d73ed2c38a8",
   "metadata": {
    "tags": []
   },
   "outputs": [],
   "source": [
    "data = frames.reshape(220, -1)\n",
    "\n",
    "pca = decomposition.PCA(n_components=7)\n",
    "pca.fit(data)"
   ]
  },
  {
   "cell_type": "markdown",
   "id": "e6898ac7-0811-47f4-b48b-6f3a8440c092",
   "metadata": {},
   "source": [
    "The PCA will give us 7 'frames' with a full head"
   ]
  },
  {
   "cell_type": "code",
   "execution_count": null,
   "id": "2f583b0d-3f05-40fd-ab9a-d05571e52b6f",
   "metadata": {
    "tags": []
   },
   "outputs": [],
   "source": [
    "pca.components_.shape"
   ]
  },
  {
   "cell_type": "markdown",
   "id": "7e72f292-8e66-43f4-9285-101663be7ea7",
   "metadata": {},
   "source": [
    "### Display the components\n",
    "\n",
    "Let's see the different components that where extracted from the 220 frames of animation.  \n",
    "The PCA did extract the mean before computing the components, so we have to add it to each components."
   ]
  },
  {
   "cell_type": "code",
   "execution_count": null,
   "id": "469a4036-fb6f-41d5-88fd-dc03269ab0f1",
   "metadata": {
    "tags": []
   },
   "outputs": [],
   "source": [
    "def render(pose, mult=50.0):\n",
    "    \n",
    "    v = pca.components_[pose, :]*mult + pca.mean_\n",
    "    \n",
    "    viewer.begin_shadow()\n",
    "    viewer.end_shadow()\n",
    "\n",
    "    viewer.begin_display()\n",
    "    viewer.draw_ground()\n",
    "\n",
    "    viewer.use_program(prog)\n",
    "    \n",
    "    viewer.bind_buffer(buffer=vbo)\n",
    "    viewer.buffer_data(src_data=v.astype(np.float32).flatten(), usage='DYNAMIC_DRAW')\n",
    "    \n",
    "    viewer.bind_vertex_array(vao)\n",
    "    viewer.uniform('u_color', material.albedo)\n",
    "    viewer.uniform('u_material', material.material_uniform)\n",
    "    viewer.draw_elements('TRIANGLES', indices.shape[0]*3, 'UNSIGNED_SHORT', 0)\n",
    "\n",
    "    viewer.end_display()\n",
    "    viewer.execute_commands()\n",
    "    \n",
    "interact(\n",
    "    render, \n",
    "    pose=widgets.IntSlider(min=0, max= pca.components_.shape[0]-1)\n",
    ")\n",
    "viewer"
   ]
  },
  {
   "cell_type": "markdown",
   "id": "4725ceff-fa9b-4e66-918d-7dc43b758fd7",
   "metadata": {},
   "source": [
    "### Compute the animation\n",
    "\n",
    "Using the PCA, we can now project each frames into the 7 components.  \n",
    "So each frame of animations in now composed of 7 'weights' instead of 60k vertices."
   ]
  },
  {
   "cell_type": "code",
   "execution_count": null,
   "id": "e7fcc596-3ad9-4d9c-9c47-0c9265279aad",
   "metadata": {
    "tags": []
   },
   "outputs": [],
   "source": [
    "anim_pca = pca.transform(data)"
   ]
  },
  {
   "cell_type": "markdown",
   "id": "3323f71a-065a-4269-9e70-56dd24d45ada",
   "metadata": {},
   "source": [
    "### Render using PCA\n",
    "\n",
    "We wil use the inverse_transform to convert back each pca frames into a full head.  \n",
    "And we render both head next to each other to compare."
   ]
  },
  {
   "cell_type": "code",
   "execution_count": null,
   "id": "05d0453a-5394-496b-9aa7-cd3039374ca0",
   "metadata": {
    "tags": []
   },
   "outputs": [],
   "source": [
    "def render(frame):\n",
    "    \n",
    "    display(anim_pca[frame])\n",
    "    anim = anim_pca[frame]\n",
    "    \n",
    "    v = pca.inverse_transform(anim).reshape(-1, 3)\n",
    "    v[:, 0] += 30\n",
    "    \n",
    "    viewer.begin_shadow()\n",
    "    viewer.end_shadow()\n",
    "\n",
    "    viewer.begin_display()\n",
    "    viewer.draw_ground()\n",
    "\n",
    "    viewer.use_program(prog)\n",
    "    \n",
    "    viewer.bind_buffer(buffer=vbo)\n",
    "    viewer.buffer_data(src_data=frames[frame, ...].astype(np.float32).flatten(), usage='DYNAMIC_DRAW')\n",
    "    \n",
    "    viewer.bind_vertex_array(vao)\n",
    "    viewer.uniform('u_color', material.albedo)\n",
    "    viewer.uniform('u_material', material.material_uniform)\n",
    "    viewer.draw_elements('TRIANGLES', indices.shape[0]*3, 'UNSIGNED_SHORT', 0)\n",
    "    \n",
    "    viewer.bind_buffer(buffer=vbo)\n",
    "    viewer.buffer_data(src_data=v.astype(np.float32).flatten(), usage='DYNAMIC_DRAW')\n",
    "    \n",
    "    viewer.bind_vertex_array(vao)\n",
    "    viewer.uniform('u_color', material.albedo)\n",
    "    viewer.uniform('u_material', material.material_uniform)\n",
    "    viewer.draw_elements('TRIANGLES', indices.shape[0]*3, 'UNSIGNED_SHORT', 0)\n",
    "\n",
    "    viewer.end_display()\n",
    "    viewer.execute_commands()\n",
    "    \n",
    "interact(\n",
    "    render, \n",
    "    frame=lab.Timeline(min=0, max=frames.shape[0]-1)\n",
    ")\n",
    "viewer"
   ]
  },
  {
   "cell_type": "markdown",
   "id": "bfeba640-c4c1-49d2-b340-ee76889818e3",
   "metadata": {
    "tags": []
   },
   "source": [
    "## Final Render\n",
    "\n",
    "Now we can write a shader that will take the 8 heads (the mean plus the 7 components) and that will use the 7 weights to compute the final mesh."
   ]
  },
  {
   "cell_type": "code",
   "execution_count": null,
   "id": "303f0365-18b6-48d2-8ac0-dc07f69372b8",
   "metadata": {
    "tags": []
   },
   "outputs": [],
   "source": [
    "vs_pca = \"\"\"#version 300 es\n",
    "precision highp float;\n",
    "//the ViewBlock that is automatically filled by ipywebgl\n",
    "layout(std140) uniform ViewBlock\n",
    "{\n",
    "    mat4 u_cameraMatrix;          //the camera matrix in world space\n",
    "    mat4 u_viewMatrix;            //the inverse of the camera matrix\n",
    "    mat4 u_projectionMatrix;      //the projection matrix\n",
    "    mat4 u_viewProjectionMatrix;  //the projection * view matrix\n",
    "};\n",
    "\n",
    "in vec3 in_vert;\n",
    "in vec3 in_vert_0;\n",
    "in vec3 in_vert_1;\n",
    "in vec3 in_vert_2;\n",
    "in vec3 in_vert_3;\n",
    "in vec3 in_vert_4;\n",
    "in vec3 in_vert_5;\n",
    "in vec3 in_vert_6;\n",
    "in vec3 in_normals;\n",
    "\n",
    "out vec4 v_viewposition;\n",
    "out vec4 v_viewnormal;\n",
    "out vec4 v_vertcolor;\n",
    "\n",
    "uniform float u_pca_0;\n",
    "uniform float u_pca_1;\n",
    "uniform float u_pca_2;\n",
    "uniform float u_pca_3;\n",
    "uniform float u_pca_4;\n",
    "uniform float u_pca_5;\n",
    "uniform float u_pca_6;\n",
    "\n",
    "void main() {\n",
    "    vec3 accumulated = in_vert;\n",
    "    accumulated += vec3(u_pca_0) * in_vert_0;\n",
    "    accumulated += vec3(u_pca_1) * in_vert_1;\n",
    "    accumulated += vec3(u_pca_2) * in_vert_2;\n",
    "    accumulated += vec3(u_pca_3) * in_vert_3;\n",
    "    accumulated += vec3(u_pca_4) * in_vert_4;\n",
    "    accumulated += vec3(u_pca_5) * in_vert_5;\n",
    "    accumulated += vec3(u_pca_6) * in_vert_6;\n",
    "    \n",
    "    vec4 pos = vec4(accumulated, 1.0);\n",
    "    vec4 normal = vec4(in_normals, 0.0);\n",
    "    \n",
    "    v_viewposition = pos * u_viewMatrix;\n",
    "    v_viewnormal = normal * u_viewMatrix;\n",
    "    gl_Position = v_viewposition * u_projectionMatrix;\n",
    "\n",
    "    v_vertcolor = vec4(1,1,1,1);\n",
    "  }\n",
    "\"\"\"\n",
    "\n",
    "# build the buffers\n",
    "vbo_mean = viewer.create_buffer_ext(src_data=pca.mean_.astype(np.float32).flatten())\n",
    "vbo_pca_0 = viewer.create_buffer_ext(src_data=pca.components_[0, :].astype(np.float32).flatten())\n",
    "vbo_pca_1 = viewer.create_buffer_ext(src_data=pca.components_[1, :].astype(np.float32).flatten())\n",
    "vbo_pca_2 = viewer.create_buffer_ext(src_data=pca.components_[2, :].astype(np.float32).flatten())\n",
    "vbo_pca_3 = viewer.create_buffer_ext(src_data=pca.components_[3, :].astype(np.float32).flatten())\n",
    "vbo_pca_4 = viewer.create_buffer_ext(src_data=pca.components_[4, :].astype(np.float32).flatten())\n",
    "vbo_pca_5 = viewer.create_buffer_ext(src_data=pca.components_[5, :].astype(np.float32).flatten())\n",
    "vbo_pca_6 = viewer.create_buffer_ext(src_data=pca.components_[6, :].astype(np.float32).flatten())\n",
    "\n",
    "prog_pca = viewer.create_program_ext(\n",
    "            vs_pca,\n",
    "            fs,\n",
    "            {\n",
    "                'in_vert' : 0,\n",
    "                'in_normals' : 1,\n",
    "                'in_vert_0' : 2,\n",
    "                'in_vert_1' : 3,\n",
    "                'in_vert_2' : 4,\n",
    "                'in_vert_3' : 5,\n",
    "                'in_vert_4' : 6,\n",
    "                'in_vert_5' : 7,\n",
    "                'in_vert_6' : 8,\n",
    "            }\n",
    "        )\n",
    "\n",
    "vao_pca = viewer.create_vertex_array_ext(\n",
    "            prog_pca,\n",
    "            [(vbo_mean, '3f32', 0),\n",
    "            (vbo_normals, '3f32', 1),\n",
    "            (vbo_pca_0, '3f32', 2),\n",
    "            (vbo_pca_1, '3f32', 3),\n",
    "            (vbo_pca_2, '3f32', 4),\n",
    "            (vbo_pca_3, '3f32', 5),\n",
    "            (vbo_pca_4, '3f32', 6),\n",
    "            (vbo_pca_5, '3f32', 7),\n",
    "            (vbo_pca_6, '3f32', 8)],\n",
    "            indices\n",
    "        )"
   ]
  },
  {
   "cell_type": "code",
   "execution_count": null,
   "id": "bd318be4-e6ae-4b56-8966-494091172ee3",
   "metadata": {
    "tags": []
   },
   "outputs": [],
   "source": [
    "def render(frame):\n",
    "    anim = anim_pca[frame]\n",
    "    \n",
    "    viewer.begin_shadow()\n",
    "    viewer.end_shadow()\n",
    "\n",
    "    viewer.begin_display()\n",
    "    viewer.draw_ground()\n",
    "\n",
    "    viewer.use_program(prog_pca)\n",
    "    \n",
    "    viewer.bind_vertex_array(vao_pca)\n",
    "    viewer.uniform('u_color', material.albedo)\n",
    "    viewer.uniform('u_material', material.material_uniform)\n",
    "    viewer.uniform('u_pca_0', anim[0:1])\n",
    "    viewer.uniform('u_pca_1', anim[1:2])\n",
    "    viewer.uniform('u_pca_2', anim[2:3])\n",
    "    viewer.uniform('u_pca_3', anim[3:4])\n",
    "    viewer.uniform('u_pca_4', anim[4:5])\n",
    "    viewer.uniform('u_pca_5', anim[5:6])\n",
    "    viewer.uniform('u_pca_6', anim[6:])\n",
    "    viewer.draw_elements('TRIANGLES', indices.shape[0]*3, 'UNSIGNED_SHORT', 0)\n",
    "    viewer.end_display()\n",
    "    viewer.execute_commands()\n",
    "    \n",
    "interact(\n",
    "    render, \n",
    "    frame=lab.Timeline(min=0, max=anim_pca.shape[0]-1)\n",
    ")\n",
    "viewer"
   ]
  }
 ],
 "metadata": {
  "kernelspec": {
   "display_name": "Python 3 (ipykernel)",
   "language": "python",
   "name": "python3"
  },
  "language_info": {
   "codemirror_mode": {
    "name": "ipython",
    "version": 3
   },
   "file_extension": ".py",
   "mimetype": "text/x-python",
   "name": "python",
   "nbconvert_exporter": "python",
   "pygments_lexer": "ipython3",
   "version": "3.10.10"
  }
 },
 "nbformat": 4,
 "nbformat_minor": 5
}
