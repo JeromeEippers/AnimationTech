{
 "cells": [
  {
   "cell_type": "markdown",
   "id": "5e512ca3-9c88-4488-8b2e-250fa4ba4f04",
   "metadata": {},
   "source": [
    "# Knowing When to Put Your Foot Down\n",
    "\n",
    "by Leslie Ikemoto, Okan Arikan, David Forsyth  \n",
    "Association for Computing Machinery, 2006\n",
    "\n",
    "Notebook by Jerome Eippers, 2024"
   ]
  },
  {
   "cell_type": "code",
   "execution_count": null,
   "id": "c81c4ab6-c899-4b06-bcef-6bf7291d43a9",
   "metadata": {
    "tags": []
   },
   "outputs": [],
   "source": [
    "%matplotlib widget\n",
    "import ipyanimlab as lab\n",
    "import numpy as np\n",
    "from sklearn.neighbors import NearestNeighbors\n",
    "from ipywidgets import widgets, interact\n",
    "from ipycanvas import Canvas\n",
    "from matplotlib import pyplot as plt\n",
    "\n",
    "viewer = lab.Viewer(move_speed=5, width=1280, height=720)"
   ]
  },
  {
   "cell_type": "code",
   "execution_count": null,
   "id": "04ef1361-3606-4bf1-a334-cc20954390c5",
   "metadata": {
    "tags": []
   },
   "outputs": [],
   "source": [
    "character = viewer.import_usd_asset('AnimLabSimpleMale.usd')"
   ]
  },
  {
   "cell_type": "markdown",
   "id": "1e532425-7541-4a6c-845e-a2fb21ae1328",
   "metadata": {},
   "source": [
    "## Load a few animations\n",
    "\n",
    "We will use a few animations to have different locomotion types and different style.  \n",
    "At this point, we will make sure that all the animations we take will be easily sliceable with the default clip_length. (200 frames)"
   ]
  },
  {
   "cell_type": "code",
   "execution_count": null,
   "id": "d4dfa46d-088f-4d48-b83f-71cc9a42af56",
   "metadata": {
    "tags": []
   },
   "outputs": [],
   "source": [
    "window_size = 5\n",
    "clip_length = 200\n",
    "n_neighbors = 10"
   ]
  },
  {
   "cell_type": "code",
   "execution_count": null,
   "id": "a400447a-d0bb-4c93-b2b3-38e3c4f3a24d",
   "metadata": {
    "tags": []
   },
   "outputs": [],
   "source": [
    "ranges = {\n",
    "    'walk1_subject5' : [(60, 7060)],\n",
    "    'walk3_subject1' : [(100, 900), (1300, 2500), (4400, 5200), (7150,7350)], \n",
    "    'run1_subject2' : [(100, 5100) ], \n",
    "    'dance1_subject2' : [(100, 1900) ], \n",
    "    'aiming2_subject2' : [(100, 4100), (4900, 6100), (8300,8900)], \n",
    "}\n",
    "\n",
    "animations = []\n",
    "for anim in ranges.keys():\n",
    "    animmap = lab.AnimMapper(character, keep_translation=False, root_motion=True, match_effectors=True, local_offsets={'Hips':[0, 2, 0]})\n",
    "    animation = lab.import_bvh(f'../../resources/lafan1/bvh/{anim}.bvh', anim_mapper=animmap)\n",
    "    \n",
    "    for start, end in ranges[anim]:\n",
    "        new_anim = lab.Anim(animation.quats[start-window_size:end+window_size,:, :], animation.pos[start-window_size:end+window_size,:, :], animation.offsets, animation.parents, animation.bones)\n",
    "        new_anim.quats[:, 0, :], new_anim.pos[:, 0, :] = lab.utils.qp_mul(lab.utils.qp_inv((new_anim.quats[0:1, 0, :], new_anim.pos[0:1, 0, :])), (new_anim.quats[:, 0, :], new_anim.pos[:, 0, :]))\n",
    "        animations.append(new_anim)"
   ]
  },
  {
   "cell_type": "code",
   "execution_count": null,
   "id": "81652bb9-8e27-465e-864a-0199ae678415",
   "metadata": {
    "tags": []
   },
   "outputs": [],
   "source": [
    "def render(frame):\n",
    "    \n",
    "    viewer.begin_shadow()\n",
    "    viewer.end_shadow()\n",
    "    \n",
    "    viewer.begin_display()\n",
    "    viewer.draw_ground()\n",
    "    \n",
    "    for anim in animations:\n",
    "        f = int(min( anim.pos.shape[0]-1, frame))\n",
    "        p = (anim.pos[f,...])\n",
    "        q = (anim.quats[f,...])\n",
    "        m = lab.utils.quat_to_mat(q, p)\n",
    "        viewer.draw(character, m)\n",
    "    \n",
    "    viewer.end_display()\n",
    "    viewer.execute_commands()\n",
    "    \n",
    "interact(\n",
    "    render, \n",
    "    frame=lab.Timeline(min=0, max=7000)\n",
    ")\n",
    "viewer"
   ]
  },
  {
   "cell_type": "code",
   "execution_count": null,
   "id": "8e46ff75-1393-410c-b4a1-5f8ad1e31140",
   "metadata": {
    "tags": []
   },
   "outputs": [],
   "source": [
    "total_frames = 0\n",
    "for anim in animations:\n",
    "    total_frames += anim.pos.shape[0]-(window_size*2)\n",
    "    \n",
    "display(total_frames)\n",
    "display(total_frames/clip_length)"
   ]
  },
  {
   "cell_type": "markdown",
   "id": "4d5fc595-6819-428b-ba63-41684acd503e",
   "metadata": {},
   "source": [
    "## Compute the feature vector\n",
    "\n",
    "This vector will have the position of the knees, ankles and toes for a window of time. "
   ]
  },
  {
   "cell_type": "code",
   "execution_count": null,
   "id": "e196dfc8-6b52-4e41-8c3c-b8c5795fccdd",
   "metadata": {
    "tags": []
   },
   "outputs": [],
   "source": [
    "# 6 : bones, leftleg, leftfoot, lefttoe, rightleg, rightfoot, righttoe\n",
    "# 3 : xyz\n",
    "# 1 + all the frames from the window before and all the frames from the window after\n",
    "feature_vector = np.empty([total_frames, 6 * 3 * (1 + 2*window_size)], dtype=np.float32)\n",
    "feature_vector_indices = np.empty([total_frames, 2], dtype=np.int32)\n",
    "\n",
    "bone_indices = np.array([\n",
    "    character.bone_index(\"LeftLeg\"), \n",
    "    character.bone_index(\"LeftFoot\"), \n",
    "    character.bone_index(\"LeftToe\"), \n",
    "    character.bone_index(\"RightLeg\"), \n",
    "    character.bone_index(\"RightFoot\"),\n",
    "    character.bone_index(\"RightToe\")\n",
    "], dtype=np.int32)\n",
    "\n",
    "\n",
    "frame_in_vector = 0\n",
    "for i, anim in enumerate(animations):\n",
    "    gquats, gpos = lab.utils.quat_fk(anim.quats, anim.pos, animation.parents)\n",
    "    rootq, rootp = lab.utils.qp_inv((gquats[:,0,:], gpos[:,0,:]))\n",
    "    for frame in range(window_size, gpos.shape[0]-window_size):\n",
    "        feature_positions = gpos[frame-window_size:frame+window_size+1, bone_indices, :]\n",
    "        feature_positions = lab.utils.quat_mul_vec(rootq[frame][np.newaxis, np.newaxis, :], feature_positions)\n",
    "        feature_positions += rootp[frame][np.newaxis, np.newaxis, :]\n",
    "        \n",
    "        feature_vector[frame_in_vector, :] = feature_positions.flatten()\n",
    "        feature_vector_indices[frame_in_vector, :] = [i, frame]\n",
    "        \n",
    "        frame_in_vector += 1"
   ]
  },
  {
   "cell_type": "code",
   "execution_count": null,
   "id": "b509fcfd-4a07-48c9-a826-381eb93304f6",
   "metadata": {
    "tags": []
   },
   "outputs": [],
   "source": [
    "def render(frame, mirror=False):\n",
    "    \n",
    "    viewer.begin_shadow()\n",
    "    viewer.end_shadow()\n",
    "    \n",
    "    viewer.begin_display()\n",
    "    viewer.draw_ground()\n",
    "    viewer.end_display()\n",
    "    \n",
    "    viewer.disable(depth_test=True)\n",
    "    \n",
    "    point_matrices = np.eye(4, dtype=np.float32)[np.newaxis,...].repeat(feature_vector.shape[1]/3, axis=0)\n",
    "    positions = feature_vector[frame,:].reshape(-1,3).copy()\n",
    "    if mirror:\n",
    "        positions[:, 0] *= -1\n",
    "    point_matrices[:, :3, 3] = positions\n",
    "    viewer.draw_axis(point_matrices, 2)\n",
    "    \n",
    "    viewer.execute_commands()\n",
    "    \n",
    "interact(\n",
    "    render, \n",
    "    frame=lab.Timeline(min=0, max=total_frames-1)\n",
    ")\n",
    "viewer"
   ]
  },
  {
   "cell_type": "markdown",
   "id": "dc1c35a2-9a9b-4303-bd8b-bb490028c333",
   "metadata": {},
   "source": [
    "## Train the oracle\n",
    "\n",
    "We start from an empty trained feature vector and label, and we pick the first range in the animation to manually set the labels"
   ]
  },
  {
   "cell_type": "code",
   "execution_count": null,
   "id": "2581a1d6-745a-42e5-8bbb-6189012b3873",
   "metadata": {
    "tags": []
   },
   "outputs": [],
   "source": [
    "trained_feature_vector = np.empty([0, feature_vector.shape[1]], dtype=np.float32)\n",
    "trained_label = np.empty([0, 4], dtype=np.int32)"
   ]
  },
  {
   "cell_type": "code",
   "execution_count": null,
   "id": "8bdc887a-0a8f-4136-bfaa-dcc4a6ef4c78",
   "metadata": {
    "tags": []
   },
   "outputs": [],
   "source": [
    "animation_q, animation_p = animations[0].quats[window_size:clip_length+window_size,...], animations[0].pos[window_size:clip_length+window_size,...]\n",
    "_, animation_gp = lab.utils.quat_fk(animation_q, animation_p, animations[0].parents)\n",
    "current_feature_vector = feature_vector[:clip_length]\n",
    "current_label = np.zeros([clip_length, 4], dtype=np.int8)"
   ]
  },
  {
   "cell_type": "code",
   "execution_count": null,
   "id": "3b8a9192-049f-4f63-934d-d0cac66b34d2",
   "metadata": {},
   "outputs": [],
   "source": [
    "canvas = Canvas(width=1280, height=160)\n",
    "\n",
    "mouse_over_index = -1\n",
    "\n",
    "def update_canvas():\n",
    "    canvas.clear()\n",
    "    \n",
    "    size = 1280.0/(animation_q.shape[0])\n",
    "    xs = np.linspace(0, 1280-size, animation_q.shape[0], dtype=np.int32)\n",
    "    \n",
    "    heights = 5 + 30 * current_label[:, 0] \n",
    "    canvas.fill_style = 'green'\n",
    "    canvas.fill_rects(xs, 0, 4, heights)\n",
    "    \n",
    "    heights = 5 + 30 * current_label[:, 1] \n",
    "    canvas.fill_style = 'green'\n",
    "    canvas.fill_rects(xs, 40, 4, heights)\n",
    "                     \n",
    "    heights = 5 + 30 * current_label[:, 2] \n",
    "    canvas.fill_style = 'cyan'\n",
    "    canvas.fill_rects(xs, 80, 4, heights)\n",
    "    \n",
    "    heights = 5 + 30 * current_label[:, 3] \n",
    "    canvas.fill_style = 'cyan'\n",
    "    canvas.fill_rects(xs, 120, 4, heights)\n",
    "\n",
    "    \n",
    "# render function\n",
    "def render(frame):\n",
    "    global mouse_over_index\n",
    "    q = (animation_q[frame,...])\n",
    "    p = (animation_p[frame,...])\n",
    "    \n",
    "    ogp = animation_gp[frame, ...]\n",
    "    ogp[:, 1] = 0\n",
    "        \n",
    "    points = np.array([[-5,0,0], [0,0,5], [0,0,5], [5,0,0], [5,0,0], [0,0,-5], [0,0,-5], [-5,0,0]], dtype=np.float32) * 1.5\n",
    "        \n",
    "        \n",
    "    a = lab.utils.quat_to_mat(q, p)\n",
    "    viewer.set_shadow_poi(p[0])\n",
    "    \n",
    "    viewer.begin_shadow()\n",
    "    viewer.draw(character, a)\n",
    "    viewer.end_shadow()\n",
    "    \n",
    "    viewer.begin_display()\n",
    "    viewer.draw_ground()\n",
    "    viewer.draw(character, a)\n",
    "    viewer.end_display()\n",
    "    viewer.disable(depth_test=True)\n",
    "    \n",
    "    point_matrices = np.eye(4, dtype=np.float32)[np.newaxis,...].repeat(current_feature_vector.shape[1]/3, axis=0)\n",
    "    positions = current_feature_vector[frame,:].reshape(-1,3)\n",
    "    positions = lab.utils.quat_mul_vec(q[0][np.newaxis, :], positions)\n",
    "    positions += p[0][np.newaxis, :]\n",
    "    \n",
    "    point_matrices[:, :3, 3] = positions\n",
    "    viewer.draw_axis(point_matrices, 2)\n",
    "    \n",
    "    if current_label[frame, 0]:\n",
    "        pts = points + ogp[character.bone_index('LeftFoot')]\n",
    "        pts[:, 1] = 0\n",
    "        viewer.draw_lines(pts, color=np.array([0,.8,0], dtype=np.float32))\n",
    "    \n",
    "    if current_label[frame, 1]:\n",
    "        pts = points + ogp[character.bone_index('LeftToe')]\n",
    "        pts[:, 1] = 0\n",
    "        viewer.draw_lines(pts, color=np.array([0,.8,0], dtype=np.float32))\n",
    "        \n",
    "    if current_label[frame, 2]:\n",
    "        pts = points + ogp[character.bone_index('RightFoot')]\n",
    "        pts[:, 1] = 0\n",
    "        viewer.draw_lines(pts, color=np.array([0.2,0.,1], dtype=np.float32))\n",
    "        \n",
    "    if current_label[frame, 3]:\n",
    "        pts = points + ogp[character.bone_index('RightToe')]\n",
    "        pts[:, 1] = 0\n",
    "        viewer.draw_lines(pts, color=np.array([0.2,0.1,1], dtype=np.float32))\n",
    "        \n",
    "    if mouse_over_index == 0:\n",
    "        pts = points * .8 + ogp[character.bone_index('LeftFoot')]\n",
    "        pts[:, 1] = 0\n",
    "        viewer.draw_lines(pts)\n",
    "        \n",
    "    if mouse_over_index == 1:\n",
    "        pts = points * .8 + ogp[character.bone_index('LeftToe')]\n",
    "        pts[:, 1] = 0\n",
    "        viewer.draw_lines(pts)\n",
    "        \n",
    "    if mouse_over_index == 2:\n",
    "        pts = points * .8 + ogp[character.bone_index('RightFoot')]\n",
    "        pts[:, 1] = 0\n",
    "        viewer.draw_lines(pts)\n",
    "        \n",
    "    if mouse_over_index == 3:\n",
    "        pts = points * .8 + ogp[character.bone_index('RightToe')]\n",
    "        pts[:, 1] = 0\n",
    "        viewer.draw_lines(pts)\n",
    "\n",
    "    viewer.execute_commands()\n",
    "    \n",
    "    \n",
    "# the timeline we use\n",
    "timeline = lab.Timeline(min=0, max=animation_q.shape[0]-1)\n",
    "    \n",
    "# the buttons of the interface ---------------------------------------\n",
    "bt_auto = widgets.Button(description='generate using speed')\n",
    "speed_spin = widgets.FloatSlider(min=0.01, max=1, step=0.01)\n",
    "buttons = widgets.HBox([bt_auto, speed_spin])\n",
    "\n",
    "def on_generate_click(event):\n",
    "    current_label[:, :2], current_label[:, 2:] = lab.utils.extract_feet_contacts(animation_gp, [character.bone_index('LeftFoot'), character.bone_index('LeftToe')], [character.bone_index('RightFoot'), character.bone_index('RightToe')],  speed_spin.value)\n",
    "    render(timeline.value)\n",
    "    update_canvas()\n",
    "    \n",
    "bt_auto.on_click(on_generate_click)\n",
    "\n",
    "\n",
    "# canvas interact\n",
    "do_set_values = [-1, 0]\n",
    "def handle_mouse_move(x, y):\n",
    "    global mouse_over_index\n",
    "    frame = int(x/1280.0*animation_q.shape[0])\n",
    "    mouse_over_index = int(y / 160.0 * 4.0)\n",
    "    timeline.set_value(frame)\n",
    "    render(frame)\n",
    "    if do_set_values[0] > -1:\n",
    "        current_label[frame, do_set_values[0]] = do_set_values[1]\n",
    "        update_canvas()\n",
    "    \n",
    "canvas.on_mouse_move(handle_mouse_move)\n",
    "\n",
    "def handle_mouse_down(x, y):\n",
    "    frame = int(x/1280.0*animation_q.shape[0])\n",
    "    index = int(y / 160.0 * 4.0)\n",
    "    current_label[frame, index] = not current_label[frame, index]\n",
    "    do_set_values[0] = index\n",
    "    do_set_values[1] = current_label[frame, index]\n",
    "    render(frame)\n",
    "    update_canvas()\n",
    "    \n",
    "canvas.on_mouse_down(handle_mouse_down)\n",
    "\n",
    "def handle_mouse_up(x, y):\n",
    "    do_set_values[0] = -1\n",
    "    \n",
    "canvas.on_mouse_up(handle_mouse_up)\n",
    "\n",
    "    \n",
    "# interactive render\n",
    "interact(\n",
    "    render, \n",
    "    frame=timeline\n",
    ")\n",
    "\n",
    "update_canvas()\n",
    "display(buttons)\n",
    "display(canvas)\n",
    "display(viewer)"
   ]
  },
  {
   "cell_type": "markdown",
   "id": "12b6bba6-feaa-4427-8d7d-2684616a6454",
   "metadata": {},
   "source": [
    "## Compute the Oracle\n",
    "\n",
    "After training we can append the newly trained vector to the fully trained vector and create the classifier"
   ]
  },
  {
   "cell_type": "code",
   "execution_count": null,
   "id": "f24843b7-8c3b-4a73-81c8-7bf9af0a09e5",
   "metadata": {
    "tags": []
   },
   "outputs": [],
   "source": [
    "# append the newly trained values to all the trained values\n",
    "trained_feature_vector = np.concatenate([trained_feature_vector, current_feature_vector])\n",
    "trained_label = np.concatenate([trained_label, current_label])"
   ]
  },
  {
   "cell_type": "code",
   "execution_count": null,
   "id": "b9062439-3f38-4150-bd01-1189c5efd20a",
   "metadata": {
    "tags": []
   },
   "outputs": [],
   "source": [
    "# create the classifier\n",
    "mirror_trained_feature_vector = trained_feature_vector.copy().reshape(-1, 3)\n",
    "mirror_trained_feature_vector[:, 0] *= -1\n",
    "\n",
    "classifier_feature_vector = np.concatenate([trained_feature_vector, mirror_trained_feature_vector.reshape(trained_feature_vector.shape[0], -1)])\n",
    "classifier_label = np.concatenate([trained_label, trained_label[:, [2,3,0,1]]])\n",
    "\n",
    "classifier = NearestNeighbors(n_neighbors=n_neighbors)\n",
    "classifier.fit(classifier_feature_vector)"
   ]
  },
  {
   "cell_type": "code",
   "execution_count": null,
   "id": "686396ac-ba60-40a5-b660-a21751c9e123",
   "metadata": {
    "tags": []
   },
   "outputs": [],
   "source": [
    "def predict(features):\n",
    "    \n",
    "    indices = classifier.kneighbors(features, return_distance=False)\n",
    "    label_probability = np.sum(classifier_label[indices], axis=1)/10.0\n",
    "    label = np.zeros_like(label_probability, dtype=np.int32)\n",
    "    less = label_probability <= 0.4\n",
    "    more = label_probability >= 0.6\n",
    "    between = np.logical_and( label_probability > 0.4 , label_probability < 0.6 )\n",
    "    between_frame, between_label = np.where(between)\n",
    "    \n",
    "    label[less] = 0\n",
    "    label[more] = 1\n",
    "    for f, i in zip(between_frame, between_label):\n",
    "        if f > 0:\n",
    "            if label[f-1, i]:\n",
    "                label[f, i] = 1\n",
    "    \n",
    "    return label"
   ]
  },
  {
   "cell_type": "markdown",
   "id": "a259c8a3-9982-47cb-a697-29a7c7d54f30",
   "metadata": {},
   "source": [
    "## Iterate....\n",
    "\n",
    "We can go an pick the next vector to train"
   ]
  },
  {
   "cell_type": "code",
   "execution_count": null,
   "id": "26c39b6c-b75b-4050-95ed-2d3e85520353",
   "metadata": {
    "tags": []
   },
   "outputs": [],
   "source": [
    "# get the first range, to see if it works\n",
    "animation_q, animation_p = animations[0].quats[window_size:clip_length*3,...], animations[0].pos[window_size:clip_length*3,...]\n",
    "_, animation_gp = lab.utils.quat_fk(animation_q, animation_p, animations[0].parents)\n",
    "current_feature_vector = feature_vector[:clip_length*3]\n",
    "current_label = predict(current_feature_vector)"
   ]
  },
  {
   "cell_type": "code",
   "execution_count": null,
   "id": "b8a99c23-2f72-4bdc-b2d3-83655b16c36b",
   "metadata": {
    "tags": []
   },
   "outputs": [],
   "source": [
    "# get the worst labeling\n",
    "distances, indices = classifier.kneighbors(feature_vector, n_neighbors=1, return_distance=True)\n",
    "clip_start_frame = int(np.floor(distances.argmax()/clip_length)) * clip_length\n",
    "anim_id, anim_frame = feature_vector_indices[clip_start_frame]\n",
    "\n",
    "animation_q, animation_p = animations[anim_id].quats[anim_frame:anim_frame+clip_length,...], animations[anim_id].pos[anim_frame:anim_frame+clip_length,...]\n",
    "_, animation_gp = lab.utils.quat_fk(animation_q, animation_p, animations[0].parents)\n",
    "current_feature_vector = feature_vector[clip_start_frame:clip_start_frame+clip_length]\n",
    "current_label = predict(current_feature_vector)"
   ]
  },
  {
   "cell_type": "markdown",
   "id": "4a5b6a72-074e-412b-8042-c845dde2759c",
   "metadata": {},
   "source": [
    "## Load and Save"
   ]
  },
  {
   "cell_type": "code",
   "execution_count": null,
   "id": "43a520c7-a36e-49f2-a8c3-47af3fd627d1",
   "metadata": {
    "tags": []
   },
   "outputs": [],
   "source": [
    "## commented out to avoid writing by mistake\n",
    "\n",
    "# import pickle\n",
    "\n",
    "# with open('foot_feature_vector.dat', 'wb') as f:\n",
    "#     pickle.dump((trained_feature_vector, trained_label), f)"
   ]
  },
  {
   "cell_type": "code",
   "execution_count": null,
   "id": "86ccc240-d02c-4bfa-b5b0-02603967ee33",
   "metadata": {
    "tags": []
   },
   "outputs": [],
   "source": [
    "import pickle\n",
    "with open('foot_feature_vector.dat', 'rb') as f:\n",
    "    features, labels = pickle.load(f)\n",
    "    trained_feature_vector = features\n",
    "    trained_label = labels\n",
    "    \n",
    "display(trained_label.shape[0])\n",
    "display(trained_label.shape[0]/clip_length)"
   ]
  }
 ],
 "metadata": {
  "kernelspec": {
   "display_name": "Python 3 (ipykernel)",
   "language": "python",
   "name": "python3"
  },
  "language_info": {
   "codemirror_mode": {
    "name": "ipython",
    "version": 3
   },
   "file_extension": ".py",
   "mimetype": "text/x-python",
   "name": "python",
   "nbconvert_exporter": "python",
   "pygments_lexer": "ipython3",
   "version": "3.10.10"
  }
 },
 "nbformat": 4,
 "nbformat_minor": 5
}
