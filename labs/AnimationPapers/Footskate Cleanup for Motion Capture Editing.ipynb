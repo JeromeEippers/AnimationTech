{
 "cells": [
  {
   "cell_type": "markdown",
   "id": "cabb3a4f-c282-43f2-bb94-f1d8752619ce",
   "metadata": {},
   "source": [
    "# Footskate Cleanup for Motion Capture Editing\n",
    "\n",
    "by Lucas Kovar, Michael Gleicher, John Schreiner  \n",
    "Siggraph 2002 \n",
    "\n",
    "Notebook by Jerome Eippers, 2024"
   ]
  },
  {
   "cell_type": "code",
   "execution_count": 1,
   "id": "7e988385-6c02-4bb0-bdb3-b97274e0589c",
   "metadata": {
    "tags": []
   },
   "outputs": [],
   "source": [
    "%matplotlib widget\n",
    "import ipyanimlab as lab\n",
    "import numpy as np\n",
    "from ipywidgets import widgets, interact\n",
    "from matplotlib import pyplot as plt\n",
    "\n",
    "viewer = lab.Viewer(move_speed=5, width=1280, height=720)"
   ]
  },
  {
   "cell_type": "code",
   "execution_count": 2,
   "id": "a4c90ba2-c0c0-4583-b4bf-e6f5aade0611",
   "metadata": {
    "tags": []
   },
   "outputs": [],
   "source": [
    "character = viewer.import_usd_asset('AnimLabSimpleMale.usd')"
   ]
  },
  {
   "cell_type": "code",
   "execution_count": 13,
   "id": "ea82dc26-4be0-4420-a1f3-fd4e47a36812",
   "metadata": {
    "tags": []
   },
   "outputs": [],
   "source": [
    "target = viewer.create_asset(\n",
    "    vertices = np.asarray([[9.37, 0.58, -6.81, 0.0, 1.0, 0.0, 1.0, 1.0, 1.0, 1.0], [3.58, 0.58, -11.01, 0.0, 1.0, 0.0, 1.0, 1.0, 1.0, 1.0], [-3.58, 0.58, -11.01, 0.0, 1.0, 0.0, 1.0, 1.0, 1.0, 1.0], [-9.37, 0.58, -6.81, 0.0, 1.0, 0.0, 1.0, 1.0, 1.0, 1.0], [-11.58, 0.58, 0.0, 0.0, 1.0, 0.0, 1.0, 1.0, 1.0, 1.0], [-9.37, 0.58, 6.81, 0.0, 1.0, 0.0, 1.0, 1.0, 1.0, 1.0], [-3.58, 0.58, 11.01, 0.0, 1.0, 0.0, 1.0, 1.0, 1.0, 1.0], [3.58, 0.58, 11.01, 0.0, 1.0, 0.0, 1.0, 1.0, 1.0, 1.0], [9.37, 0.58, 6.81, 0.0, 1.0, 0.0, 1.0, 1.0, 1.0, 1.0], [11.58, 0.58, 0.0, 0.0, 1.0, 0.0, 1.0, 1.0, 1.0, 1.0], [0.0, 0.58, 0.0, 0.0, 1.0, 0.0, 1.0, 1.0, 1.0, 1.0]], dtype=np.float32),\n",
    "    indices = np.asarray([[1, 2, 10], [3, 4, 10], [5, 6, 10], [7, 8, 10], [9, 0, 10]], dtype=np.int16)\n",
    ")"
   ]
  },
  {
   "cell_type": "markdown",
   "id": "b584bd08-24a8-41f3-91da-94d6aeb5b8bb",
   "metadata": {},
   "source": [
    "## Prepare the data\n",
    "\n",
    "We add a few bones in the skeleton to add a heel and a ball at each foot."
   ]
  },
  {
   "cell_type": "code",
   "execution_count": 4,
   "id": "214f6c19-15e9-4a41-bb5d-f536cee5f6e3",
   "metadata": {
    "tags": []
   },
   "outputs": [],
   "source": [
    "character.add_bone('LeftHeel', np.array([1,0,0,0]), np.array([9.2,0,-12]), 'LeftFoot')\n",
    "character.add_bone('LeftBall', np.array([1,0,0,0]), np.array([14.5,0,8.22]), 'LeftFoot')\n",
    "character.add_bone('RightHeel', np.array([1,0,0,0]), np.array([-9.2,0,-12]), 'RightFoot')\n",
    "character.add_bone('RightBall', np.array([1,0,0,0]), np.array([-14.5,0,8.22]), 'RightFoot')\n",
    "\n",
    "contact_distance = np.linalg.norm(np.array([9.2,0,-12]) - np.array([14.5,0,8.22]))\n",
    "left_heel = character.bone_index('LeftHeel')\n",
    "left_ball = character.bone_index('LeftBall')\n",
    "right_heel = character.bone_index('RightHeel')\n",
    "right_ball = character.bone_index('RightBall')\n",
    "left_foot = character.bone_index('LeftFoot')\n",
    "right_foot = character.bone_index('RightFoot')\n",
    "\n",
    "contact_indices = np.asarray([left_heel, left_ball, right_heel, right_ball], dtype=np.int8)"
   ]
  },
  {
   "cell_type": "code",
   "execution_count": 5,
   "id": "03845177-eb53-4224-b4a3-3ccd250dab6f",
   "metadata": {
    "tags": []
   },
   "outputs": [],
   "source": [
    "# def render(x, z):\n",
    "    \n",
    "#     character.update_initial_bone('LeftHeel', np.array([1,0,0,0]), np.array([x,0,z]), True)\n",
    "    \n",
    "#     viewer.begin_display()\n",
    "#     viewer.draw_ground()\n",
    "#     viewer.draw_mesh(character)\n",
    "#     viewer.end_display()\n",
    "\n",
    "#     viewer.disable(depth_test=True)\n",
    "\n",
    "#     viewer.draw_axis(character.global_bones(), 5)\n",
    "#     viewer.draw_lines(character.global_skeleton_lines())\n",
    "\n",
    "#     viewer.execute_commands()\n",
    "    \n",
    "# interact(\n",
    "#     render, \n",
    "#     x=widgets.FloatSlider(min=-30, max=30, step=0.01),\n",
    "#     z=widgets.FloatSlider(min=-30, max=30, step=0.01))\n",
    "# viewer"
   ]
  },
  {
   "cell_type": "markdown",
   "id": "6f2601a0-f387-4f8e-bbee-2650377a4c5d",
   "metadata": {},
   "source": [
    "Read the data on our skeleton, and read the original data to extract where the feet should have been"
   ]
  },
  {
   "cell_type": "code",
   "execution_count": 9,
   "id": "41fc110c-e2c6-4b01-9c5a-238e5af614b7",
   "metadata": {},
   "outputs": [],
   "source": [
    "animmap = lab.AnimMapper(character, keep_translation=False, root_motion=True)\n",
    "animation = lab.import_bvh('../../resources/lafan1/bvh/aiming1_subject1.bvh', anim_mapper=animmap)\n",
    "\n",
    "animmap = lab.AnimMapper(character, keep_translation=True, root_motion=True)\n",
    "original = lab.import_bvh('../../resources/lafan1/bvh/aiming1_subject1.bvh', anim_mapper=animmap)\n",
    "\n",
    "frame_count = animation.quats.shape[0]\n",
    "bone_count = character.bone_count()"
   ]
  },
  {
   "cell_type": "code",
   "execution_count": 10,
   "id": "7d5ce5c0-8368-4002-b0c5-49b87a0c71cc",
   "metadata": {},
   "outputs": [],
   "source": [
    "# offset the animation upward\n",
    "animation.pos[:, character.bone_index('Hips'), 1] += 4"
   ]
  },
  {
   "cell_type": "markdown",
   "id": "eab84c3b-8f25-496f-a12b-084c605e77d0",
   "metadata": {},
   "source": [
    "## Find feet contacts timing\n",
    "\n",
    "Using the original motion we check when the heel and balls are under a certain speed threshold, and we assume that the foot is planted.  \n",
    "We then smooth that signal a little to avoir having 1, 2 or 3 frames small unplanted foot."
   ]
  },
  {
   "cell_type": "code",
   "execution_count": 11,
   "id": "7028a595-6146-421d-a0ec-4fa8c89b09a8",
   "metadata": {
    "tags": []
   },
   "outputs": [],
   "source": [
    "ogquats, ogpos = lab.utils.quat_fk(original.quats, original.pos, original.parents)\n",
    "agquats, agpos = lab.utils.quat_fk(animation.quats, animation.pos, animation.parents)\n",
    "\n",
    "contacts = np.zeros([frame_count, 4], dtype=np.bool_)\n",
    "contacts[:, :2], contacts[:, 2:] = lab.utils.extract_feet_contacts(ogpos, [left_heel, left_ball], [right_heel, right_ball],  0.04)\n",
    "\n",
    "# smooth out a little the signal ( we keep the signal on if it switch off for one or 2 frames )\n",
    "for frame in range(2, frame_count-2):\n",
    "    for c in range(4):\n",
    "        contacts[frame, c] = contacts[frame, c] or (contacts[frame-2, c] and contacts[frame+2, c])\n",
    "    \n",
    "for frame in range(1, frame_count-1):\n",
    "    for c in range(4):\n",
    "        contacts[frame, c] = contacts[frame, c] or (contacts[frame-1, c] and contacts[frame+1, c])\n"
   ]
  },
  {
   "cell_type": "code",
   "execution_count": 12,
   "id": "e8c95480-2b5c-4620-9b0c-9c9396ea00e9",
   "metadata": {
    "tags": []
   },
   "outputs": [
    {
     "data": {
      "application/vnd.jupyter.widget-view+json": {
       "model_id": "de8aaad48378458db9db244d3e5117c3",
       "version_major": 2,
       "version_minor": 0
      },
      "text/plain": [
       "interactive(children=(Timeline(value=0, children=(Play(value=0, description='play', interval=33, layout=Layout…"
      ]
     },
     "metadata": {},
     "output_type": "display_data"
    },
    {
     "data": {
      "application/vnd.jupyter.widget-view+json": {
       "model_id": "103cc3c7430e499cae59dd57e565da10",
       "version_major": 2,
       "version_minor": 0
      },
      "text/plain": [
       "Viewer(camera_far=2800.0, camera_near=20.0, camera_pitch=-18.0, camera_pos=[-370, 280, 350], camera_yaw=-45.0,…"
      ]
     },
     "execution_count": 12,
     "metadata": {},
     "output_type": "execute_result"
    },
    {
     "data": {
      "application/vnd.jupyter.widget-view+json": {
       "model_id": "c255f1ee38b7464dafa0715e737a76fb",
       "version_major": 2,
       "version_minor": 0
      },
      "image/png": "[encoded data removed]",
      "text/html": [
       "\n",
       "            <div style=\"display: inline-block;\">\n",
       "                <div class=\"jupyter-widgets widget-label\" style=\"text-align: center;\">\n",
       "                    Figure\n",
       "                </div>\n",
       "                <img src='data:image/png;base64,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' width=1000.0/>\n",
       "            </div>\n",
       "        "
      ],
      "text/plain": [
       "Canvas(toolbar=Toolbar(toolitems=[('Home', 'Reset original view', 'home', 'home'), ('Back', 'Back to previous …"
      ]
     },
     "metadata": {},
     "output_type": "display_data"
    }
   ],
   "source": [
    "fig, (ax1, ax2) = plt.subplots(2, 1, figsize=(10,1))\n",
    "ax1.plot(contacts[:, 0])\n",
    "ax1.plot(contacts[:, 1])\n",
    "ax2.plot(contacts[:, 2])\n",
    "ax2.plot(contacts[:, 3])\n",
    "\n",
    "def render(frame, ori):\n",
    "    \n",
    "    anim = original if ori else animation\n",
    "    p = (anim.pos[frame,...])\n",
    "    q = (anim.quats[frame,...])\n",
    "        \n",
    "    a = lab.utils.quat_to_mat(q, p)\n",
    "    viewer.set_shadow_poi(p[0])\n",
    "    \n",
    "    viewer.begin_shadow()\n",
    "    viewer.draw(character, a)\n",
    "    viewer.end_shadow()\n",
    "    \n",
    "    viewer.begin_display()\n",
    "    viewer.draw_ground()\n",
    "    viewer.draw(character, a)\n",
    "    \n",
    "    contacts_matrices = np.eye(4, dtype=np.float32)[np.newaxis,...].repeat(4, axis=0)\n",
    "    for c in range(4):\n",
    "        if contacts[frame, c]:\n",
    "            contacts_matrices[c, [0,2], 3] = ogpos[frame, contact_indices[c], [0,2]]\n",
    "    \n",
    "    viewer.draw(target, contacts_matrices)\n",
    "    viewer.end_display()\n",
    "\n",
    "    viewer.disable(depth_test=True)\n",
    "   \n",
    "    viewer.draw_axis(character.world_skeleton_xforms(a), 5)\n",
    "    viewer.draw_lines(character.world_skeleton_lines(a))\n",
    "    \n",
    "    viewer.execute_commands()\n",
    "    \n",
    "    ax1.set_xlim([frame-60,frame+60])\n",
    "    ax2.set_xlim([frame-60,frame+60])\n",
    "    \n",
    "interact(\n",
    "    render, \n",
    "    frame=lab.Timeline(max=frame_count-1),\n",
    "    ori = widgets.Checkbox())\n",
    "viewer"
   ]
  },
  {
   "cell_type": "markdown",
   "id": "2f4f195a-ad7f-403e-82a8-86c1817f8f97",
   "metadata": {
    "tags": []
   },
   "source": [
    "## Constraints Positions\n",
    "\n",
    "To compute the contact position we check for each heel and ball if it was already constrained the previous frame. If it was, we keep the same constraint. If it was not, we average the position over the next L1 number of frames and project it on the ground. If the other part of the foot was already constrained (for example if the heel was constrained but not the ball) we realign the current so the distance between heel and ball is correct. "
   ]
  },
  {
   "cell_type": "code",
   "execution_count": 14,
   "id": "9cbe5862-1520-4757-9f04-6a3d59766db0",
   "metadata": {
    "tags": []
   },
   "outputs": [],
   "source": [
    "L1 = 10 #As per the paper experiments\n",
    "constraint_positions_buffer = np.zeros((frame_count, 4, 3), dtype=np.float32)\n",
    "\n",
    "\n",
    "def contact_position(frame, index, other_index, other_frame):\n",
    "    \"\"\"\n",
    "        frame : the frame to compute\n",
    "        index : the index of the contact we compute\n",
    "        other_index : the index of the other contact of the same foot\n",
    "        other_frame : the frame at wich we want to check if we already have a contact computed\n",
    "    \"\"\"\n",
    "    avr = np.zeros(3, dtype=np.float32)\n",
    "    if contacts[frame, index] :\n",
    "        \n",
    "        # check if the previous frame was already constrained\n",
    "        if frame > 0 and contacts[frame-1, index]:\n",
    "            constraint_positions_buffer[frame, index] = constraint_positions_buffer[frame-1, index]\n",
    "            \n",
    "        else:\n",
    "            # else average the positions of the next L1 frames and project on ground\n",
    "            count = 0\n",
    "            for i in range(L1):\n",
    "                if frame+i < frame_count:\n",
    "                    if contacts[frame+i, index]:\n",
    "                        avr += agpos[frame+i, contact_indices[index], :]\n",
    "                        count += 1\n",
    "                    else:\n",
    "                        break\n",
    "            avr /= count\n",
    "            avr[1] = 0\n",
    "\n",
    "            # ensure rigid foot by forcing the distance between both contact points of the same foot\n",
    "            # we will call this in order so if we check the ball we check if the heel is already constrained on the same frame\n",
    "            # or if we check the heel we will check if the ball was already constrained the previous frame\n",
    "            if other_frame >= 0:\n",
    "                if contacts[other_frame, other_index]:\n",
    "                    vect = avr - constraint_positions_buffer[other_frame, other_index]\n",
    "                    avr = constraint_positions_buffer[other_frame, other_index] + vect / np.linalg.norm(vect) * contact_distance\n",
    "                    \n",
    "            constraint_positions_buffer[frame, index] = avr\n",
    "                    \n",
    "\n",
    "for frame in range(frame_count):\n",
    "    contact_position(frame, 0, 1, frame-1)\n",
    "    contact_position(frame, 1, 0, frame)\n",
    "    contact_position(frame, 2, 3, frame-1)\n",
    "    contact_position(frame, 3, 2, frame)\n",
    "    "
   ]
  },
  {
   "cell_type": "code",
   "execution_count": 16,
   "id": "9a2fb55c-61b0-4c51-a8e2-818bb7af4e0f",
   "metadata": {
    "tags": []
   },
   "outputs": [
    {
     "data": {
      "application/vnd.jupyter.widget-view+json": {
       "model_id": "61d3e0aaf81e45caba2b22c0a8b5d2b5",
       "version_major": 2,
       "version_minor": 0
      },
      "text/plain": [
       "interactive(children=(Timeline(value=0, children=(Play(value=0, description='play', interval=33, layout=Layout…"
      ]
     },
     "metadata": {},
     "output_type": "display_data"
    },
    {
     "data": {
      "application/vnd.jupyter.widget-view+json": {
       "model_id": "103cc3c7430e499cae59dd57e565da10",
       "version_major": 2,
       "version_minor": 0
      },
      "text/plain": [
       "Viewer(camera_far=2800.0, camera_near=20.0, camera_pitch=-16.199999999999967, camera_pos=[-485.17494660140756,…"
      ]
     },
     "execution_count": 16,
     "metadata": {},
     "output_type": "execute_result"
    }
   ],
   "source": [
    "def render(frame):\n",
    "    \n",
    "    anim = animation\n",
    "    p = (anim.pos[frame,...])\n",
    "    q = (anim.quats[frame,...])\n",
    "        \n",
    "    a = lab.utils.quat_to_mat(q, p)\n",
    "    viewer.set_shadow_poi(p[0])\n",
    "    \n",
    "    viewer.begin_shadow()\n",
    "    viewer.draw(character, a)\n",
    "    viewer.end_shadow()\n",
    "    \n",
    "    viewer.begin_display()\n",
    "    viewer.draw_ground()\n",
    "    viewer.draw(character, a)\n",
    "    \n",
    "    contacts = np.eye(4, dtype=np.float32)[np.newaxis,...].repeat(4, axis=0)\n",
    "    contacts[:, :3, 3] = constraint_positions_buffer[frame, :, :]\n",
    "    \n",
    "    viewer.draw(target, contacts)\n",
    "    viewer.end_display()\n",
    "\n",
    "    viewer.disable(depth_test=True)\n",
    "   \n",
    "    viewer.draw_axis(character.world_skeleton_xforms(a), 5)\n",
    "    viewer.draw_lines(character.world_skeleton_lines(a))\n",
    "    \n",
    "    viewer.execute_commands()\n",
    "    \n",
    "interact(\n",
    "    render, \n",
    "    frame=lab.Timeline(max=frame_count-1)\n",
    ")\n",
    "viewer"
   ]
  },
  {
   "cell_type": "markdown",
   "id": "a3da7984-32d2-4f22-a5e4-e1da87385258",
   "metadata": {},
   "source": [
    "## Ankle Position and Orientation"
   ]
  },
  {
   "cell_type": "code",
   "execution_count": 18,
   "id": "83b4a1d0-37ef-475f-9ca3-feddf354b576",
   "metadata": {
    "tags": []
   },
   "outputs": [],
   "source": [
    "L2 = 8\n",
    "ankle_rotation_buffer = np.array([[1, 0, 0, 0],[1, 0, 0, 0]], dtype=np.float32)[np.newaxis, :].repeat(frame_count, axis=0)\n",
    "ankle_position_buffer = np.zeros([frame_count, 2, 3], dtype=np.float32)\n",
    "\n",
    "def compute_double_constrained_ankle(frame, heel, ball, foot, buffer_index):\n",
    "    \"\"\"\n",
    "    frame : the frame to compute\n",
    "    heel : the index of the heel in the contact buffer\n",
    "    ball : the index of the ball in the contact buffer\n",
    "    foot : the index of the foot in the character\n",
    "    buffer_index : the index in the buffers ( left or right = 0 or 1 )\n",
    "    \"\"\"\n",
    "    \n",
    "    # double constraint\n",
    "    if contacts[frame, heel] and contacts[frame, ball]:\n",
    "        \n",
    "        # compute the quaternion that rotates the heel-ball vector from the original position to the constrained position\n",
    "        # with a up vector purely vertical\n",
    "        quat = lab.utils.quat_between(\n",
    "            agpos[frame, contact_indices[ball], :] - agpos[frame, contact_indices[heel], :], \n",
    "            constraint_positions_buffer[frame, ball, :] - constraint_positions_buffer[frame, heel, :], \n",
    "            np.array([0,1,0], dtype=np.float32)\n",
    "        )\n",
    "        \n",
    "        # compute the position of the hankle knowing the new orientation and the heel position\n",
    "        gquat= lab.utils.quat_mul(quat, agquats[frame, foot, :])\n",
    "        gpos = agpos[frame, foot, :] + lab.utils.quat_mul_vec(gquat, animation.pos[0,  contact_indices[heel], :])\n",
    "        \n",
    "        ankle_rotation_buffer[frame, buffer_index] = quat\n",
    "        ankle_position_buffer[frame, buffer_index] = constraint_positions_buffer[frame, heel, :] - gpos\n",
    "        \n",
    "        \n",
    "def compute_single_constrained_ankle(frame, heel, ball, foot, buffer_index):\n",
    "    \"\"\"\n",
    "    frame : the frame to compute\n",
    "    heel : the index of the heel in the contact buffer\n",
    "    ball : the index of the ball in the contact buffer\n",
    "    foot : the index of the foot in the character\n",
    "    buffer_index : the index in the buffers ( left or right = 0 or 1 )\n",
    "    \"\"\"\n",
    "    \n",
    "    # check if we are singly constained\n",
    "    if (contacts[frame, heel] and contacts[frame, ball]) == False and ((contacts[frame, heel] or contacts[frame, ball])):\n",
    "        \n",
    "        # store if we are heel or ball constrained\n",
    "        cnst_index = heel if contacts[frame, heel] else ball\n",
    "        \n",
    "        # check L2 frame before the current frame to see if we encounter a doubly constrained.\n",
    "        back_hit = -1\n",
    "        local_quat = np.array([1,0,0,0], dtype=np.float32)\n",
    "        \n",
    "        for f in range(L2):\n",
    "            # do we hit a double constrained ?\n",
    "            if frame-f >= 0 and contacts[frame-f, heel] and contacts[frame-f, ball]:\n",
    "                \n",
    "                # lerp the orientation computed by the doubly constrained\n",
    "                back_hit = f\n",
    "                alpha = (f+1.0)/(L2+1.0)\n",
    "                alpha = 2*alpha*alpha*alpha - 3*alpha*alpha + 1\n",
    "                local_quat = lab.utils.quat_slerp(np.array([[1,0,0,0]], dtype=np.float32), ankle_rotation_buffer[frame-f, buffer_index][np.newaxis,:], alpha)[0]\n",
    "                break\n",
    "                \n",
    "            # if we hit a free contact we stop searching\n",
    "            if frame-f >= 0 and contacts[frame, cnst_index] == False:\n",
    "                break\n",
    "                \n",
    "        # check L2 frame after the current frame to see if we encounter a doubly constrained.\n",
    "        front_hit = -1\n",
    "        for f in range(L2):\n",
    "            if frame+f < frame_count and contacts[frame+f, heel] and contacts[frame+f, ball]:\n",
    "                \n",
    "                # lerp the orientation computed by the doubly constrained\n",
    "                front_hit = f\n",
    "                alpha = (f+1.0)/(L2+1.0)\n",
    "                alpha = 2*alpha*alpha*alpha - 3*alpha*alpha + 1\n",
    "                front_quat = lab.utils.quat_slerp(np.array([[1,0,0,0]], dtype=np.float32), ankle_rotation_buffer[frame+f, buffer_index][np.newaxis,:], 1.0-alpha)[0]\n",
    "\n",
    "                # if we had already computed a lerp with the backward it, we will slerp the 2 together\n",
    "                if back_hit > -1:\n",
    "                    alpha = (back_hit+1.0)/(back_hit+front_hit+1.0)\n",
    "                    local_quat = lab.utils.quat_slerp(local_quat[np.newaxis,:], front_quat[np.newaxis,:], alpha)[0]\n",
    "                else:\n",
    "                    local_quat = front_quat\n",
    "                    \n",
    "            # if we hit a free contact we stop searching\n",
    "            if frame-f >= 0 and contacts[frame+f, cnst_index] == False:\n",
    "                break\n",
    "                \n",
    "        # compute position\n",
    "        gquat = lab.utils.quat_mul(local_quat, agquats[frame, foot, :])\n",
    "        gpos = agpos[frame, foot, :] + lab.utils.quat_mul_vec(gquat, animation.pos[0,  contact_indices[cnst_index], :])\n",
    "        \n",
    "        ankle_rotation_buffer[frame, buffer_index] = local_quat\n",
    "        ankle_position_buffer[frame, buffer_index] = constraint_positions_buffer[frame, cnst_index, :] - gpos\n",
    "        \n",
    "\n",
    "for frame in range(frame_count):\n",
    "    compute_double_constrained_ankle(frame, 0, 1, left_foot, 0)\n",
    "    compute_double_constrained_ankle(frame, 2, 3, right_foot, 1)\n",
    "    \n",
    "for frame in range(frame_count):\n",
    "    compute_single_constrained_ankle(frame, 0, 1, left_foot, 0)\n",
    "    compute_single_constrained_ankle(frame, 2, 3, right_foot, 1)\n",
    "    "
   ]
  },
  {
   "cell_type": "code",
   "execution_count": 22,
   "id": "1c2f0cdb-a17c-49ae-b7e1-b928547b0578",
   "metadata": {
    "tags": []
   },
   "outputs": [
    {
     "data": {
      "application/vnd.jupyter.widget-view+json": {
       "model_id": "46d26533f72e4e44878078ec843109ae",
       "version_major": 2,
       "version_minor": 0
      },
      "text/plain": [
       "interactive(children=(Timeline(value=0, children=(Play(value=0, description='play', interval=33, layout=Layout…"
      ]
     },
     "metadata": {},
     "output_type": "display_data"
    },
    {
     "data": {
      "application/vnd.jupyter.widget-view+json": {
       "model_id": "103cc3c7430e499cae59dd57e565da10",
       "version_major": 2,
       "version_minor": 0
      },
      "text/plain": [
       "Viewer(camera_far=2800.0, camera_near=20.0, camera_pitch=-16.199999999999967, camera_pos=[-485.17494660140756,…"
      ]
     },
     "execution_count": 22,
     "metadata": {},
     "output_type": "execute_result"
    }
   ],
   "source": [
    "def render(frame):\n",
    "    \n",
    "    anim = animation\n",
    "    p = (anim.pos[frame,...])\n",
    "    q = (anim.quats[frame,...])\n",
    "        \n",
    "    a = lab.utils.quat_to_mat(q, p)\n",
    "    viewer.set_shadow_poi(p[0])\n",
    "    \n",
    "    viewer.begin_shadow()\n",
    "    viewer.draw(character, a)\n",
    "    viewer.end_shadow()\n",
    "    \n",
    "    viewer.begin_display()\n",
    "    viewer.draw_ground()\n",
    "    viewer.draw(character, a)\n",
    "    \n",
    "    contacts = np.eye(4, dtype=np.float32)[np.newaxis,...].repeat(4, axis=0)\n",
    "    contacts[:, :3, 3] = constraint_positions_buffer[frame, :, :]\n",
    "    \n",
    "    viewer.draw(target, contacts)\n",
    "    viewer.end_display()\n",
    "\n",
    "    viewer.disable(depth_test=True)\n",
    "   \n",
    "    viewer.draw_lines(character.world_skeleton_lines(a))\n",
    "    \n",
    "    gquat = lab.utils.quat_mul(ankle_rotation_buffer[frame, 0, :], agquats[frame, character.bone_index('LeftFoot'), :])\n",
    "    gpos = agpos[frame, character.bone_index('LeftFoot'), :] + ankle_position_buffer[frame, 0, :]\n",
    "    a = lab.utils.quat_to_mat(gquat, gpos)\n",
    "    viewer.draw_axis(a[np.newaxis,...], 20)\n",
    "    \n",
    "    gquat = lab.utils.quat_mul(ankle_rotation_buffer[frame, 1, :], agquats[frame, character.bone_index('RightFoot'), :])\n",
    "    gpos = agpos[frame, character.bone_index('RightFoot'), :] + ankle_position_buffer[frame, 1, :]\n",
    "    a = lab.utils.quat_to_mat(gquat, gpos)\n",
    "    viewer.draw_axis(a[np.newaxis,...], 20)\n",
    "    \n",
    "    viewer.execute_commands()\n",
    "    \n",
    "interact(\n",
    "    render, \n",
    "    frame=lab.Timeline(max=300\n",
    "                         )\n",
    ")\n",
    "viewer"
   ]
  },
  {
   "cell_type": "markdown",
   "id": "b092d4d6-ee64-4c73-9527-985f9918d5af",
   "metadata": {},
   "source": [
    "## Root Position"
   ]
  },
  {
   "cell_type": "code",
   "execution_count": 24,
   "id": "0787b8c2-cc7a-4aa1-a45b-b1bd7b57e5d6",
   "metadata": {
    "tags": []
   },
   "outputs": [],
   "source": [
    "L3 = 8\n",
    "root_buffer = np.zeros([frame_count, 3], dtype=np.float32)\n",
    "leg_length = animation.pos[0,character.bone_index('LeftLeg'),0] + animation.pos[0,character.bone_index('LeftFoot'),0]\n",
    "\n",
    "def compute_root_offset(left_hips, right_hips, left_ankle, right_ankle, leg_length):\n",
    "    def _project(root, ankle):\n",
    "        vector = ankle - root\n",
    "        dist = np.sqrt(np.sum(vector*vector))\n",
    "        if dist > leg_length:\n",
    "            return True, (vector/dist)*(dist-leg_length)\n",
    "        else:\n",
    "            return False, np.zeros([3], dtype=np.float32)\n",
    "        \n",
    "    left, left_offset = _project(left_hips, left_ankle)\n",
    "    right, right_offset = _project(right_hips, right_ankle)\n",
    "    \n",
    "    if left and not right:\n",
    "        return left_offset\n",
    "    \n",
    "    if right and not left:\n",
    "        return right_offset\n",
    "    \n",
    "    if left and right:\n",
    "        current_offset = left_offset\n",
    "        for i in range(5):\n",
    "            loop, offset = _project(right_hips + current_offset, right_ankle)\n",
    "            if not loop:\n",
    "                return current_offset\n",
    "            current_offset += offset\n",
    "            loop, offset = _project(left_hips + current_offset, left_ankle)\n",
    "            if not loop:\n",
    "                return current_offset\n",
    "            current_offset += offset\n",
    "        return current_offset\n",
    "    return np.zeros([3], dtype=np.float32)\n",
    "        \n",
    "_temp_root_buffer = np.zeros([frame_count, 3], dtype=np.float32)\n",
    "for frame in range(frame_count):\n",
    "    if np.any(contacts[frame, :]):\n",
    "        _temp_root_buffer[frame, :] = compute_root_offset(\n",
    "            agpos[frame, character.bone_index('LeftUpLeg'), :],\n",
    "            agpos[frame, character.bone_index('RightUpLeg'), :],\n",
    "            agpos[frame, character.bone_index('LeftFoot'), :]+ ankle_position_buffer[frame, 0, :],\n",
    "            agpos[frame, character.bone_index('RightFoot'), :]+ ankle_position_buffer[frame, 1, :],\n",
    "            leg_length\n",
    "        )\n",
    "        \n",
    "for frame in range(frame_count):\n",
    "    if np.any(contacts[frame, :]):\n",
    "        count = 0\n",
    "        value = np.zeros([3], dtype=np.float32)\n",
    "        for f in range(-L3+1,L3):\n",
    "            if frame+f >= 0 and frame+f < frame_count:\n",
    "                value += _temp_root_buffer[frame+f, :]\n",
    "                count +=1\n",
    "        root_buffer[frame, :] = value/count\n",
    "    "
   ]
  },
  {
   "cell_type": "code",
   "execution_count": 25,
   "id": "52f8457c-6387-4c7d-8a0c-8be9ba6ee177",
   "metadata": {
    "tags": []
   },
   "outputs": [
    {
     "data": {
      "application/vnd.jupyter.widget-view+json": {
       "model_id": "5967f030e1ca4232b98eadaedd5ae995",
       "version_major": 2,
       "version_minor": 0
      },
      "text/plain": [
       "interactive(children=(Timeline(value=0, children=(Play(value=0, description='play', interval=33, layout=Layout…"
      ]
     },
     "metadata": {},
     "output_type": "display_data"
    },
    {
     "data": {
      "application/vnd.jupyter.widget-view+json": {
       "model_id": "103cc3c7430e499cae59dd57e565da10",
       "version_major": 2,
       "version_minor": 0
      },
      "text/plain": [
       "Viewer(camera_far=2800.0, camera_near=20.0, camera_pitch=-16.199999999999967, camera_pos=[-485.17494660140756,…"
      ]
     },
     "execution_count": 25,
     "metadata": {},
     "output_type": "execute_result"
    }
   ],
   "source": [
    "def render(frame):\n",
    "    \n",
    "    anim = animation\n",
    "    p = (anim.pos[frame,...])\n",
    "    q = (anim.quats[frame,...])\n",
    "        \n",
    "    a = lab.utils.quat_to_mat(q, p)\n",
    "    viewer.set_shadow_poi(p[0])\n",
    "    \n",
    "    viewer.begin_shadow()\n",
    "    viewer.draw(character, a)\n",
    "    viewer.end_shadow()\n",
    "    \n",
    "    viewer.begin_display()\n",
    "    viewer.draw_ground()\n",
    "    viewer.draw(character, a)\n",
    "    \n",
    "    contacts = np.eye(4, dtype=np.float32)[np.newaxis,...].repeat(4, axis=0)\n",
    "    contacts[:, :3, 3] = constraint_positions_buffer[frame, :, :]\n",
    "    \n",
    "    viewer.draw(target, contacts)\n",
    "    viewer.end_display()\n",
    "\n",
    "    viewer.disable(depth_test=True)\n",
    "   \n",
    "    viewer.draw_lines(character.world_skeleton_lines(a))\n",
    "    \n",
    "    gquat = lab.utils.quat_mul(ankle_rotation_buffer[frame, 0, :], agquats[frame, character.bone_index('LeftFoot'), :])\n",
    "    gpos = agpos[frame, character.bone_index('LeftFoot'), :] + ankle_position_buffer[frame, 0, :]\n",
    "    a = lab.utils.quat_to_mat(gquat, gpos)\n",
    "    viewer.draw_axis(a[np.newaxis,...], 20)\n",
    "    \n",
    "    gquat = lab.utils.quat_mul(ankle_rotation_buffer[frame, 1, :], agquats[frame, character.bone_index('RightFoot'), :])\n",
    "    gpos = agpos[frame, character.bone_index('RightFoot'), :] + ankle_position_buffer[frame, 1, :]\n",
    "    a = lab.utils.quat_to_mat(gquat, gpos)\n",
    "    viewer.draw_axis(a[np.newaxis,...], 20)\n",
    "    \n",
    "    gquat = agquats[frame, character.bone_index('Hips'), :]\n",
    "    gpos = agpos[frame, character.bone_index('Hips'), :] + root_buffer[frame, :]\n",
    "    a = lab.utils.quat_to_mat(gquat, gpos)\n",
    "    viewer.draw_axis(a[np.newaxis,...], 20)\n",
    "    \n",
    "    viewer.execute_commands()\n",
    "    \n",
    "interact(\n",
    "    render, \n",
    "    frame=lab.Timeline(max=frame_count-1)\n",
    ")\n",
    "viewer"
   ]
  },
  {
   "cell_type": "markdown",
   "id": "0685e981-c750-4a19-8baf-e4e10d6d5039",
   "metadata": {
    "tags": []
   },
   "source": [
    "## Compute IK"
   ]
  },
  {
   "cell_type": "code",
   "execution_count": 27,
   "id": "3261e462-36da-48d0-8d4b-67ad0e5ff1b8",
   "metadata": {
    "tags": []
   },
   "outputs": [],
   "source": [
    "import copy\n",
    "\n",
    "def compute_final_animation():\n",
    "    local_anim = copy.deepcopy(animation)\n",
    "    local_anim.pos[:, character.bone_index('Hips'), :] += root_buffer\n",
    "    gq, gp = lab.utils.quat_fk(local_anim.quats, local_anim.pos, local_anim.parents)\n",
    "    \n",
    "    # prepare sizes\n",
    "    len1 = animation.pos[0, character.bone_index('LeftLeg'), 0]\n",
    "    len2 = animation.pos[0, character.bone_index('LeftFoot'), 0]\n",
    "    l1l2_2 = np.array([len1 * len2 *2.0], dtype=np.float32).repeat(frame_count)\n",
    "    l1_l2 = np.array([len1*len1 + len2*len2], dtype=np.float32).repeat(frame_count)\n",
    "    \n",
    "    # compute left leg angle\n",
    "    #------------------------\n",
    "    ankle_vector = agpos[:, character.bone_index('LeftFoot'), :] + ankle_position_buffer[:, 0, :] - gp[:, character.bone_index('LeftUpLeg'), :]\n",
    "    ankle_dist = np.sum(ankle_vector*ankle_vector, axis=-1)\n",
    "    ankle_arccos = (l1_l2 - ankle_dist)/l1l2_2\n",
    "\n",
    "    # knee damping using a polynomial to ease out the over stretch\n",
    "    ankle_arccos = -.037037*ankle_arccos**7 + .0314815*ankle_arccos**6 + .0374074*ankle_arccos**5 - .0260185*ankle_arccos**4 - .0114815*ankle_arccos**3 + .00453704*ankle_arccos**2 + 1.00111*ankle_arccos\n",
    "\n",
    "    # apply the rotation on the knee\n",
    "    _angle = (np.pi - np.arccos(np.maximum(np.array(-1, dtype=np.float32).repeat(frame_count), ankle_arccos)))/2.0\n",
    "    local_anim.quats[:, character.bone_index('LeftLeg'), 0] = np.cos(-_angle)\n",
    "    local_anim.quats[:, character.bone_index('LeftLeg'), 3] = np.sin(-_angle)\n",
    "    \n",
    "    # recompute the global position of the foot\n",
    "    local_anim.quats = lab.utils.quat_normalize(local_anim.quats)\n",
    "    gq, gp = lab.utils.quat_fk(local_anim.quats, local_anim.pos, local_anim.parents)\n",
    "    \n",
    "    # rotate the leg (must be done on global position, then convert back on local)\n",
    "    rot = lab.utils.quat_between(gp[:, character.bone_index('LeftFoot'), :] - gp[:, character.bone_index('LeftUpLeg'), :], ankle_vector)\n",
    "    gq[:, character.bone_index('LeftUpLeg'), :] = lab.utils.quat_mul(rot, gq[:, character.bone_index('LeftUpLeg'), :])\n",
    "    local_anim.quats[:, character.bone_index('LeftUpLeg'), :] = lab.utils.quat_ik(gq, gp, local_anim.parents)[0][:, character.bone_index('LeftUpLeg'), :]\n",
    "\n",
    "    # recompute the global position\n",
    "    local_anim.quats = lab.utils.quat_normalize(local_anim.quats)\n",
    "    gq, gp = lab.utils.quat_fk(local_anim.quats, local_anim.pos, local_anim.parents)\n",
    "    \n",
    "    # force the foot on the constraint in global and convert in local\n",
    "    gq[:, character.bone_index('LeftFoot'), :] = lab.utils.quat_mul(ankle_rotation_buffer[:, 0, :], agquats[:, character.bone_index('LeftFoot'), :])\n",
    "    gp[:, character.bone_index('LeftFoot'), :] = agpos[:, character.bone_index('LeftFoot'), :] + ankle_position_buffer[:, 0, :]\n",
    "    lq, lp = lab.utils.quat_ik(gq, gp, local_anim.parents)\n",
    "    local_anim.quats[:, character.bone_index('LeftFoot'), :] = lq[:, character.bone_index('LeftFoot'), :]\n",
    "    local_anim.pos[:, character.bone_index('LeftFoot'), :] = lp[:, character.bone_index('LeftFoot'), :]\n",
    "    \n",
    "    \n",
    "    # compute right leg angle\n",
    "    #------------------------\n",
    "    ankle_vector = agpos[:, character.bone_index('RightFoot'), :] + ankle_position_buffer[:, 1, :] - gp[:, character.bone_index('RightUpLeg'), :]\n",
    "    ankle_dist = np.sum(ankle_vector*ankle_vector, axis=-1)\n",
    "    ankle_arccos = (l1_l2 - ankle_dist)/l1l2_2\n",
    "    \n",
    "    # knee damping using a polynomial to ease out the over stretch\n",
    "    ankle_arccos = -.037037*ankle_arccos**7 + .0314815*ankle_arccos**6 + .0374074*ankle_arccos**5 - .0260185*ankle_arccos**4 - .0114815*ankle_arccos**3 + .00453704*ankle_arccos**2 + 1.00111*ankle_arccos\n",
    "    \n",
    "    # apply the rotation on the knee\n",
    "    _angle = (np.pi - np.arccos(np.maximum(np.array(-1, dtype=np.float32).repeat(frame_count), ankle_arccos)))/2.0\n",
    "    local_anim.quats[:, character.bone_index('RightLeg'), 0] = np.cos(-_angle)\n",
    "    local_anim.quats[:, character.bone_index('RightLeg'), 3] = np.sin(-_angle)\n",
    "    \n",
    "    # recompute the global position of the foot\n",
    "    local_anim.quats = lab.utils.quat_normalize(local_anim.quats)\n",
    "    gq, gp = lab.utils.quat_fk(local_anim.quats, local_anim.pos, local_anim.parents)\n",
    "    \n",
    "    # rotate the leg (must be done on global position, then convert back on local)\n",
    "    rot = lab.utils.quat_between(gp[:, character.bone_index('RightFoot'), :] - gp[:, character.bone_index('RightUpLeg'), :], ankle_vector)\n",
    "    gq[:, character.bone_index('RightUpLeg'), :] = lab.utils.quat_mul(rot, gq[:, character.bone_index('RightUpLeg'), :])\n",
    "    local_anim.quats[:, character.bone_index('RightUpLeg'), :] = lab.utils.quat_ik(gq, gp, local_anim.parents)[0][:, character.bone_index('RightUpLeg'), :]\n",
    "\n",
    "    # recompute the global position\n",
    "    local_anim.quats = lab.utils.quat_normalize(local_anim.quats)\n",
    "    gq, gp = lab.utils.quat_fk(local_anim.quats, local_anim.pos, local_anim.parents)\n",
    "    \n",
    "    # force the foot on the constraint in global and convert in local\n",
    "    gq[:, character.bone_index('RightFoot'), :] = lab.utils.quat_mul(ankle_rotation_buffer[:, 1, :], agquats[:, character.bone_index('RightFoot'), :])\n",
    "    gp[:, character.bone_index('RightFoot'), :] = agpos[:, character.bone_index('RightFoot'), :] + ankle_position_buffer[:, 1, :]\n",
    "    lq, lp = lab.utils.quat_ik(gq, gp, local_anim.parents)\n",
    "    local_anim.quats[:, character.bone_index('RightFoot'), :] = lq[:, character.bone_index('RightFoot'), :]\n",
    "    local_anim.pos[:, character.bone_index('RightFoot'), :] = lp[:, character.bone_index('RightFoot'), :]\n",
    "    \n",
    "    \n",
    "    return local_anim\n",
    "\n",
    "solved_animation = compute_final_animation()"
   ]
  },
  {
   "cell_type": "code",
   "execution_count": 18,
   "id": "71ff204d-fe6c-436a-8044-6f847d0317f8",
   "metadata": {
    "tags": []
   },
   "outputs": [
    {
     "data": {
      "text/plain": [
       "[<matplotlib.lines.Line2D at 0x26f854af400>]"
      ]
     },
     "execution_count": 18,
     "metadata": {},
     "output_type": "execute_result"
    },
    {
     "data": {
      "application/vnd.jupyter.widget-view+json": {
       "model_id": "cd429a451b6c43518cd7767df42c3419",
       "version_major": 2,
       "version_minor": 0
      },
      "image/png": "[encoded data removed]",
      "text/html": [
       "\n",
       "            <div style=\"display: inline-block;\">\n",
       "                <div class=\"jupyter-widgets widget-label\" style=\"text-align: center;\">\n",
       "                    Figure\n",
       "                </div>\n",
       "                <img src='data:image/png;base64,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' width=500.0/>\n",
       "            </div>\n",
       "        "
      ],
      "text/plain": [
       "Canvas(toolbar=Toolbar(toolitems=[('Home', 'Reset original view', 'home', 'home'), ('Back', 'Back to previous …"
      ]
     },
     "metadata": {},
     "output_type": "display_data"
    }
   ],
   "source": [
    "#knee damping polynomial\n",
    "\n",
    "x = np.linspace(-1, 1, 100)\n",
    "fig, (ax) = plt.subplots(1, 1, figsize=(5,5))\n",
    "ax.plot(x)\n",
    "z = -.037037*x**7 + .0314815*x**6 + .0374074*x**5 - .0260185*x**4 - .0114815*x**3 + .00453704*x**2 + 1.00111*x\n",
    "\n",
    "ax.plot(z)"
   ]
  },
  {
   "cell_type": "code",
   "execution_count": 29,
   "id": "438edeac-0535-4ec5-a62d-c7c6d0796081",
   "metadata": {
    "tags": []
   },
   "outputs": [
    {
     "data": {
      "application/vnd.jupyter.widget-view+json": {
       "model_id": "46a167ace86d4fac80b1db1657b715bb",
       "version_major": 2,
       "version_minor": 0
      },
      "text/plain": [
       "interactive(children=(Timeline(value=0, children=(Play(value=0, description='play', interval=33, layout=Layout…"
      ]
     },
     "metadata": {},
     "output_type": "display_data"
    },
    {
     "data": {
      "application/vnd.jupyter.widget-view+json": {
       "model_id": "103cc3c7430e499cae59dd57e565da10",
       "version_major": 2,
       "version_minor": 0
      },
      "text/plain": [
       "Viewer(camera_far=2800.0, camera_near=20.0, camera_pitch=-16.199999999999967, camera_pos=[-485.17494660140756,…"
      ]
     },
     "execution_count": 29,
     "metadata": {},
     "output_type": "execute_result"
    }
   ],
   "source": [
    "def render(frame, solved=True):\n",
    "    \n",
    "    anim = solved_animation if solved else animation\n",
    "    p = (anim.pos[frame,...])\n",
    "    q = (anim.quats[frame,...])\n",
    "        \n",
    "    a = lab.utils.quat_to_mat(q, p)\n",
    "    viewer.set_shadow_poi(p[0])\n",
    "    \n",
    "    viewer.begin_shadow()\n",
    "    viewer.draw(character, a)\n",
    "    viewer.end_shadow()\n",
    "    \n",
    "    viewer.begin_display()\n",
    "    viewer.draw_ground()\n",
    "    viewer.draw(character, a)\n",
    "    \n",
    "    contacts = np.eye(4, dtype=np.float32)[np.newaxis,...].repeat(4, axis=0)\n",
    "    contacts[:, :3, 3] = constraint_positions_buffer[frame, :, :]\n",
    "    \n",
    "    viewer.draw(target, contacts)\n",
    "    viewer.end_display()\n",
    "\n",
    "    viewer.disable(depth_test=True)\n",
    "   \n",
    "    viewer.draw_lines(character.world_skeleton_lines(a))\n",
    "    \n",
    "    gquat = lab.utils.quat_mul(ankle_rotation_buffer[frame, 0, :], agquats[frame, character.bone_index('LeftFoot'), :])\n",
    "    gpos = agpos[frame, character.bone_index('LeftFoot'), :] + ankle_position_buffer[frame, 0, :]\n",
    "    a = lab.utils.quat_to_mat(gquat, gpos)\n",
    "    viewer.draw_axis(a[np.newaxis,...], 20)\n",
    "    \n",
    "    gquat = lab.utils.quat_mul(ankle_rotation_buffer[frame, 1, :], agquats[frame, character.bone_index('RightFoot'), :])\n",
    "    gpos = agpos[frame, character.bone_index('RightFoot'), :] + ankle_position_buffer[frame, 1, :]\n",
    "    a = lab.utils.quat_to_mat(gquat, gpos)\n",
    "    viewer.draw_axis(a[np.newaxis,...], 20)\n",
    "    \n",
    "    gquat = agquats[frame, character.bone_index('Hips'), :]\n",
    "    gpos = agpos[frame, character.bone_index('Hips'), :] + root_buffer[frame, :]\n",
    "    a = lab.utils.quat_to_mat(gquat, gpos)\n",
    "    viewer.draw_axis(a[np.newaxis,...], 20)\n",
    "    \n",
    "    viewer.execute_commands()\n",
    "    \n",
    "    \n",
    "    \n",
    "interact(\n",
    "    render, \n",
    "    frame=lab.Timeline(max=500\n",
    "                         ),\n",
    "    solved=widgets.Checkbox(value=True)\n",
    ")\n",
    "viewer"
   ]
  },
  {
   "cell_type": "markdown",
   "id": "7d6c59ca-f6c4-40d5-96a8-7eefd1bdbf46",
   "metadata": {},
   "source": [
    "## Final Processing"
   ]
  },
  {
   "cell_type": "code",
   "execution_count": 30,
   "id": "8ebd5d09-844c-4987-964d-eaf384de6d4e",
   "metadata": {
    "tags": []
   },
   "outputs": [],
   "source": [
    "L4 = 10\n",
    "\n",
    "for frame in range(frame_count):\n",
    "    # if there is no constraints we can check if we have to smooth the hips\n",
    "    if not np.any(contacts[frame,:]):\n",
    "        pos = np.array([0,0,0], dtype=np.float32)\n",
    "        \n",
    "        # backward\n",
    "        backhit = -1\n",
    "        for f in range(L4):\n",
    "            if frame-f >= 0 and np.any(contacts[frame,:]):\n",
    "                backhit = f\n",
    "                alpha = (f+1.0)/(L2+1.0)\n",
    "                alpha = 2*alpha*alpha*alpha - 3*alpha*alpha + 1\n",
    "                pos = root_buffer[frame-f]*(alpha)\n",
    "                break\n",
    "                \n",
    "        # forward\n",
    "        for f in range(L4):\n",
    "            if frame+f < frame_count and np.any(contacts[frame,:]):\n",
    "                alpha = (f+1.0)/(L2+1.0)\n",
    "                alpha = 2*alpha*alpha*alpha - 3*alpha*alpha + 1\n",
    "                fpos = root_buffer[frame+f]*(alpha)\n",
    "                if backhit > -1:\n",
    "                    alpha = (backhit+1.0)/(backhit+f+1.0)\n",
    "                    pos = pos*(1.0-alpha) + fpos*(alpha)\n",
    "                else:\n",
    "                    pos = fpos\n",
    "                break\n",
    "                \n",
    "        root_buffer[frame] = pos\n",
    "        \n",
    "    def _ankle(foot_contacts, rotation_offsets, position_offsets):\n",
    "        if not np.any(foot_contacts[frame,:]):\n",
    "            local_quat = np.array([1,0,0,0], dtype=np.float32)\n",
    "            local_pos = np.array([0,0,0], dtype=np.float32)\n",
    "            \n",
    "            # backward\n",
    "            back_hit = -1\n",
    "            for f in range(L4):\n",
    "                if frame-f >= 0 and np.any(foot_contacts[frame-f, :]):\n",
    "                    xx = position_offsets[frame-f]\n",
    "                    back_hit = f\n",
    "                    alpha = (f+1.0)/(L4+1.0)\n",
    "                    alpha = 2*alpha*alpha*alpha - 3*alpha*alpha + 1\n",
    "                    local_quat = lab.utils.quat_slerp(np.array([[1,0,0,0]], dtype=np.float32), rotation_offsets[frame-f][np.newaxis,:], alpha)[0]\n",
    "                    local_pos = position_offsets[frame-f]*(alpha)\n",
    "                    break\n",
    "\n",
    "            # forward\n",
    "            front_hit = -1\n",
    "            for f in range(L4):\n",
    "                if frame+f < frame_count and np.any(foot_contacts[frame+f, :]):\n",
    "                    yy = position_offsets[frame+f]\n",
    "                    front_hit = f\n",
    "                    alpha = (f+1.0)/(L4+1.0)\n",
    "                    alpha = 2*alpha*alpha*alpha - 3*alpha*alpha + 1\n",
    "                    front_quat = lab.utils.quat_slerp(np.array([[1,0,0,0]], dtype=np.float32), rotation_offsets[frame+f][np.newaxis,:], alpha)[0]\n",
    "                    front_pos = position_offsets[frame+f]*(alpha)\n",
    "\n",
    "                    if back_hit > -1:\n",
    "                        alpha = (back_hit+1.0)/(back_hit+front_hit+1.0)\n",
    "                        local_quat = lab.utils.quat_slerp(local_quat[np.newaxis,:], front_quat[np.newaxis,:], alpha)[0]\n",
    "                        local_pos = local_pos*(1-alpha) + front_pos*(alpha)\n",
    "                    else:\n",
    "                        local_quat = front_quat\n",
    "                        local_pos = front_pos\n",
    "                    break\n",
    "            return local_quat, local_pos\n",
    "        return rotation_offsets[frame], position_offsets[frame]\n",
    "    \n",
    "    ankle_rotation_buffer[frame, 0, :], ankle_position_buffer[frame, 0, :] = _ankle(contacts[:, :2], ankle_rotation_buffer[:,0,:], ankle_position_buffer[:,0,:])\n",
    "    ankle_rotation_buffer[frame, 1, :], ankle_position_buffer[frame, 1, :] = _ankle(contacts[:, 2:], ankle_rotation_buffer[:,1,:], ankle_position_buffer[:,1,:])\n",
    "\n",
    "solved_animation = compute_final_animation()"
   ]
  },
  {
   "cell_type": "code",
   "execution_count": 32,
   "id": "2ab582f8-9ad0-4cac-96e0-e6867df0d7c9",
   "metadata": {
    "tags": []
   },
   "outputs": [
    {
     "data": {
      "application/vnd.jupyter.widget-view+json": {
       "model_id": "1aee3fef51264a3e89a577045ce30c61",
       "version_major": 2,
       "version_minor": 0
      },
      "text/plain": [
       "interactive(children=(Timeline(value=0, children=(Play(value=0, description='play', interval=33, layout=Layout…"
      ]
     },
     "metadata": {},
     "output_type": "display_data"
    },
    {
     "data": {
      "application/vnd.jupyter.widget-view+json": {
       "model_id": "103cc3c7430e499cae59dd57e565da10",
       "version_major": 2,
       "version_minor": 0
      },
      "text/plain": [
       "Viewer(camera_far=2800.0, camera_near=20.0, camera_pitch=-16.199999999999967, camera_pos=[-485.17494660140756,…"
      ]
     },
     "execution_count": 32,
     "metadata": {},
     "output_type": "execute_result"
    }
   ],
   "source": [
    "def render(frame, solved=True):\n",
    "    \n",
    "    anim = solved_animation if solved else animation\n",
    "    p = (anim.pos[frame,...])\n",
    "    q = (anim.quats[frame,...])\n",
    "        \n",
    "    a = lab.utils.quat_to_mat(q, p)\n",
    "    viewer.set_shadow_poi(p[0])\n",
    "    \n",
    "    viewer.begin_shadow()\n",
    "    viewer.draw(character, a)\n",
    "    viewer.end_shadow()\n",
    "    \n",
    "    viewer.begin_display()\n",
    "    viewer.draw_ground()\n",
    "    viewer.draw(character, a)\n",
    "    \n",
    "    contacts = np.eye(4, dtype=np.float32)[np.newaxis,...].repeat(4, axis=0)\n",
    "    contacts[:, :3, 3] = constraint_positions_buffer[frame, :, :]\n",
    "    \n",
    "    viewer.draw(target, contacts)\n",
    "    \n",
    "    viewer.end_display()\n",
    "\n",
    "    viewer.disable(depth_test=True)\n",
    "   \n",
    "    viewer.draw_lines(character.world_skeleton_lines(a))\n",
    "    \n",
    "    gquat = lab.utils.quat_mul(ankle_rotation_buffer[frame, 0, :], agquats[frame, character.bone_index('LeftFoot'), :])\n",
    "    gpos = agpos[frame, character.bone_index('LeftFoot'), :] + ankle_position_buffer[frame, 0, :]\n",
    "    a = lab.utils.quat_to_mat(gquat, gpos)\n",
    "    viewer.draw_axis(a[np.newaxis,...], 20)\n",
    "    \n",
    "    gquat = lab.utils.quat_mul(ankle_rotation_buffer[frame, 1, :], agquats[frame, character.bone_index('RightFoot'), :])\n",
    "    gpos = agpos[frame, character.bone_index('RightFoot'), :] + ankle_position_buffer[frame, 1, :]\n",
    "    a = lab.utils.quat_to_mat(gquat, gpos)\n",
    "    viewer.draw_axis(a[np.newaxis,...], 20)\n",
    "    \n",
    "    gquat = agquats[frame, character.bone_index('Hips'), :]\n",
    "    gpos = agpos[frame, character.bone_index('Hips'), :] + root_buffer[frame, :]\n",
    "    a = lab.utils.quat_to_mat(gquat, gpos)\n",
    "    viewer.draw_axis(a[np.newaxis,...], 20)\n",
    "    \n",
    "    viewer.execute_commands()\n",
    "    \n",
    "    \n",
    "    \n",
    "interact(\n",
    "    render, \n",
    "    frame=lab.Timeline(max=300\n",
    "                         ),\n",
    "    solved=widgets.Checkbox(value=True)\n",
    ")\n",
    "viewer"
   ]
  }
 ],
 "metadata": {
  "kernelspec": {
   "display_name": "Python 3 (ipykernel)",
   "language": "python",
   "name": "python3"
  },
  "language_info": {
   "codemirror_mode": {
    "name": "ipython",
    "version": 3
   },
   "file_extension": ".py",
   "mimetype": "text/x-python",
   "name": "python",
   "nbconvert_exporter": "python",
   "pygments_lexer": "ipython3",
   "version": "3.10.10"
  }
 },
 "nbformat": 4,
 "nbformat_minor": 5
}
