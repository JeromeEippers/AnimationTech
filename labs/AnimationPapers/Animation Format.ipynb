{
 "cells": [
  {
   "cell_type": "markdown",
   "id": "5a7a376d-1dce-43db-be91-d381f44f5caa",
   "metadata": {},
   "source": [
    "# Animation Format\n",
    "\n",
    "by Jerome Eippers, 2024\n",
    "\n",
    "## Skeleton structure \n",
    "A character is composed of a hiearchy of joint. Each with a local transfrom relative to its parent.\n",
    "       \n",
    "```\n",
    "Root\n",
    "└── Hips\n",
    "    ├── Spine\n",
    "    │   └── Chest\n",
    "    │       ├── Neck\n",
    "    │       │   └── Head\n",
    "    │       ├── LeftShoulder\n",
    "    │       │   └── LeftArm\n",
    "    │       │       └── (...)\n",
    "    │       └── RightShoulder\n",
    "    │           └── RightArm\n",
    "    │               └── (...)\n",
    "    ├── LeftUpLeg\n",
    "    │   └── LeftLeg\n",
    "    │       └── LeftFoot\n",
    "    └── RightUpLeg\n",
    "        └── RightLeg\n",
    "            └── RightFoot\n",
    "```\n",
    "\n",
    "## Animation representation\n",
    "\n",
    "$$\n",
    "M(t) = (\\textbf{p}_0(t), \\textbf{q}_0(t), \\textbf{q}_1(t), \\textbf{q}_2(t), \\dots, \\textbf{q}_b(t))\n",
    "$$\n",
    "  \n",
    "An articulated objects such as human figures are usually represented\n",
    "as rotation hierarchies parameterized by a whole-body translation $\\textbf{p}_0$, a\n",
    "whole-body rotation $\\textbf{q}_0$, and a set of joint angles $\\textbf{q}_1, \\dots, \\textbf{q}_b$.   \n",
    "A motion $M$ is described by a set of motion curves each giving the value of one of the model’s parameters as a function of time.\n",
    "\n",
    "### Framework\n",
    "\n",
    "In our case, we use the animation format from Ubisoft Lafan1 with a motion being parametrized by the position and orientation of all joints.\n",
    "\n",
    "$$\n",
    "\\begin{align*}\n",
    "M(t) &= (\\textbf{P}(t), \\textbf{Q}(t))\\\\\n",
    "\\textbf{P}(t) &= (\\textbf{p}_0(t), \\dots, \\textbf{p}_b(t))\\\\\n",
    "\\textbf{Q}(t) &= (\\textbf{q}_0(t), \\dots, \\textbf{q}_b(t))\\\\\n",
    "\\end{align*}\n",
    "$$\n",
    "With $t$ beeing discreet at 30 frame per second.  \n",
    "\n",
    "This gives us 2 tensors of shapes :\n",
    "\n",
    "* $\\textbf{P}$ = np.array[frame count, bone count, 3]\n",
    "* $\\textbf{Q}$ = np.array[frame count, bone count, 4]\n"
   ]
  },
  {
   "cell_type": "code",
   "execution_count": 1,
   "id": "216caebc-9b0c-49f2-9afb-ce659a6b69aa",
   "metadata": {
    "tags": []
   },
   "outputs": [],
   "source": [
    "import numpy as np\n",
    "from ipywidgets import widgets, interact\n",
    "\n",
    "import ipyanimlab as lab\n",
    "\n",
    "viewer = lab.Viewer(move_speed=5, width=1280, height=720)"
   ]
  },
  {
   "cell_type": "markdown",
   "id": "94945212-b00d-4513-8c07-ca8bd00f71bd",
   "metadata": {},
   "source": [
    "# Load Character\n",
    "\n",
    "Mesh and Skeleton."
   ]
  },
  {
   "cell_type": "code",
   "execution_count": 2,
   "id": "3fd98dcb-e7e4-417b-8ff4-1f4b7bb2cb36",
   "metadata": {
    "tags": []
   },
   "outputs": [],
   "source": [
    "character = viewer.import_usd_asset('AnimLabSimpleMale.usd')"
   ]
  },
  {
   "cell_type": "code",
   "execution_count": 4,
   "id": "af346611-2672-4424-a639-ed1de68a134a",
   "metadata": {
    "tags": []
   },
   "outputs": [
    {
     "data": {
      "application/vnd.jupyter.widget-view+json": {
       "model_id": "1e9ef88142c84c73845326f908a30f66",
       "version_major": 2,
       "version_minor": 0
      },
      "text/plain": [
       "Viewer(camera_far=2800.0, camera_near=20.0, camera_pitch=-14.400000000000006, camera_pos=[-18.6193078352162, 1…"
      ]
     },
     "execution_count": 4,
     "metadata": {},
     "output_type": "execute_result"
    }
   ],
   "source": [
    "viewer.begin_shadow()\n",
    "viewer.draw(character)\n",
    "viewer.end_shadow()\n",
    "\n",
    "viewer.begin_display()\n",
    "viewer.draw_ground()\n",
    "viewer.draw(character)\n",
    "viewer.end_display()\n",
    "\n",
    "viewer.disable(depth_test=True)\n",
    "viewer.draw_axis(character.world_skeleton_xforms(), 5)\n",
    "viewer.draw_lines(character.world_skeleton_lines())\n",
    "viewer.execute_commands()\n",
    "viewer"
   ]
  },
  {
   "cell_type": "markdown",
   "id": "22783bf0-ca1d-4a56-a952-995bc956821d",
   "metadata": {},
   "source": [
    "# Load Animation"
   ]
  },
  {
   "cell_type": "markdown",
   "id": "8b48c4ec-39fa-4fd1-b0ae-eeb42d3027c0",
   "metadata": {},
   "source": [
    "## load the data"
   ]
  },
  {
   "cell_type": "code",
   "execution_count": 9,
   "id": "16ac26bf-e4c9-401d-8ce4-ad23505fd5f9",
   "metadata": {
    "tags": []
   },
   "outputs": [],
   "source": [
    "animation = lab.import_bvh('../../resources/lafan1/bvh/aiming1_subject1.bvh')"
   ]
  },
  {
   "cell_type": "code",
   "execution_count": 10,
   "id": "89c52d29-f3d1-435e-8e91-f772d543c810",
   "metadata": {
    "tags": []
   },
   "outputs": [
    {
     "name": "stdout",
     "output_type": "stream",
     "text": [
      "positions : (7184, 22, 3)\n",
      "quaternions : (7184, 22, 4)\n"
     ]
    }
   ],
   "source": [
    "print('positions :', animation.pos.shape)\n",
    "print('quaternions :', animation.quats.shape)"
   ]
  },
  {
   "cell_type": "code",
   "execution_count": 12,
   "id": "5eabaceb-4b6f-4a98-a338-b6e39383b3cd",
   "metadata": {
    "tags": []
   },
   "outputs": [
    {
     "data": {
      "application/vnd.jupyter.widget-view+json": {
       "model_id": "a9bceead669248aca0bc00f991a3776c",
       "version_major": 2,
       "version_minor": 0
      },
      "text/plain": [
       "interactive(children=(Timeline(value=0, children=(Play(value=0, description='play', interval=33, layout=Layout…"
      ]
     },
     "metadata": {},
     "output_type": "display_data"
    },
    {
     "data": {
      "application/vnd.jupyter.widget-view+json": {
       "model_id": "1e9ef88142c84c73845326f908a30f66",
       "version_major": 2,
       "version_minor": 0
      },
      "text/plain": [
       "Viewer(camera_far=2800.0, camera_near=20.0, camera_pitch=-10.600000000000007, camera_pos=[-151.6991414754351, …"
      ]
     },
     "execution_count": 12,
     "metadata": {},
     "output_type": "execute_result"
    }
   ],
   "source": [
    "def render(frame):\n",
    "    \n",
    "    p = (animation.pos[frame,...]).copy()\n",
    "    q = (animation.quats[frame,...]).copy()\n",
    "\n",
    "    a = lab.utils.quat_to_mat(q, p)\n",
    "    viewer.set_shadow_poi(a[1,:3,3])\n",
    "    \n",
    "    viewer.begin_shadow()\n",
    "    viewer.draw(character, a, animation.bones)\n",
    "    viewer.end_shadow()\n",
    "    \n",
    "    viewer.begin_display()\n",
    "    viewer.draw_ground()\n",
    "    viewer.draw(character, a, animation.bones)\n",
    "    viewer.end_display()\n",
    "    \n",
    "    viewer.disable(depth_test=True)\n",
    "        \n",
    "    viewer.draw_axis(character.world_skeleton_xforms(a, animation.bones), 5)\n",
    "    viewer.draw_lines(character.world_skeleton_lines(a, animation.bones))\n",
    "    \n",
    "    viewer.execute_commands()\n",
    "    \n",
    "interact(render, frame=lab.Timeline(max=animation.quats.shape[0]-1))\n",
    "viewer"
   ]
  },
  {
   "cell_type": "markdown",
   "id": "04d772df-7d10-4c63-a7bf-603e2f6e7c03",
   "metadata": {},
   "source": [
    "## Match the skeleton translations"
   ]
  },
  {
   "cell_type": "code",
   "execution_count": 13,
   "id": "51baa7e5-ded5-456d-ad5d-920332267d85",
   "metadata": {
    "tags": []
   },
   "outputs": [],
   "source": [
    "animmap = lab.AnimMapper(character)\n",
    "animation = lab.import_bvh('../../resources/lafan1/bvh/aiming1_subject1.bvh', anim_mapper=animmap)"
   ]
  },
  {
   "cell_type": "code",
   "execution_count": 17,
   "id": "224f6dd7-7af5-4bfa-b34d-8bed7204ad54",
   "metadata": {
    "tags": []
   },
   "outputs": [
    {
     "data": {
      "application/vnd.jupyter.widget-view+json": {
       "model_id": "d5efa7e49f564410adeec3072571e25b",
       "version_major": 2,
       "version_minor": 0
      },
      "text/plain": [
       "interactive(children=(Timeline(value=0, children=(Play(value=0, description='play', interval=33, layout=Layout…"
      ]
     },
     "metadata": {},
     "output_type": "display_data"
    },
    {
     "data": {
      "application/vnd.jupyter.widget-view+json": {
       "model_id": "1e9ef88142c84c73845326f908a30f66",
       "version_major": 2,
       "version_minor": 0
      },
      "text/plain": [
       "Viewer(camera_far=2800.0, camera_near=20.0, camera_pitch=-13.800000000000011, camera_pos=[-151.6991414754351, …"
      ]
     },
     "execution_count": 17,
     "metadata": {},
     "output_type": "execute_result"
    }
   ],
   "source": [
    "def render(frame):\n",
    "    \n",
    "    p = (animation.pos[frame,...]).copy()\n",
    "    q = (animation.quats[frame,...]).copy()\n",
    "\n",
    "    a = lab.utils.quat_to_mat(q, p)\n",
    "    viewer.set_shadow_poi(a[1,:3,3])\n",
    "    \n",
    "    viewer.begin_shadow()\n",
    "    viewer.draw(character, a, animation.bones)\n",
    "    viewer.end_shadow()\n",
    "    \n",
    "    viewer.begin_display()\n",
    "    viewer.draw_ground()\n",
    "    viewer.draw(character, a, animation.bones)\n",
    "    viewer.end_display()\n",
    "    \n",
    "    viewer.disable(depth_test=True)\n",
    "        \n",
    "    viewer.draw_axis(character.world_skeleton_xforms(a), 5)\n",
    "    viewer.draw_lines(character.world_skeleton_lines(a))\n",
    "    \n",
    "    viewer.execute_commands()\n",
    "    \n",
    "interact(render, frame=lab.Timeline(max=animation.quats.shape[0]-1))\n",
    "viewer"
   ]
  },
  {
   "cell_type": "markdown",
   "id": "fd5abb1e-02b7-412e-bb2b-ed328d70a280",
   "metadata": {
    "tags": []
   },
   "source": [
    "## Project Root\n",
    "\n",
    "We will project the root under the Hips."
   ]
  },
  {
   "cell_type": "code",
   "execution_count": 19,
   "id": "31e9784d-de3a-4aaa-a668-6c945a0d0993",
   "metadata": {
    "tags": []
   },
   "outputs": [],
   "source": [
    "frame_count = animation.quats.shape[0]\n",
    "bone_count = animation.quats.shape[1]\n",
    "\n",
    "hips_v = lab.utils.quat_mul_vec(animation.quats[:, 1], np.asarray([0,1,0], dtype=np.float32)[np.newaxis,...].repeat(frame_count, axis=0))\n",
    "angle = np.arctan2(hips_v[:, 0], hips_v[:, 2])/2\n",
    "root_q = np.zeros([frame_count, 4], dtype=np.float32)\n",
    "root_q[:, 0] = np.cos(angle)\n",
    "root_q[:, 2] = np.sin(angle)\n",
    "root_p = np.zeros([frame_count, 3], dtype=np.float32)\n",
    "root_p[:, [0,2]] = animation.pos[:, 1, [0,2]]\n",
    "\n",
    "animation.quats[:, 1], animation.pos[:, 1] = lab.utils.qp_mul( lab.utils.qp_inv((root_q, root_p)), (animation.quats[:, 1], animation.pos[:, 1]) )\n",
    "animation.quats[:, 0], animation.pos[:, 0] = root_q, root_p"
   ]
  },
  {
   "cell_type": "code",
   "execution_count": 21,
   "id": "4e0bb095-556a-4ba0-b124-031d4f7e4d69",
   "metadata": {
    "tags": []
   },
   "outputs": [
    {
     "data": {
      "application/vnd.jupyter.widget-view+json": {
       "model_id": "2340848515a6492fb2579be18c47887a",
       "version_major": 2,
       "version_minor": 0
      },
      "text/plain": [
       "interactive(children=(Timeline(value=0, children=(Play(value=0, description='play', interval=33, layout=Layout…"
      ]
     },
     "metadata": {},
     "output_type": "display_data"
    },
    {
     "data": {
      "application/vnd.jupyter.widget-view+json": {
       "model_id": "1e9ef88142c84c73845326f908a30f66",
       "version_major": 2,
       "version_minor": 0
      },
      "text/plain": [
       "Viewer(camera_far=2800.0, camera_near=20.0, camera_pitch=-13.800000000000011, camera_pos=[-151.6991414754351, …"
      ]
     },
     "execution_count": 21,
     "metadata": {},
     "output_type": "execute_result"
    }
   ],
   "source": [
    "def render(frame, static_position=False, static_rotation=False):\n",
    "    \n",
    "    p = (animation.pos[frame,...]).copy()\n",
    "    q = (animation.quats[frame,...]).copy()\n",
    "    \n",
    "    if static_position:\n",
    "        p[0] = np.zeros(3, dtype=np.float32)\n",
    "    if static_rotation:\n",
    "        q[0] = np.asarray([1,0,0,0], dtype=np.float32)\n",
    "    \n",
    "    a = lab.utils.quat_to_mat(q, p)\n",
    "    viewer.set_shadow_poi(a[1,:3,3])\n",
    "    \n",
    "    viewer.begin_shadow()\n",
    "    viewer.draw(character, a, animation.bones)\n",
    "    viewer.end_shadow()\n",
    "    \n",
    "    viewer.begin_display()\n",
    "    viewer.draw_ground()\n",
    "    viewer.draw(character, a, animation.bones)\n",
    "    viewer.end_display()\n",
    "    \n",
    "    viewer.disable(depth_test=True)\n",
    "        \n",
    "    viewer.draw_axis(character.world_skeleton_xforms(a), 5)\n",
    "    viewer.draw_lines(character.world_skeleton_lines(a))\n",
    "    \n",
    "    viewer.execute_commands()\n",
    "    \n",
    "interact(render, \n",
    "         static_position=widgets.Checkbox(), \n",
    "         static_rotation=widgets.Checkbox(), \n",
    "         frame=lab.Timeline(max=animation.quats.shape[0]-1))\n",
    "viewer"
   ]
  }
 ],
 "metadata": {
  "kernelspec": {
   "display_name": "Python 3 (ipykernel)",
   "language": "python",
   "name": "python3"
  },
  "language_info": {
   "codemirror_mode": {
    "name": "ipython",
    "version": 3
   },
   "file_extension": ".py",
   "mimetype": "text/x-python",
   "name": "python",
   "nbconvert_exporter": "python",
   "pygments_lexer": "ipython3",
   "version": "3.10.10"
  }
 },
 "nbformat": 4,
 "nbformat_minor": 5
}
