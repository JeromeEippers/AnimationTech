{
 "cells": [
  {
   "cell_type": "markdown",
   "id": "51a52727-4a58-4cba-bf03-8b363f5e60a5",
   "metadata": {},
   "source": [
    "# Loading Rigid USD asset\n",
    "\n",
    "we will load a default usd file, and see how we can render it"
   ]
  },
  {
   "cell_type": "code",
   "execution_count": 1,
   "id": "6fbaafb8-7827-4f2f-ac61-0d3c8a8cdc97",
   "metadata": {},
   "outputs": [],
   "source": [
    "import numpy as np\n",
    "from ipywidgets import widgets, interact, interactive\n",
    "\n",
    "import ipyanimlab as lab\n",
    "viewer = lab.Viewer(shadow_quality=lab.ShadowQuality.HIGH, move_speed=5, width=800, height=600)"
   ]
  },
  {
   "cell_type": "markdown",
   "id": "f785a35c-88b2-4b03-af8f-206b4a76c0fe",
   "metadata": {},
   "source": [
    "## Load the USD Asset\n",
    "As static asset the ShaderBall is accessible directly from internal resources"
   ]
  },
  {
   "cell_type": "code",
   "execution_count": 2,
   "id": "6c22aa35-bbe9-404f-8174-f916fe20e4ad",
   "metadata": {},
   "outputs": [],
   "source": [
    "rigid = viewer.import_usd_asset('ShaderBall.usd')"
   ]
  },
  {
   "cell_type": "markdown",
   "id": "86cf407c-f83e-4134-b649-91575c261bcf",
   "metadata": {},
   "source": [
    "## Render at default position"
   ]
  },
  {
   "cell_type": "code",
   "execution_count": 3,
   "id": "bcc8b3fe-7eca-49a0-8124-650b07b62574",
   "metadata": {},
   "outputs": [
    {
     "data": {
      "application/vnd.jupyter.widget-view+json": {
       "model_id": "16be2a0a91584029b5b04f7bd83fef96",
       "version_major": 2,
       "version_minor": 0
      },
      "text/plain": [
       "Viewer(camera_far=2800.0, camera_near=20.0, camera_pitch=-18.0, camera_pos=[-370, 280, 350], camera_yaw=-45.0,…"
      ]
     },
     "execution_count": 3,
     "metadata": {},
     "output_type": "execute_result"
    }
   ],
   "source": [
    "viewer.begin_shadow()\n",
    "viewer.draw(rigid)\n",
    "viewer.end_shadow()\n",
    "\n",
    "viewer.begin_display()\n",
    "viewer.draw_ground()\n",
    "viewer.draw(rigid)\n",
    "viewer.end_display()\n",
    "\n",
    "viewer.disable(depth_test=True)\n",
    "   \n",
    "viewer.execute_commands()\n",
    "viewer"
   ]
  },
  {
   "cell_type": "markdown",
   "id": "f1a75e39-2108-47ca-923e-2254730bcf43",
   "metadata": {},
   "source": [
    "## Render at a specific xform\n",
    "\n",
    "we can pass a 4x4 numpy matrix to the draw command to draw the asset with that transform."
   ]
  },
  {
   "cell_type": "code",
   "execution_count": 4,
   "id": "702050b9-608a-4d7a-9546-0bb9ef2d1a5e",
   "metadata": {},
   "outputs": [
    {
     "data": {
      "application/vnd.jupyter.widget-view+json": {
       "model_id": "16be2a0a91584029b5b04f7bd83fef96",
       "version_major": 2,
       "version_minor": 0
      },
      "text/plain": [
       "Viewer(camera_far=2800.0, camera_near=20.0, camera_pitch=-18.0, camera_pos=[-370, 280, 350], camera_yaw=-45.0,…"
      ]
     },
     "execution_count": 4,
     "metadata": {},
     "output_type": "execute_result"
    }
   ],
   "source": [
    "xform = np.eye(4, dtype=np.float32)\n",
    "xform[:3, 3] = [150, 0, 0]\n",
    "\n",
    "viewer.begin_shadow()\n",
    "viewer.draw(rigid)\n",
    "viewer.draw(rigid, xform)\n",
    "viewer.end_shadow()\n",
    "\n",
    "viewer.begin_display()\n",
    "viewer.draw_ground()\n",
    "viewer.draw(rigid)\n",
    "viewer.draw(rigid, xform)\n",
    "viewer.end_display()\n",
    "\n",
    "viewer.execute_commands()\n",
    "viewer"
   ]
  },
  {
   "cell_type": "markdown",
   "id": "80d07416-a9b3-4ffd-8b76-090d7a4bf3e9",
   "metadata": {},
   "source": [
    "## Multiple Render\n",
    "\n",
    "We can pass up to 256 matrices at once to the draw command to draw the asset using instacing."
   ]
  },
  {
   "cell_type": "code",
   "execution_count": 5,
   "id": "b1e0b79f-8cfd-4f9c-ac7d-e7bb14d15c05",
   "metadata": {},
   "outputs": [
    {
     "data": {
      "application/vnd.jupyter.widget-view+json": {
       "model_id": "16be2a0a91584029b5b04f7bd83fef96",
       "version_major": 2,
       "version_minor": 0
      },
      "text/plain": [
       "Viewer(camera_far=2800.0, camera_near=20.0, camera_pitch=-18.0, camera_pos=[-370, 280, 350], camera_yaw=-45.0,…"
      ]
     },
     "execution_count": 5,
     "metadata": {},
     "output_type": "execute_result"
    }
   ],
   "source": [
    "xforms = np.eye(4, dtype=np.float32)[np.newaxis, ...].repeat(3, axis=0)\n",
    "xforms[0, :3, 3] = [100, 50, 0]\n",
    "xforms[1, :3, 3] = [-100, 50, 0]\n",
    "xforms[2, :3, 3] = [-250, 50, 0]\n",
    "\n",
    "viewer.begin_shadow()\n",
    "viewer.draw(rigid, xforms)\n",
    "viewer.end_shadow()\n",
    "\n",
    "viewer.begin_display()\n",
    "viewer.draw_ground()\n",
    "viewer.draw(rigid, xforms)\n",
    "viewer.end_display()\n",
    "\n",
    "viewer.execute_commands()\n",
    "viewer"
   ]
  },
  {
   "cell_type": "markdown",
   "id": "92c9c3fc-d803-46e1-9316-82e03e9ecac5",
   "metadata": {},
   "source": [
    "## Update the internal transform\n",
    "\n",
    "The set_xform will store the matrix inside of the asset to be used as the default matrix."
   ]
  },
  {
   "cell_type": "code",
   "execution_count": 6,
   "id": "53e6aa00-fe69-4c2d-bdbb-4b95e5dee2e5",
   "metadata": {},
   "outputs": [
    {
     "data": {
      "application/vnd.jupyter.widget-view+json": {
       "model_id": "16be2a0a91584029b5b04f7bd83fef96",
       "version_major": 2,
       "version_minor": 0
      },
      "text/plain": [
       "Viewer(camera_far=2800.0, camera_near=20.0, camera_pitch=-18.0, camera_pos=[-370, 280, 350], camera_yaw=-45.0,…"
      ]
     },
     "execution_count": 6,
     "metadata": {},
     "output_type": "execute_result"
    }
   ],
   "source": [
    "xform = np.eye(4, dtype=np.float32)\n",
    "xform[:3, 3] = [150, 0, 0]\n",
    "rigid.set_xform(xform)\n",
    "\n",
    "viewer.begin_shadow()\n",
    "viewer.draw(rigid)\n",
    "viewer.end_shadow()\n",
    "\n",
    "viewer.begin_display()\n",
    "viewer.draw_ground()\n",
    "viewer.draw(rigid)\n",
    "viewer.end_display()\n",
    "\n",
    "viewer.execute_commands()\n",
    "viewer"
   ]
  },
  {
   "cell_type": "markdown",
   "id": "d7dce105-f46e-4afb-8ccb-702119be4e9a",
   "metadata": {},
   "source": [
    "## Reset the internal transform\n",
    "\n",
    "the reset method on the asset will reset the transform as the identity."
   ]
  },
  {
   "cell_type": "code",
   "execution_count": 7,
   "id": "c28cd7bc-aa0c-47e4-a3dd-179abb56868a",
   "metadata": {},
   "outputs": [
    {
     "data": {
      "application/vnd.jupyter.widget-view+json": {
       "model_id": "16be2a0a91584029b5b04f7bd83fef96",
       "version_major": 2,
       "version_minor": 0
      },
      "text/plain": [
       "Viewer(camera_far=2800.0, camera_near=20.0, camera_pitch=-18.0, camera_pos=[-370, 280, 350], camera_yaw=-45.0,…"
      ]
     },
     "execution_count": 7,
     "metadata": {},
     "output_type": "execute_result"
    }
   ],
   "source": [
    "rigid.reset()\n",
    "\n",
    "viewer.begin_shadow()\n",
    "viewer.draw(rigid)\n",
    "viewer.end_shadow()\n",
    "\n",
    "viewer.begin_display()\n",
    "viewer.draw_ground()\n",
    "viewer.draw(rigid)\n",
    "viewer.end_display()\n",
    "\n",
    "viewer.execute_commands()\n",
    "viewer"
   ]
  }
 ],
 "metadata": {
  "kernelspec": {
   "display_name": "Python 3 (ipykernel)",
   "language": "python",
   "name": "python3"
  },
  "language_info": {
   "codemirror_mode": {
    "name": "ipython",
    "version": 3
   },
   "file_extension": ".py",
   "mimetype": "text/x-python",
   "name": "python",
   "nbconvert_exporter": "python",
   "pygments_lexer": "ipython3",
   "version": "3.10.10"
  }
 },
 "nbformat": 4,
 "nbformat_minor": 5
}
