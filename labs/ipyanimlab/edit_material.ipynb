{
 "cells": [
  {
   "cell_type": "markdown",
   "id": "dbe0b776-f8e6-43f8-bd3e-aee5899c70ea",
   "metadata": {},
   "source": [
    "# Change the material properties\n",
    "\n",
    "materials are PBR you can update albedo, roughness, metallic, reflectance and emissive parameters"
   ]
  },
  {
   "cell_type": "code",
   "execution_count": 1,
   "id": "b358fcf0-698b-4400-a17e-33236953a29a",
   "metadata": {},
   "outputs": [],
   "source": [
    "import numpy as np\n",
    "from ipywidgets import widgets, interact, interactive\n",
    "\n",
    "import ipyanimlab as lab\n",
    "viewer = lab.Viewer(shadow_quality=lab.ShadowQuality.HIGH, move_speed=5, width=800, height=600)"
   ]
  },
  {
   "cell_type": "markdown",
   "id": "8307273f-6e4c-4b47-97ea-5c0586551472",
   "metadata": {},
   "source": [
    "## Load the USD Asset\n",
    "As static asset the ShaderBall is accessible directly from internal resources"
   ]
  },
  {
   "cell_type": "code",
   "execution_count": 2,
   "id": "ff157a10-0f0b-4cd8-8c2c-64b0224ffdfe",
   "metadata": {},
   "outputs": [],
   "source": [
    "asset = viewer.import_usd_asset('ShaderBall')"
   ]
  },
  {
   "cell_type": "markdown",
   "id": "6493fd6d-e9de-4657-85f9-1df891f021b2",
   "metadata": {},
   "source": [
    "## Get the list of materials of an asset"
   ]
  },
  {
   "cell_type": "code",
   "execution_count": 3,
   "id": "5f5ac40c-2ed7-444e-94cf-750f180a2504",
   "metadata": {},
   "outputs": [
    {
     "data": {
      "text/plain": [
       "['/ShaderBall/mtl/BallMaterial', '/ShaderBall/mtl/BaseMaterial']"
      ]
     },
     "execution_count": 3,
     "metadata": {},
     "output_type": "execute_result"
    }
   ],
   "source": [
    "asset.material_names()"
   ]
  },
  {
   "cell_type": "code",
   "execution_count": 4,
   "id": "d71d6991-198f-4878-85dd-44233e4231bf",
   "metadata": {},
   "outputs": [
    {
     "data": {
      "text/plain": [
       "<ipyanimlab.render.material.Material at 0x21439166860>"
      ]
     },
     "execution_count": 4,
     "metadata": {},
     "output_type": "execute_result"
    }
   ],
   "source": [
    "material = asset.material('/ShaderBall/mtl/BallMaterial')\n",
    "material"
   ]
  },
  {
   "cell_type": "markdown",
   "id": "1ddb4e0e-82cd-483f-a88e-2eb7d3b2cd03",
   "metadata": {},
   "source": [
    "## Play with the material"
   ]
  },
  {
   "cell_type": "code",
   "execution_count": 9,
   "id": "b97e0156-2725-4829-a37e-bf97b9b16c9f",
   "metadata": {},
   "outputs": [
    {
     "data": {
      "application/vnd.jupyter.widget-view+json": {
       "model_id": "4bbcb8a807d645ae8cb204d786bbe04f",
       "version_major": 2,
       "version_minor": 0
      },
      "text/plain": [
       "interactive(children=(FloatSlider(value=1.0, description='albedo_red', max=1.0), FloatSlider(value=1.0, descri…"
      ]
     },
     "metadata": {},
     "output_type": "display_data"
    },
    {
     "data": {
      "application/vnd.jupyter.widget-view+json": {
       "model_id": "c38611d2a91c4b7699b7ad67cdd8d9c0",
       "version_major": 2,
       "version_minor": 0
      },
      "text/plain": [
       "Viewer(camera_far=2800.0, camera_near=20.0, camera_pitch=-23.399999999999995, camera_pos=[-157.66454165213517,…"
      ]
     },
     "execution_count": 9,
     "metadata": {},
     "output_type": "execute_result"
    }
   ],
   "source": [
    "def render(albedo_red, albedo_green, albedo_blue, roughness, metallic, reflectance, emissive):\n",
    "\n",
    "    # update material\n",
    "    material.set_albedo(np.array([albedo_red, albedo_green, albedo_blue], dtype=np.float32))\n",
    "    material.set_roughness(roughness)\n",
    "    material.set_metallic(metallic)\n",
    "    material.set_reflectance(reflectance)\n",
    "    material.set_emissive(emissive)\n",
    "    \n",
    "    # start the rendering of the shadow\n",
    "    viewer.begin_shadow()\n",
    "    # render the asset at default position in the shadow\n",
    "    viewer.draw(asset)\n",
    "    # end the shadow\n",
    "    viewer.end_shadow()\n",
    "    \n",
    "    # start the rendering of the scene\n",
    "    viewer.begin_display()\n",
    "    # render the default ground\n",
    "    viewer.draw_ground()\n",
    "    # render the asset at default position\n",
    "    viewer.draw(asset)\n",
    "    # display the image\n",
    "    viewer.end_display()\n",
    "    \n",
    "    # send all the command to webgl\n",
    "    viewer.execute_commands()\n",
    "\n",
    "interact(\n",
    "    render,\n",
    "    albedo_red = widgets.FloatSlider(min=0, max=1, value=1),\n",
    "    albedo_green = widgets.FloatSlider(min=0, max=1, value=1),\n",
    "    albedo_blue = widgets.FloatSlider(min=0, max=1, value=1),\n",
    "    roughness = widgets.FloatSlider(min=0, max=1, value=0, step=0.01),\n",
    "    metallic = widgets.FloatSlider(min=0, max=1, value=0, step=0.01),\n",
    "    reflectance = widgets.FloatSlider(min=0, max=1, value=0, step=0.01),\n",
    "    emissive = widgets.FloatSlider(min=0, max=1, value=0, step=0.01)\n",
    ")\n",
    "\n",
    "# show the viewer\n",
    "viewer"
   ]
  }
 ],
 "metadata": {
  "kernelspec": {
   "display_name": "Python 3 (ipykernel)",
   "language": "python",
   "name": "python3"
  },
  "language_info": {
   "codemirror_mode": {
    "name": "ipython",
    "version": 3
   },
   "file_extension": ".py",
   "mimetype": "text/x-python",
   "name": "python",
   "nbconvert_exporter": "python",
   "pygments_lexer": "ipython3",
   "version": "3.10.10"
  }
 },
 "nbformat": 4,
 "nbformat_minor": 5
}
