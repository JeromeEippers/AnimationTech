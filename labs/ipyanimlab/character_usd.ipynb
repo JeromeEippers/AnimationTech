{
 "cells": [
  {
   "cell_type": "markdown",
   "id": "a1969611-f37c-49b3-b4e4-cbf5267d08d9",
   "metadata": {},
   "source": [
    "# Load a character\n",
    "\n",
    "Load a skinned mesh using USD and animate it"
   ]
  },
  {
   "cell_type": "code",
   "execution_count": 1,
   "id": "ff011c6d-2f7a-4aa2-b220-848020803dca",
   "metadata": {},
   "outputs": [],
   "source": [
    "import numpy as np\n",
    "from ipywidgets import widgets, interact, interactive\n",
    "\n",
    "import ipyanimlab as lab\n",
    "viewer = lab.Viewer(shadow_quality=lab.ShadowQuality.HIGH, move_speed=5, width=800, height=600)"
   ]
  },
  {
   "cell_type": "markdown",
   "id": "e2f6867e-9ea6-482a-ad88-f3c974e3f7e7",
   "metadata": {},
   "source": [
    "## Load the USD Asset\n",
    "the default skinned character is accessible directly from internal resources"
   ]
  },
  {
   "cell_type": "code",
   "execution_count": 2,
   "id": "b318af98-757e-4a9b-92ed-337e980b6ab7",
   "metadata": {},
   "outputs": [],
   "source": [
    "character = viewer.import_usd_asset('AnimLabSimpleMale.usd')"
   ]
  },
  {
   "cell_type": "code",
   "execution_count": 3,
   "id": "67dec0df-485c-4158-93de-e7ccca968c99",
   "metadata": {},
   "outputs": [
    {
     "data": {
      "text/plain": [
       "['Root',\n",
       " 'Hips',\n",
       " 'Spine',\n",
       " 'Spine1',\n",
       " 'Spine2',\n",
       " 'Neck',\n",
       " 'Head',\n",
       " 'LeftShoulder',\n",
       " 'LeftArm',\n",
       " 'LeftForeArm',\n",
       " 'LeftHand',\n",
       " 'RightShoulder',\n",
       " 'RightArm',\n",
       " 'RightForeArm',\n",
       " 'RightHand',\n",
       " 'LeftUpLeg',\n",
       " 'LeftLeg',\n",
       " 'LeftFoot',\n",
       " 'LeftToe',\n",
       " 'RightUpLeg',\n",
       " 'RightLeg',\n",
       " 'RightFoot',\n",
       " 'RightToe']"
      ]
     },
     "execution_count": 3,
     "metadata": {},
     "output_type": "execute_result"
    }
   ],
   "source": [
    "character.bone_names()"
   ]
  },
  {
   "cell_type": "markdown",
   "id": "c2deb5d5-c554-4eff-8d6c-dcb7e02890f7",
   "metadata": {},
   "source": [
    "## Render the character in tpose\n",
    "\n",
    "by calling the draw command without any matrices, we will render it with the default bindpose"
   ]
  },
  {
   "cell_type": "code",
   "execution_count": 4,
   "id": "f43ddab3-bf45-4711-89c1-cf50b3aff0f4",
   "metadata": {},
   "outputs": [
    {
     "data": {
      "application/vnd.jupyter.widget-view+json": {
       "model_id": "5d2b58a71bd74c90a2ac946bed83450f",
       "version_major": 2,
       "version_minor": 0
      },
      "text/plain": [
       "Viewer(camera_far=2800.0, camera_near=20.0, camera_pitch=-18.0, camera_pos=[-370, 280, 350], camera_yaw=-45.0,…"
      ]
     },
     "execution_count": 4,
     "metadata": {},
     "output_type": "execute_result"
    }
   ],
   "source": [
    "viewer.begin_shadow()\n",
    "# draw the character with bindpose\n",
    "viewer.draw(character)\n",
    "viewer.end_shadow()\n",
    "\n",
    "viewer.begin_display()\n",
    "# draw the default ground\n",
    "viewer.draw_ground()\n",
    "# draw the character with bindpose\n",
    "viewer.draw(character)\n",
    "viewer.end_display()\n",
    "\n",
    "# disable DEPTH_TEST so we can draw on top of the scene\n",
    "viewer.disable(depth_test=True)\n",
    "\n",
    "# draw XYZ axis for each bone of the character\n",
    "viewer.draw_axis(character.world_skeleton_xforms(), 5)\n",
    "# draw black lines between each joints\n",
    "viewer.draw_lines(character.world_skeleton_lines())\n",
    "\n",
    "viewer.execute_commands()\n",
    "viewer"
   ]
  },
  {
   "cell_type": "markdown",
   "id": "eaa860fa-726a-482d-ba12-60e59dfe9916",
   "metadata": {},
   "source": [
    "## Render and update some bones"
   ]
  },
  {
   "cell_type": "code",
   "execution_count": 5,
   "id": "b4efa33e-5417-4d0e-979c-d4bdb1f4083f",
   "metadata": {},
   "outputs": [
    {
     "data": {
      "application/vnd.jupyter.widget-view+json": {
       "model_id": "5d2b58a71bd74c90a2ac946bed83450f",
       "version_major": 2,
       "version_minor": 0
      },
      "text/plain": [
       "Viewer(camera_far=2800.0, camera_near=20.0, camera_pitch=-18.0, camera_pos=[-370, 280, 350], camera_yaw=-45.0,…"
      ]
     },
     "execution_count": 5,
     "metadata": {},
     "output_type": "execute_result"
    }
   ],
   "source": [
    "xforms = np.eye(4, dtype=np.float32)[np.newaxis, ...].repeat(2, axis=0)\n",
    "xforms[0, :3, 3] = [10, -10, 20]\n",
    "xforms[1, :3, 3] = [10, -10, -20]\n",
    "\n",
    "viewer.begin_shadow()\n",
    "# passing a few matrices to the draw command, with the names of the bones for which we have given the matrices\n",
    "viewer.draw(character, xforms, ['LeftArm', 'RightArm'])\n",
    "viewer.end_shadow()\n",
    "\n",
    "viewer.begin_display()\n",
    "viewer.draw_ground()\n",
    "# passing a few matrices to the draw command, with the names of the bones for which we have given the matrices\n",
    "viewer.draw(character, xforms, ['LeftArm', 'RightArm'])\n",
    "viewer.end_display()\n",
    "\n",
    "viewer.disable(depth_test=True)\n",
    "\n",
    "# passing a few matrices to the draw command, with the names of the bones for which we have given the matrices\n",
    "viewer.draw_axis(character.world_skeleton_xforms(xforms, ['LeftArm', 'RightArm']), 5)\n",
    "# passing a few matrices to the draw command, with the names of the bones for which we have given the matrices\n",
    "viewer.draw_lines(character.world_skeleton_lines(xforms, ['LeftArm', 'RightArm']))\n",
    "\n",
    "viewer.execute_commands()\n",
    "viewer"
   ]
  },
  {
   "cell_type": "markdown",
   "id": "52d2ffff-7ac1-4d53-8943-24c43ad3d7ff",
   "metadata": {},
   "source": [
    "## Load an animation.\n",
    "We will load an animation saved as usd stage."
   ]
  },
  {
   "cell_type": "code",
   "execution_count": 8,
   "id": "20cff498-cb36-4c22-be7f-1cc64331656e",
   "metadata": {},
   "outputs": [],
   "source": [
    "anim = lab.import_usd_animation('example_animation.usd')"
   ]
  },
  {
   "cell_type": "code",
   "execution_count": 10,
   "id": "2cc25f8f-32e0-4dd0-94ff-d70f8c0e3a54",
   "metadata": {},
   "outputs": [
    {
     "data": {
      "application/vnd.jupyter.widget-view+json": {
       "model_id": "42d4d2ed053f4f8b8123c61156d1ea23",
       "version_major": 2,
       "version_minor": 0
      },
      "text/plain": [
       "interactive(children=(Timeline(value=0, children=(Play(value=0, description='play', interval=33, layout=Layout…"
      ]
     },
     "metadata": {},
     "output_type": "display_data"
    },
    {
     "data": {
      "application/vnd.jupyter.widget-view+json": {
       "model_id": "5d2b58a71bd74c90a2ac946bed83450f",
       "version_major": 2,
       "version_minor": 0
      },
      "text/plain": [
       "Viewer(camera_far=2800.0, camera_near=20.0, camera_pitch=-18.0, camera_pos=[-370, 280, 350], camera_yaw=-45.0,…"
      ]
     },
     "execution_count": 10,
     "metadata": {},
     "output_type": "execute_result"
    }
   ],
   "source": [
    "def render(frame):\n",
    "    \n",
    "    p = (anim.pos[frame,...])\n",
    "    q = (anim.quats[frame,...])\n",
    "        \n",
    "    a = lab.utils.quat_to_mat(q, p)\n",
    "    viewer.set_shadow_poi(p[0])\n",
    "    \n",
    "    viewer.begin_shadow()\n",
    "    # render giving the computed pose this frame, and the bones names from the animation\n",
    "    viewer.draw(character, a, anim.bones)\n",
    "    viewer.end_shadow()\n",
    "    \n",
    "    viewer.begin_display()\n",
    "    viewer.draw_ground()\n",
    "    # render giving the computed pose this frame, and the bones names from the animation\n",
    "    viewer.draw(character, a, anim.bones)\n",
    "    viewer.end_display()\n",
    "\n",
    "    viewer.disable(depth_test=True)\n",
    "\n",
    "    # render giving the computed pose this frame, and the bones names from the animation\n",
    "    viewer.draw_axis(character.world_skeleton_xforms(a, anim.bones), 5)\n",
    "    # render giving the computed pose this frame, and the bones names from the animation\n",
    "    viewer.draw_lines(character.world_skeleton_lines(a, anim.bones))\n",
    "    \n",
    "    viewer.execute_commands()\n",
    "    \n",
    "interact(\n",
    "    render, \n",
    "    frame=lab.Timeline(max=anim.quats.shape[0]-1)\n",
    ")\n",
    "viewer"
   ]
  }
 ],
 "metadata": {
  "kernelspec": {
   "display_name": "Python 3 (ipykernel)",
   "language": "python",
   "name": "python3"
  },
  "language_info": {
   "codemirror_mode": {
    "name": "ipython",
    "version": 3
   },
   "file_extension": ".py",
   "mimetype": "text/x-python",
   "name": "python",
   "nbconvert_exporter": "python",
   "pygments_lexer": "ipython3",
   "version": "3.10.10"
  }
 },
 "nbformat": 4,
 "nbformat_minor": 5
}
