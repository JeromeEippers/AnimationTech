{
 "cells": [
  {
   "cell_type": "markdown",
   "id": "b9e344d4-d0ce-4f08-a0bb-0812d411c2db",
   "metadata": {},
   "source": [
    "# Simple example of rigid asset.\n",
    "\n",
    "We will create a sphere progammatically and render it several times.\n",
    "\n",
    "* ipyanimlab is working in cm.\n",
    "* ipyanimlab uses only np.float32 type to send data\n",
    "* ipyanimlab is column major for its matrices\n",
    "\n",
    "  "
   ]
  },
  {
   "cell_type": "code",
   "execution_count": 1,
   "id": "ae144147-a439-48d0-92ab-bc3538b5fa0c",
   "metadata": {},
   "outputs": [],
   "source": [
    "import numpy as np\n",
    "from ipywidgets import widgets, interact, interactive\n",
    "\n",
    "import ipyanimlab as lab\n",
    "viewer = lab.Viewer(shadow_quality=lab.ShadowQuality.HIGH, move_speed=5, width=800, height=600)"
   ]
  },
  {
   "cell_type": "markdown",
   "id": "306890d0-cf00-42be-83f3-3d4437609c19",
   "metadata": {},
   "source": [
    "## Create a single sphere asset"
   ]
  },
  {
   "cell_type": "code",
   "execution_count": 2,
   "id": "19970662-b7ae-46d0-bb21-612ad86471a8",
   "metadata": {},
   "outputs": [],
   "source": [
    "sphere = viewer.create_sphere(radius=10)"
   ]
  },
  {
   "cell_type": "markdown",
   "id": "1510e1ce-7a7d-4858-a2ce-00f0299d6a63",
   "metadata": {},
   "source": [
    "## Display the asset at the default position"
   ]
  },
  {
   "cell_type": "code",
   "execution_count": 3,
   "id": "4c2c4af4-26b8-4138-8ed3-98ca4426cbaf",
   "metadata": {},
   "outputs": [
    {
     "data": {
      "application/vnd.jupyter.widget-view+json": {
       "model_id": "1e01f59f9b1444a0b62496773c6c805a",
       "version_major": 2,
       "version_minor": 0
      },
      "text/plain": [
       "Viewer(camera_far=2800.0, camera_near=20.0, camera_pitch=-18.0, camera_pos=[-370, 280, 350], camera_yaw=-45.0,…"
      ]
     },
     "execution_count": 3,
     "metadata": {},
     "output_type": "execute_result"
    }
   ],
   "source": [
    "# start the rendering of the shadow\n",
    "viewer.begin_shadow()\n",
    "# render the sphere at default position in the shadow\n",
    "viewer.draw(sphere)\n",
    "# end the shadow\n",
    "viewer.end_shadow()\n",
    "\n",
    "# start the rendering of the scene\n",
    "viewer.begin_display()\n",
    "# render the default ground\n",
    "viewer.draw_ground()\n",
    "# render the sphere at default position\n",
    "viewer.draw(sphere)\n",
    "# display the image\n",
    "viewer.end_display()\n",
    "\n",
    "# send all the command to webgl\n",
    "viewer.execute_commands()\n",
    "\n",
    "# show the viewer\n",
    "viewer"
   ]
  },
  {
   "cell_type": "markdown",
   "id": "b53f1b1a-cbdb-4a35-b1b0-81abcdd5e180",
   "metadata": {},
   "source": [
    "## Render multiple assets.\n",
    "\n",
    "By providing multiple matrices to the draw command we can do a batch rendering of the asset."
   ]
  },
  {
   "cell_type": "code",
   "execution_count": 5,
   "id": "8524681d-cbdf-4688-a1ac-81ab090ae6b3",
   "metadata": {},
   "outputs": [
    {
     "data": {
      "application/vnd.jupyter.widget-view+json": {
       "model_id": "1e01f59f9b1444a0b62496773c6c805a",
       "version_major": 2,
       "version_minor": 0
      },
      "text/plain": [
       "Viewer(camera_far=2800.0, camera_near=20.0, camera_pitch=-26.40000000000001, camera_pos=[-226.33982316134345, …"
      ]
     },
     "execution_count": 5,
     "metadata": {},
     "output_type": "execute_result"
    }
   ],
   "source": [
    "xforms = np.eye(4, dtype=np.float32)[np.newaxis, ...].repeat(3, axis=0)\n",
    "xforms[0, :3, 3] = [100, 50, 0]\n",
    "xforms[1, :3, 3] = [0, 50, 0]\n",
    "xforms[2, :3, 3] = [-100, 50, 0]\n",
    "\n",
    "viewer.begin_shadow()\n",
    "# drawing by providing the matrices for transforms\n",
    "viewer.draw(sphere, xforms)\n",
    "viewer.end_shadow()\n",
    "\n",
    "viewer.begin_display()\n",
    "viewer.draw_ground()\n",
    "# drawing by providing the matrices for transforms\n",
    "viewer.draw(sphere, xforms)\n",
    "viewer.end_display()\n",
    "\n",
    "viewer.execute_commands()\n",
    "viewer"
   ]
  }
 ],
 "metadata": {
  "kernelspec": {
   "display_name": "Python 3 (ipykernel)",
   "language": "python",
   "name": "python3"
  },
  "language_info": {
   "codemirror_mode": {
    "name": "ipython",
    "version": 3
   },
   "file_extension": ".py",
   "mimetype": "text/x-python",
   "name": "python",
   "nbconvert_exporter": "python",
   "pygments_lexer": "ipython3",
   "version": "3.10.10"
  }
 },
 "nbformat": 4,
 "nbformat_minor": 5
}
