{
 "cells": [
  {
   "cell_type": "markdown",
   "id": "fdca6e87-71df-4c5f-b509-f791c395e918",
   "metadata": {},
   "source": [
    "# Working with multiple characters\n",
    "\n",
    "We will see how to duplicate the character, update their colors and move them in the scene"
   ]
  },
  {
   "cell_type": "code",
   "execution_count": 1,
   "id": "7b1d3c5c-a20c-4cc6-a48e-c9d08d3222f3",
   "metadata": {},
   "outputs": [],
   "source": [
    "import numpy as np\n",
    "from ipywidgets import widgets, interact, interactive\n",
    "\n",
    "import ipyanimlab as lab\n",
    "viewer = lab.Viewer(shadow_quality=lab.ShadowQuality.HIGH, move_speed=5, width=1200, height=720)"
   ]
  },
  {
   "cell_type": "markdown",
   "id": "87d1432a-7cec-4ad2-838a-aad4a302be83",
   "metadata": {},
   "source": [
    "## Load the USD Asset\n",
    "the default skinned character is accessible directly from internal resources"
   ]
  },
  {
   "cell_type": "code",
   "execution_count": 2,
   "id": "dbfba409-0c04-42a6-b842-ca65e20de0a1",
   "metadata": {},
   "outputs": [],
   "source": [
    "character_a = viewer.import_usd_asset('AnimLabSimpleMale.usd')"
   ]
  },
  {
   "cell_type": "markdown",
   "id": "b794925d-e0a7-43b8-8d58-b838d3105e46",
   "metadata": {},
   "source": [
    "## Duplicate the asset\n",
    "\n",
    "So we do not duplicate the GPU memory for the meshes"
   ]
  },
  {
   "cell_type": "code",
   "execution_count": 3,
   "id": "a3e48dda-4b15-4a9b-ad36-ae4c0a640544",
   "metadata": {},
   "outputs": [],
   "source": [
    "character_b = character_a.duplicate()\n",
    "character_c = character_a.duplicate()"
   ]
  },
  {
   "cell_type": "code",
   "execution_count": 4,
   "id": "62c6d149-e6aa-4d59-a187-7da737b0d7d7",
   "metadata": {},
   "outputs": [
    {
     "data": {
      "text/plain": [
       "['/AnimLabSimpleMale/mtl/SuitMaterial',\n",
       " '/AnimLabSimpleMale/mtl/ShirtMaterial',\n",
       " '/AnimLabSimpleMale/mtl/LeatherMaterial',\n",
       " '/AnimLabSimpleMale/mtl/ShoeMaterial',\n",
       " '/AnimLabSimpleMale/mtl/SkinMaterial']"
      ]
     },
     "execution_count": 4,
     "metadata": {},
     "output_type": "execute_result"
    }
   ],
   "source": [
    "character_a.material_names()"
   ]
  },
  {
   "cell_type": "markdown",
   "id": "94ef2d66-41a2-45af-b1b1-67ee3b264705",
   "metadata": {},
   "source": [
    "## Update materials\n",
    "\n",
    "So we can easily find the different characters"
   ]
  },
  {
   "cell_type": "code",
   "execution_count": 5,
   "id": "6dee9555-b69c-43d0-aedf-afdb333405af",
   "metadata": {},
   "outputs": [],
   "source": [
    "character_b.material('/AnimLabSimpleMale/mtl/SuitMaterial').set_albedo(np.array([0.5,1.0,0.5], dtype=np.float32))\n",
    "character_c.material('/AnimLabSimpleMale/mtl/SuitMaterial').set_albedo(np.array([0.5,0.5,1.0], dtype=np.float32))"
   ]
  },
  {
   "cell_type": "markdown",
   "id": "4dd00ff4-a6fc-4b89-ba97-e0bab6e95664",
   "metadata": {},
   "source": [
    "## Update the character transforms\n",
    "\n",
    "We will move the different characters in the scene, so even if we render the same animation on each, they will be placed next to each others"
   ]
  },
  {
   "cell_type": "code",
   "execution_count": 9,
   "id": "7a0b6156-dabb-4a77-a066-f350c9a8ca58",
   "metadata": {},
   "outputs": [],
   "source": [
    "xform = np.eye(4, dtype=np.float32)\n",
    "xform[:3, 3] = [-100, 0, 0]\n",
    "character_b.set_xform(xform)\n",
    "\n",
    "xform[:3, 3] = [100, 0, 0]\n",
    "character_c.set_xform(xform)"
   ]
  },
  {
   "cell_type": "markdown",
   "id": "082d1c9c-4856-4cb7-8533-caea562bb02a",
   "metadata": {},
   "source": [
    "## Load the animation\n",
    "\n",
    "we use the bvh animation with a mapper so we can render it easily"
   ]
  },
  {
   "cell_type": "code",
   "execution_count": 7,
   "id": "ac12b8eb-fcb7-4964-90de-efd3acfd65bc",
   "metadata": {},
   "outputs": [],
   "source": [
    "animmap = lab.AnimMapper(character_a, root_motion=True, match_effectors=True)\n",
    "anim = lab.import_bvh('push1_subject2.bvh', anim_mapper=animmap)"
   ]
  },
  {
   "cell_type": "markdown",
   "id": "8915ce34-87ba-415f-8a9e-ff91a0413c6b",
   "metadata": {},
   "source": [
    "## Render\n",
    "\n",
    "we render the 3 characters exactly with the same animation here"
   ]
  },
  {
   "cell_type": "code",
   "execution_count": 8,
   "id": "d39b1bc1-d6f5-4869-83f2-627d04b218fe",
   "metadata": {},
   "outputs": [
    {
     "data": {
      "application/vnd.jupyter.widget-view+json": {
       "model_id": "1f0e7b10e3ef443c802b316d1702abbe",
       "version_major": 2,
       "version_minor": 0
      },
      "text/plain": [
       "interactive(children=(Timeline(value=0, children=(Play(value=0, description='play', interval=33, layout=Layout…"
      ]
     },
     "metadata": {},
     "output_type": "display_data"
    },
    {
     "data": {
      "application/vnd.jupyter.widget-view+json": {
       "model_id": "b3afee976def4a72a969e0756be98574",
       "version_major": 2,
       "version_minor": 0
      },
      "text/plain": [
       "Viewer(camera_far=2800.0, camera_near=20.0, camera_pitch=-18.0, camera_pos=[-370, 280, 350], camera_yaw=-45.0,…"
      ]
     },
     "execution_count": 8,
     "metadata": {},
     "output_type": "execute_result"
    }
   ],
   "source": [
    "def render(frame):\n",
    "    \n",
    "    p = (anim.pos[frame,...])\n",
    "    q = (anim.quats[frame,...]) \n",
    "    a = lab.utils.quat_to_mat(q, p)\n",
    "    \n",
    "    viewer.begin_shadow()\n",
    "    viewer.draw(character_a, a)\n",
    "    viewer.draw(character_b, a)\n",
    "    viewer.draw(character_c, a)\n",
    "    viewer.end_shadow()\n",
    "    \n",
    "    viewer.begin_display()\n",
    "    viewer.draw_ground()\n",
    "    viewer.draw(character_a, a)\n",
    "    viewer.draw(character_b, a)\n",
    "    viewer.draw(character_c, a)\n",
    "    viewer.end_display()\n",
    "    \n",
    "    viewer.execute_commands()\n",
    "    \n",
    "interact(\n",
    "    render, \n",
    "    frame=lab.Timeline(max=anim.quats.shape[0]-1)\n",
    ")\n",
    "viewer"
   ]
  }
 ],
 "metadata": {
  "kernelspec": {
   "display_name": "Python 3 (ipykernel)",
   "language": "python",
   "name": "python3"
  },
  "language_info": {
   "codemirror_mode": {
    "name": "ipython",
    "version": 3
   },
   "file_extension": ".py",
   "mimetype": "text/x-python",
   "name": "python",
   "nbconvert_exporter": "python",
   "pygments_lexer": "ipython3",
   "version": "3.10.10"
  }
 },
 "nbformat": 4,
 "nbformat_minor": 5
}
