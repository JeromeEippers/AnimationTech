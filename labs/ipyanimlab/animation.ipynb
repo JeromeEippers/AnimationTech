{
 "cells": [
  {
   "cell_type": "markdown",
   "id": "4e3805ac-2aea-4474-9090-df94f8847408",
   "metadata": {},
   "source": [
    "# Loading an Animation\n",
    "\n",
    "And remapping the animation to the character"
   ]
  },
  {
   "cell_type": "code",
   "execution_count": 1,
   "id": "a3c81776-481a-49cc-8067-33daa597d4e2",
   "metadata": {},
   "outputs": [],
   "source": [
    "import numpy as np\n",
    "from ipywidgets import widgets, interact, interactive\n",
    "\n",
    "import ipyanimlab as lab\n",
    "viewer = lab.Viewer(shadow_quality=lab.ShadowQuality.HIGH, move_speed=5, width=800, height=600)"
   ]
  },
  {
   "cell_type": "markdown",
   "id": "665120e3-8384-4f4d-85ab-e695c475553d",
   "metadata": {},
   "source": [
    "## Load the USD Asset\n",
    "the default skinned character is accessible directly from internal resources"
   ]
  },
  {
   "cell_type": "code",
   "execution_count": 2,
   "id": "ea733da0-a3bc-405f-8173-bb5b7b93c107",
   "metadata": {},
   "outputs": [],
   "source": [
    "character = viewer.import_usd_asset('AnimLabSimpleMale.usd')"
   ]
  },
  {
   "cell_type": "markdown",
   "id": "54124002-3722-41ec-a8a8-8d6428c90e0d",
   "metadata": {},
   "source": [
    "## Load a BVH animation\n",
    "\n",
    "By default the skeleton from the animation does not match the loaded asset.  \n",
    "We can see that the character change shapes when playing the animation back."
   ]
  },
  {
   "cell_type": "code",
   "execution_count": 3,
   "id": "c3c48b22-b1a2-4834-ba07-111e9082fff0",
   "metadata": {},
   "outputs": [],
   "source": [
    "anim = lab.import_bvh('push1_subject2.bvh')"
   ]
  },
  {
   "cell_type": "code",
   "execution_count": 4,
   "id": "3ef3f515-d573-4ad2-b7e7-e5a379220e93",
   "metadata": {},
   "outputs": [
    {
     "data": {
      "application/vnd.jupyter.widget-view+json": {
       "model_id": "68406cacfe59475facbb3f6aff37c919",
       "version_major": 2,
       "version_minor": 0
      },
      "text/plain": [
       "interactive(children=(Timeline(value=0, children=(Play(value=0, description='play', interval=33, layout=Layout…"
      ]
     },
     "metadata": {},
     "output_type": "display_data"
    },
    {
     "data": {
      "application/vnd.jupyter.widget-view+json": {
       "model_id": "2dfb9cfbaeb3494cb4d6e1e4dff3d0b2",
       "version_major": 2,
       "version_minor": 0
      },
      "text/plain": [
       "Viewer(camera_far=2800.0, camera_near=20.0, camera_pitch=-18.0, camera_pos=[-370, 280, 350], camera_yaw=-45.0,…"
      ]
     },
     "execution_count": 4,
     "metadata": {},
     "output_type": "execute_result"
    }
   ],
   "source": [
    "def render(frame):\n",
    "    \n",
    "    p = (anim.pos[frame,...])\n",
    "    q = (anim.quats[frame,...])\n",
    "        \n",
    "    a = lab.utils.quat_to_mat(q, p)\n",
    "    viewer.set_shadow_poi(p[0])\n",
    "    \n",
    "    viewer.begin_shadow()\n",
    "    # render giving the computed pose this frame, and the bones names from the animation\n",
    "    viewer.draw(character, a, anim.bones)\n",
    "    viewer.end_shadow()\n",
    "    \n",
    "    viewer.begin_display()\n",
    "    viewer.draw_ground()\n",
    "    # render giving the computed pose this frame, and the bones names from the animation\n",
    "    viewer.draw(character, a, anim.bones)\n",
    "    viewer.end_display()\n",
    "\n",
    "    viewer.disable(depth_test=True)\n",
    "\n",
    "    # render giving the computed pose this frame, and the bones names from the animation\n",
    "    viewer.draw_axis(character.world_skeleton_xforms(a, anim.bones), 5)\n",
    "    # render giving the computed pose this frame, and the bones names from the animation\n",
    "    viewer.draw_lines(character.world_skeleton_lines(a, anim.bones))\n",
    "    \n",
    "    viewer.execute_commands()\n",
    "    \n",
    "interact(\n",
    "    render, \n",
    "    frame=lab.Timeline(max=anim.quats.shape[0]-1)\n",
    ")\n",
    "viewer"
   ]
  },
  {
   "cell_type": "markdown",
   "id": "590875b2-e629-4a16-b2ec-23b4d58be307",
   "metadata": {},
   "source": [
    "## Anim Mapper\n",
    "\n",
    "The animation mapper takes as paramter the character to match.  \n",
    "It will allows you to create a new animation with the proper positions and quats list so you can directly render the character without the need to passe the bone names.\n",
    "\n",
    "It also by default replace the translations with the one coming from the character"
   ]
  },
  {
   "cell_type": "code",
   "execution_count": 5,
   "id": "b5a4f639-9cf4-46cc-a795-7b54314fcab1",
   "metadata": {},
   "outputs": [],
   "source": [
    "animmap = lab.AnimMapper(character)\n",
    "animb = animmap(anim)"
   ]
  },
  {
   "cell_type": "code",
   "execution_count": 6,
   "id": "517a7fc1-ba15-4262-8d74-794b02c40853",
   "metadata": {},
   "outputs": [
    {
     "data": {
      "application/vnd.jupyter.widget-view+json": {
       "model_id": "bb69e8d6f707498fbb573a5f3fb110b7",
       "version_major": 2,
       "version_minor": 0
      },
      "text/plain": [
       "interactive(children=(Timeline(value=0, children=(Play(value=0, description='play', interval=33, layout=Layout…"
      ]
     },
     "metadata": {},
     "output_type": "display_data"
    },
    {
     "data": {
      "application/vnd.jupyter.widget-view+json": {
       "model_id": "2dfb9cfbaeb3494cb4d6e1e4dff3d0b2",
       "version_major": 2,
       "version_minor": 0
      },
      "text/plain": [
       "Viewer(camera_far=2800.0, camera_near=20.0, camera_pitch=-18.0, camera_pos=[-370, 280, 350], camera_yaw=-45.0,…"
      ]
     },
     "execution_count": 6,
     "metadata": {},
     "output_type": "execute_result"
    }
   ],
   "source": [
    "def render(frame):\n",
    "    \n",
    "    p = (anim.pos[frame,...])\n",
    "    q = (anim.quats[frame,...])\n",
    "        \n",
    "    a = lab.utils.quat_to_mat(q, p)\n",
    "    \n",
    "    p = (animb.pos[frame,...])\n",
    "    q = (animb.quats[frame,...])\n",
    "        \n",
    "    b = lab.utils.quat_to_mat(q, p)\n",
    "    \n",
    "    \n",
    "    viewer.begin_shadow()\n",
    "    viewer.draw(character, b)\n",
    "    viewer.end_shadow()\n",
    "    \n",
    "    viewer.begin_display()\n",
    "    viewer.draw_ground()\n",
    "    viewer.draw(character, b)\n",
    "    viewer.end_display()\n",
    "\n",
    "    viewer.disable(depth_test=True)\n",
    "   \n",
    "    viewer.draw_lines(character.world_skeleton_lines(a, anim.bones))\n",
    "    viewer.draw_lines(character.world_skeleton_lines(b), color=np.array([1,0,1], dtype=np.float32))\n",
    "    \n",
    "    viewer.execute_commands()\n",
    "    \n",
    "interact(\n",
    "    render, \n",
    "    frame=lab.Timeline(max=anim.quats.shape[0]-1)\n",
    ")\n",
    "viewer"
   ]
  },
  {
   "cell_type": "markdown",
   "id": "be8a915d-6858-46b2-bf41-960158a1c46c",
   "metadata": {},
   "source": [
    "### Compute the root motion"
   ]
  },
  {
   "cell_type": "code",
   "execution_count": 7,
   "id": "19161543-706a-4d70-bf99-9b8c0bf76e92",
   "metadata": {},
   "outputs": [],
   "source": [
    "animmap = lab.AnimMapper(character, root_motion=True)\n",
    "animb = animmap(anim)"
   ]
  },
  {
   "cell_type": "markdown",
   "id": "f2d4f949-c1d2-42ab-80ea-3be7909fc854",
   "metadata": {},
   "source": [
    "### Mirror the animation"
   ]
  },
  {
   "cell_type": "code",
   "execution_count": 8,
   "id": "3c7f2c25-3b19-44c8-8fac-a2cca13040e0",
   "metadata": {},
   "outputs": [],
   "source": [
    "animmap = lab.AnimMapper(character, root_motion=True, mirror=True)\n",
    "animb = animmap(anim)"
   ]
  },
  {
   "cell_type": "markdown",
   "id": "ae526a3f-6b82-437f-b7de-45fe7d98c147",
   "metadata": {},
   "source": [
    "### Match the feet positions\n",
    "And we can also offset any bone locally "
   ]
  },
  {
   "cell_type": "code",
   "execution_count": 9,
   "id": "8848722f-64bd-4cae-a9bf-40c2134e09a2",
   "metadata": {},
   "outputs": [],
   "source": [
    "animmap = lab.AnimMapper(character, root_motion=True, match_effectors=True, local_offsets={'Hips':[0, -25, 0]})\n",
    "animb = animmap(anim)"
   ]
  },
  {
   "cell_type": "markdown",
   "id": "427f522b-97cf-4de4-a051-6daf4d0dcc37",
   "metadata": {},
   "source": [
    "### Match feet and hands positions"
   ]
  },
  {
   "cell_type": "code",
   "execution_count": 10,
   "id": "08e1de4f-01b5-4c17-83b6-22e2c0ca946e",
   "metadata": {},
   "outputs": [],
   "source": [
    "animmap = lab.AnimMapper(character, root_motion=True, match_effectors=True, local_offsets={'Hips':[0, -10, 0]}, effector_names=['LeftFoot', 'RightFoot', 'LeftHand', 'RightHand'])\n",
    "animb = animmap(anim)"
   ]
  },
  {
   "cell_type": "markdown",
   "id": "d4fe96ac-0866-4f3c-8913-09e976f343e0",
   "metadata": {},
   "source": [
    "## Use an AnimMapper at loading time\n",
    "\n",
    "we can pass the animation mapper directly when loading the animation.  \n",
    "This works for both 'import_bvh' and 'import_usd_animation'"
   ]
  },
  {
   "cell_type": "code",
   "execution_count": 11,
   "id": "07ff6d5c-40c3-45e6-b546-1ba319dc7a42",
   "metadata": {},
   "outputs": [],
   "source": [
    "animmap = lab.AnimMapper(character, root_motion=True, match_effectors=True)\n",
    "anim = lab.import_bvh('push1_subject2.bvh', anim_mapper=animmap)"
   ]
  },
  {
   "cell_type": "markdown",
   "id": "8a88c0e2-df53-4295-819c-fe5fe7730106",
   "metadata": {},
   "source": [
    "## Render spheres to represent the skeleton\n",
    "\n",
    "As the draw command can take multiple xform for rigid instancing rendering, we can pass a rigid asset and all the matrices from the skeleton"
   ]
  },
  {
   "cell_type": "code",
   "execution_count": 12,
   "id": "e9b93234-283a-4ef1-8287-30cb4e4c01c1",
   "metadata": {},
   "outputs": [],
   "source": [
    "sphere = viewer.create_sphere(radius=8)"
   ]
  },
  {
   "cell_type": "code",
   "execution_count": 15,
   "id": "8aeca031-2c24-4788-b999-da438bf269a1",
   "metadata": {},
   "outputs": [
    {
     "data": {
      "application/vnd.jupyter.widget-view+json": {
       "model_id": "e42794858eda40e49e1efac0a1939678",
       "version_major": 2,
       "version_minor": 0
      },
      "text/plain": [
       "interactive(children=(Timeline(value=0, children=(Play(value=0, description='play', interval=33, layout=Layout…"
      ]
     },
     "metadata": {},
     "output_type": "display_data"
    },
    {
     "data": {
      "application/vnd.jupyter.widget-view+json": {
       "model_id": "2dfb9cfbaeb3494cb4d6e1e4dff3d0b2",
       "version_major": 2,
       "version_minor": 0
      },
      "text/plain": [
       "Viewer(camera_far=2800.0, camera_near=20.0, camera_pitch=-11.000000000000004, camera_pos=[-269.28262214655, 15…"
      ]
     },
     "execution_count": 15,
     "metadata": {},
     "output_type": "execute_result"
    }
   ],
   "source": [
    "def render(frame):\n",
    "    \n",
    "    p = (anim.pos[frame,...])\n",
    "    q = (anim.quats[frame,...])\n",
    "        \n",
    "    a = lab.utils.quat_to_mat(q, p)\n",
    "    \n",
    "    viewer.begin_shadow()\n",
    "    # to pass the skeleton bone we have to convert the matrices to worldspace (otherwise we see the local space)\n",
    "    viewer.draw(sphere, character.world_skeleton_xforms(a))\n",
    "    viewer.end_shadow()\n",
    "    \n",
    "    viewer.begin_display()\n",
    "    viewer.draw_ground()\n",
    "    # to pass the skeleton bone we have to convert the matrices to worldspace (otherwise we see the local space)\n",
    "    viewer.draw(sphere, character.world_skeleton_xforms(a))\n",
    "    viewer.end_display()\n",
    "\n",
    "    viewer.disable(depth_test=True)\n",
    "    viewer.draw_axis(character.world_skeleton_xforms(a), 5)\n",
    "\n",
    "    viewer.draw_lines(character.world_skeleton_lines(a))\n",
    "    \n",
    "    viewer.execute_commands()\n",
    "    \n",
    "interact(\n",
    "    render, \n",
    "    frame=lab.Timeline(max=anim.quats.shape[0]-1)\n",
    ")\n",
    "viewer"
   ]
  }
 ],
 "metadata": {
  "kernelspec": {
   "display_name": "Python 3 (ipykernel)",
   "language": "python",
   "name": "python3"
  },
  "language_info": {
   "codemirror_mode": {
    "name": "ipython",
    "version": 3
   },
   "file_extension": ".py",
   "mimetype": "text/x-python",
   "name": "python",
   "nbconvert_exporter": "python",
   "pygments_lexer": "ipython3",
   "version": "3.10.10"
  }
 },
 "nbformat": 4,
 "nbformat_minor": 5
}
