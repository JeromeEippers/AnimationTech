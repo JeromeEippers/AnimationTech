{
 "cells": [
  {
   "cell_type": "markdown",
   "id": "482f6e90-5aa8-4b22-b2ee-50fbc98d79ee",
   "metadata": {},
   "source": [
    "# Change the time of day\n",
    "\n",
    "We can call the set_time_of_day method on the viewer to change the time between dawn (0) to noon (60)"
   ]
  },
  {
   "cell_type": "code",
   "execution_count": 1,
   "id": "43b70f7d-89a1-473a-a0e8-08626acd7f35",
   "metadata": {},
   "outputs": [],
   "source": [
    "import numpy as np\n",
    "from ipywidgets import widgets, interact, interactive\n",
    "\n",
    "import ipyanimlab as lab\n",
    "viewer = lab.Viewer(shadow_quality=lab.ShadowQuality.HIGH, move_speed=5, width=800, height=600)"
   ]
  },
  {
   "cell_type": "markdown",
   "id": "f878641a-dbba-4ff8-8652-e24d22a03cf9",
   "metadata": {},
   "source": [
    "## Load the USD Asset\n",
    "As static asset the ShaderBall is accessible directly from internal resources"
   ]
  },
  {
   "cell_type": "code",
   "execution_count": 3,
   "id": "b9d400e7-7c1c-4a7b-83d5-b472d6dc7784",
   "metadata": {},
   "outputs": [],
   "source": [
    "asset = viewer.import_usd_asset('ShaderBall')"
   ]
  },
  {
   "cell_type": "markdown",
   "id": "fcdefb96-cc6f-4915-98b1-6cc2a92a731e",
   "metadata": {},
   "source": [
    "## Interact with the time of day"
   ]
  },
  {
   "cell_type": "code",
   "execution_count": 7,
   "id": "ff88ab43-8979-46c3-905b-1f14fe845672",
   "metadata": {},
   "outputs": [
    {
     "data": {
      "application/vnd.jupyter.widget-view+json": {
       "model_id": "8347de5f175a48dca205acbbca5ed3d8",
       "version_major": 2,
       "version_minor": 0
      },
      "text/plain": [
       "interactive(children=(IntSlider(value=10, description='time_of_day', max=60), Output()), _dom_classes=('widget…"
      ]
     },
     "metadata": {},
     "output_type": "display_data"
    },
    {
     "data": {
      "application/vnd.jupyter.widget-view+json": {
       "model_id": "469250163acc447ea645a0504c99d125",
       "version_major": 2,
       "version_minor": 0
      },
      "text/plain": [
       "Viewer(camera_far=2800.0, camera_near=20.0, camera_pitch=-30.200000000000017, camera_pos=[-24.760860705474876,…"
      ]
     },
     "execution_count": 7,
     "metadata": {},
     "output_type": "execute_result"
    }
   ],
   "source": [
    "def render(time_of_day):\n",
    "\n",
    "    #the time between dawn (0) to noon (60)\n",
    "    viewer.set_time_of_day(time_of_day)\n",
    "    \n",
    "    # start the rendering of the shadow\n",
    "    viewer.begin_shadow()\n",
    "    # render the asset at default position in the shadow\n",
    "    viewer.draw(asset)\n",
    "    # end the shadow\n",
    "    viewer.end_shadow()\n",
    "    \n",
    "    # start the rendering of the scene\n",
    "    viewer.begin_display()\n",
    "    # render the default ground\n",
    "    viewer.draw_ground()\n",
    "    # render the asset at default position\n",
    "    viewer.draw(asset)\n",
    "    # display the image\n",
    "    viewer.end_display()\n",
    "    \n",
    "    # send all the command to webgl\n",
    "    viewer.execute_commands()\n",
    "\n",
    "interact(\n",
    "    render,\n",
    "    time_of_day=widgets.IntSlider(min=0, max=60, value=10)\n",
    ")\n",
    "\n",
    "# show the viewer\n",
    "viewer"
   ]
  }
 ],
 "metadata": {
  "kernelspec": {
   "display_name": "Python 3 (ipykernel)",
   "language": "python",
   "name": "python3"
  },
  "language_info": {
   "codemirror_mode": {
    "name": "ipython",
    "version": 3
   },
   "file_extension": ".py",
   "mimetype": "text/x-python",
   "name": "python",
   "nbconvert_exporter": "python",
   "pygments_lexer": "ipython3",
   "version": "3.10.10"
  }
 },
 "nbformat": 4,
 "nbformat_minor": 5
}
